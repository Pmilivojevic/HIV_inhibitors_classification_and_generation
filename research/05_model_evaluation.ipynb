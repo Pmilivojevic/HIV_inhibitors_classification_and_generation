{
 "cells": [
  {
   "cell_type": "code",
   "execution_count": 1,
   "metadata": {},
   "outputs": [
    {
     "data": {
      "text/plain": [
       "'/mnt/cb03386d-9344-47b1-82f9-868fbb64b4ae/python_projects/HIV_inhibitors_classification_and_generation/research'"
      ]
     },
     "execution_count": 1,
     "metadata": {},
     "output_type": "execute_result"
    }
   ],
   "source": [
    "import os\n",
    "%pwd"
   ]
  },
  {
   "cell_type": "code",
   "execution_count": 2,
   "metadata": {},
   "outputs": [
    {
     "data": {
      "text/plain": [
       "'/mnt/cb03386d-9344-47b1-82f9-868fbb64b4ae/python_projects/HIV_inhibitors_classification_and_generation'"
      ]
     },
     "execution_count": 2,
     "metadata": {},
     "output_type": "execute_result"
    }
   ],
   "source": [
    "os.chdir(\"../\")\n",
    "%pwd"
   ]
  },
  {
   "cell_type": "code",
   "execution_count": 3,
   "metadata": {},
   "outputs": [],
   "source": [
    "from dataclasses import dataclass\n",
    "from pathlib import Path\n",
    "from typing import List\n",
    "\n",
    "@dataclass(frozen=True)\n",
    "class ModelEvaluationConfig:\n",
    "    root_dir: Path\n",
    "    model_folder_path: Path\n",
    "    source_root: Path\n",
    "    processed_root: Path\n",
    "    source_filename: Path\n",
    "    processed_filename: List[str]\n",
    "    params: dict"
   ]
  },
  {
   "cell_type": "code",
   "execution_count": 17,
   "metadata": {},
   "outputs": [],
   "source": [
    "from hivclass.constants import *\n",
    "from hivclass.utils.main_utils import create_directories, read_yaml\n",
    "\n",
    "class ConfigurationManager:\n",
    "    def __init__(\n",
    "        self,\n",
    "        config_file_path = CONFIG_FILE_PATH,\n",
    "        params_file_path = PARAMS_FILE_PATH,\n",
    "        schema_file_path = SCHEMA_FILE_PATH\n",
    "    ):\n",
    "        self.config = read_yaml(config_file_path)\n",
    "        self.params = read_yaml(params_file_path)\n",
    "        self.schema = read_yaml(schema_file_path)\n",
    "        \n",
    "        create_directories([self.config.artifacts_root])\n",
    "    \n",
    "    def get_model_evaluation_config(self) -> ModelEvaluationConfig:\n",
    "        config = self.config.model_evaluation\n",
    "        params = self.params.BEST_PARAMETERS\n",
    "        \n",
    "        create_directories([config.root_dir])\n",
    "        \n",
    "        model_evaluation_config = ModelEvaluationConfig(\n",
    "            root_dir=config.root_dir,\n",
    "            model_folder_path=config.model_folder_path,\n",
    "            source_root=config.source_root,\n",
    "            processed_root=config.processed_root,\n",
    "            source_filename=config.source_filename,\n",
    "            processed_filename=config.processed_filename,\n",
    "            params=params\n",
    "        )\n",
    "        \n",
    "        return model_evaluation_config"
   ]
  },
  {
   "cell_type": "code",
   "execution_count": 15,
   "metadata": {},
   "outputs": [],
   "source": [
    "from hivclass.utils.molecule_dataset import MoleculeDataset\n",
    "from sklearn.metrics import accuracy_score, classification_report, confusion_matrix, roc_auc_score\n",
    "from hivclass.utils.molecule_dataset import MoleculeDataset\n",
    "from hivclass.utils.mol_gnn import MolGNN\n",
    "import os\n",
    "from hivclass.utils.main_utils import save_json, plot_confusion_matrix, plot_roc_curve\n",
    "import torch \n",
    "from torch_geometric.data import DataLoader\n",
    "from box import ConfigBox\n",
    "import sys\n",
    "from tqdm import tqdm\n",
    "\n",
    "class ModelEvaluation:\n",
    "    def __init__(self, config: ModelEvaluationConfig):\n",
    "        self.config = config\n",
    "    \n",
    "    def dataset_preparation(self):\n",
    "        test_dataset = MoleculeDataset(\n",
    "            source_root=self.config.source_root,\n",
    "            processed_root=self.config.processed_root,\n",
    "            source_filename=self.config.source_filename,\n",
    "            procesed_filename=self.config.processed_filename,\n",
    "            test=True\n",
    "        )\n",
    "        \n",
    "        test_loader = DataLoader(test_dataset, batch_size=self.config.params['batch_size'])\n",
    "        \n",
    "        return test_dataset, test_loader\n",
    "    \n",
    "    def model_preparation(self, dataset, device):\n",
    "        params = self.config.params\n",
    "        params['model_edge_dim'] = dataset[0].edge_attr.shape[1]\n",
    "        model_params = ConfigBox({k: v for k, v in params.items() if k.startswith(\"model_\")})\n",
    "        \n",
    "        model = MolGNN(feature_size=dataset[0].x.shape[1], model_params=model_params).to(device)\n",
    "        \n",
    "        model_path = os.path.join(\n",
    "            self.config.model_folder_path,\n",
    "            os.listdir(self.config.model_folder_path)[0]\n",
    "        )\n",
    "        \n",
    "        if os.path.exists(model_path):\n",
    "            model.load_state_dict(torch.load(model_path, map_location=device))\n",
    "            print(f\"Model loaded from {model_path}\")\n",
    "        else:\n",
    "            raise FileNotFoundError(f\"Model file {model_path} not found\")\n",
    "        \n",
    "        return model\n",
    "    \n",
    "    def testing(self, test_loader, model, device):\n",
    "        model.eval()\n",
    "        test_preds = []\n",
    "        test_labels = []\n",
    "        \n",
    "        with torch.no_grad():\n",
    "            for i, batch in tqdm(enumerate(test_loader)):\n",
    "                batch = batch.to(device)\n",
    "                \n",
    "                preds = model(batch.x.float(), batch.edge_attr.float(), batch.edge_index, batch.batch)\n",
    "                test_preds.extend(torch.round(torch.squeeze(preds)).cpu().detach().numpy())\n",
    "                test_labels.extend(batch.y.cpu().detach().numpy())\n",
    "                \n",
    "                accuracy = accuracy_score(test_labels, test_preds)\n",
    "                \n",
    "                sys.stdout.write(\n",
    "                    \"Batch:%2d/%2d - test_accuracy:%.4f\" %(\n",
    "                        i,\n",
    "                        len(test_loader),\n",
    "                        accuracy\n",
    "                    )\n",
    "                )\n",
    "                sys.stdout.flush()\n",
    "        \n",
    "        return test_preds, test_labels\n",
    "    \n",
    "    def evaluation(self):\n",
    "        device = torch.device(\"cuda\" if torch.cuda.is_available() else \"cpu\")\n",
    "        print(\"device:\", device)\n",
    "        \n",
    "        test_dataset, test_loader = self.dataset_preparation()\n",
    "        \n",
    "        model = self.model_preparation(test_dataset, device)\n",
    "        \n",
    "        test_preds, test_labels = self.testing(test_loader, model, device)\n",
    "        \n",
    "        report = classification_report(\n",
    "                    test_labels,\n",
    "                    test_preds,\n",
    "                    zero_division=0,\n",
    "                    output_dict=True\n",
    "                )\n",
    "\n",
    "        save_json(\n",
    "            os.path.join(self.config.root_dir, f'report.json'),\n",
    "            report\n",
    "        )\n",
    "\n",
    "        conf_matrix = confusion_matrix(test_labels, test_preds)\n",
    "\n",
    "        plot_confusion_matrix(\n",
    "            conf_matrix,\n",
    "            self.config.root_dir,\n",
    "            'test'\n",
    "        )\n",
    "\n",
    "        auc_score = roc_auc_score(test_labels, test_labels)\n",
    "        auc_score_dict = {'auc_score': auc_score}\n",
    "\n",
    "        save_json(\n",
    "            os.path.join(self.config.root_dir, f'auc_score.json'), \n",
    "            auc_score_dict\n",
    "        )\n",
    "        \n",
    "        plot_roc_curve(\n",
    "            test_labels,\n",
    "            test_preds,\n",
    "            self.config.root_dir,\n",
    "            'test'\n",
    "        )"
   ]
  },
  {
   "cell_type": "code",
   "execution_count": 16,
   "metadata": {},
   "outputs": [
    {
     "name": "stdout",
     "output_type": "stream",
     "text": [
      "[2025-04-20 16:51:24,060: INFO: main_utils: created directory at: artifacts]\n",
      "[2025-04-20 16:51:24,062: INFO: main_utils: created directory at: artifacts/model_evaluation]\n"
     ]
    },
    {
     "name": "stderr",
     "output_type": "stream",
     "text": [
      "/mnt/cb03386d-9344-47b1-82f9-868fbb64b4ae/python_projects/HIV_inhibitors_classification_and_generation/env/lib/python3.10/site-packages/torch_geometric/deprecation.py:26: UserWarning: 'data.DataLoader' is deprecated, use 'loader.DataLoader' instead\n",
      "  warnings.warn(out)\n"
     ]
    },
    {
     "name": "stdout",
     "output_type": "stream",
     "text": [
      "device: cuda\n",
      "Model loaded from artifacts/model_trainer/models/best_params/model_0.pth\n"
     ]
    },
    {
     "name": "stderr",
     "output_type": "stream",
     "text": [
      "0it [00:00, ?it/s]"
     ]
    },
    {
     "name": "stdout",
     "output_type": "stream",
     "text": [
      "Batch: 0/ 3 - test_accuracy:0.4727"
     ]
    },
    {
     "name": "stderr",
     "output_type": "stream",
     "text": [
      "1it [00:00,  1.38it/s]"
     ]
    },
    {
     "name": "stdout",
     "output_type": "stream",
     "text": [
      "Batch: 1/ 3 - test_accuracy:0.4980"
     ]
    },
    {
     "name": "stderr",
     "output_type": "stream",
     "text": [
      "2it [00:01,  1.30it/s]"
     ]
    },
    {
     "name": "stdout",
     "output_type": "stream",
     "text": [
      "Batch: 2/ 3 - test_accuracy:0.5017"
     ]
    },
    {
     "name": "stderr",
     "output_type": "stream",
     "text": [
      "3it [00:01,  1.69it/s]"
     ]
    },
    {
     "name": "stdout",
     "output_type": "stream",
     "text": [
      "[2025-04-20 16:51:25,919: INFO: main_utils: json file saved at: artifacts/model_evaluation/report.json]\n",
      "[2025-04-20 16:51:26,073: INFO: main_utils: json file saved at: artifacts/model_evaluation/auc_score.json]\n"
     ]
    },
    {
     "name": "stderr",
     "output_type": "stream",
     "text": [
      "\n"
     ]
    },
    {
     "data": {
      "image/png": "[encoded data removed]",
      "text/plain": [
       "<Figure size 640x480 with 2 Axes>"
      ]
     },
     "metadata": {},
     "output_type": "display_data"
    },
    {
     "data": {
      "image/png": "[encoded data removed]",
      "text/plain": [
       "<Figure size 640x480 with 1 Axes>"
      ]
     },
     "metadata": {},
     "output_type": "display_data"
    }
   ],
   "source": [
    "try:\n",
    "    config = ConfigurationManager()\n",
    "    model_evaluation_config = config.get_model_evaluation_config()\n",
    "    model_evaluation = ModelEvaluation(config=model_evaluation_config)\n",
    "    model_evaluation.evaluation()\n",
    "\n",
    "except Exception as e:\n",
    "    raise e"
   ]
  },
  {
   "cell_type": "code",
   "execution_count": null,
   "metadata": {},
   "outputs": [],
   "source": []
  }
 ],
 "metadata": {
  "kernelspec": {
   "display_name": "env",
   "language": "python",
   "name": "python3"
  },
  "language_info": {
   "codemirror_mode": {
    "name": "ipython",
    "version": 3
   },
   "file_extension": ".py",
   "mimetype": "text/x-python",
   "name": "python",
   "nbconvert_exporter": "python",
   "pygments_lexer": "ipython3",
   "version": "3.10.12"
  }
 },
 "nbformat": 4,
 "nbformat_minor": 2
}

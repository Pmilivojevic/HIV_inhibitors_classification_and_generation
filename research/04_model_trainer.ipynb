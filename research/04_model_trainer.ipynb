{
 "cells": [
  {
   "cell_type": "code",
   "execution_count": 2,
   "metadata": {},
   "outputs": [
    {
     "data": {
      "text/plain": [
       "'/mnt/cb03386d-9344-47b1-82f9-868fbb64b4ae/python_projects/HIV_inhibitors_classification_and_generation/research'"
      ]
     },
     "execution_count": 2,
     "metadata": {},
     "output_type": "execute_result"
    }
   ],
   "source": [
    "import os\n",
    "%pwd"
   ]
  },
  {
   "cell_type": "code",
   "execution_count": 3,
   "metadata": {},
   "outputs": [
    {
     "data": {
      "text/plain": [
       "'/mnt/cb03386d-9344-47b1-82f9-868fbb64b4ae/python_projects/HIV_inhibitors_classification_and_generation'"
      ]
     },
     "execution_count": 3,
     "metadata": {},
     "output_type": "execute_result"
    }
   ],
   "source": [
    "os.chdir(\"../\")\n",
    "%pwd"
   ]
  },
  {
   "cell_type": "code",
   "execution_count": 4,
   "metadata": {},
   "outputs": [],
   "source": [
    "from dataclasses import dataclass\n",
    "from pathlib import Path\n",
    "from typing import List\n",
    "\n",
    "@dataclass(frozen=True)\n",
    "class ModelTrainerConfig:\n",
    "    root_dir: Path\n",
    "    models: Path\n",
    "    stats: Path\n",
    "    source_root: Path\n",
    "    processed_root: Path\n",
    "    source_filename: str\n",
    "    processed_filename: List[str]\n",
    "    tuning: bool\n",
    "    params: dict"
   ]
  },
  {
   "cell_type": "code",
   "execution_count": 5,
   "metadata": {},
   "outputs": [],
   "source": [
    "from hivclass.constants import *\n",
    "from hivclass.utils.main_utils import create_directories, read_yaml\n",
    "\n",
    "class ConfigurationManager:\n",
    "    def __init__(\n",
    "        self,\n",
    "        config_file_path = CONFIG_FILE_PATH,\n",
    "        params_file_path = PARAMS_FILE_PATH,\n",
    "        schema_file_path = SCHEMA_FILE_PATH\n",
    "    ):\n",
    "        self.config = read_yaml(config_file_path)\n",
    "        self.params = read_yaml(params_file_path)\n",
    "        self.schema = read_yaml(schema_file_path)\n",
    "        \n",
    "        create_directories([self.config.artifacts_root])\n",
    "    \n",
    "    def get_model_trainer_config(self) -> ModelTrainerConfig:\n",
    "        config = self.config.model_trainer\n",
    "        params = self.params\n",
    "        \n",
    "        create_directories([config.root_dir, config.models, config.stats])\n",
    "        \n",
    "        model_trainer_config = ModelTrainerConfig(\n",
    "            root_dir=config.root_dir,\n",
    "            models=config.models,\n",
    "            stats=config.stats,\n",
    "            source_root=config.source_root,\n",
    "            processed_root=config.processed_root,\n",
    "            source_filename=config.source_filename,\n",
    "            processed_filename=config.processed_filename,\n",
    "            tuning=config.tuning,\n",
    "            params=params\n",
    "        )\n",
    "        \n",
    "        return model_trainer_config"
   ]
  },
  {
   "cell_type": "code",
   "execution_count": 9,
   "metadata": {},
   "outputs": [],
   "source": [
    "from hivclass.utils.molecule_dataset import MoleculeDataset\n",
    "from sklearn.model_selection import train_test_split\n",
    "from sklearn.metrics import accuracy_score, classification_report, confusion_matrix, roc_auc_score\n",
    "import yaml\n",
    "import numpy as np\n",
    "import pandas as pd\n",
    "from hivclass.utils.molecule_dataset import MoleculeDataset\n",
    "from hivclass.utils.mol_gnn import MolGNN\n",
    "from hivclass.utils.main_utils import save_json, plot_metric, plot_confusion_matrix, plot_roc_curve\n",
    "import torch \n",
    "from torch_geometric.data import DataLoader\n",
    "from box import ConfigBox\n",
    "import sys\n",
    "from tqdm import tqdm\n",
    "from mango import Tuner\n",
    "\n",
    "class ModelTrainer:\n",
    "    def __init__(self, config: ModelTrainerConfig):\n",
    "        self.config = config\n",
    "    \n",
    "    def train_val_separation(self, train_dataset):\n",
    "        data_df = pd.read_csv(os.path.join(self.config.processed_root, self.config.processed_filename[3]))\n",
    "        \n",
    "        # data_name_list = os.listdir(os.path.join(self.config.processed_root, self.config.processed_filename[1]))\n",
    "        # data_idxs = [int(name.split('.')[0].split('_')[1]) for name in data_name_list]\n",
    "        # data_labels = [data_df.HIV_active[i] for i in data_idxs]\n",
    "        \n",
    "        train_df, val_df = train_test_split(\n",
    "            data_df,\n",
    "            test_size=self.config.params.data_transformation.val_size,\n",
    "            stratify=data_df.HIV_active,\n",
    "            random_state=42\n",
    "        )\n",
    "        \n",
    "        # train_idxs, val_idxs, _, _ = train_test_split(\n",
    "        #     data_idxs,\n",
    "        #     data_labels,\n",
    "        #     test_size=self.config.model_params.val_size,\n",
    "        #     stratify=data_labels,\n",
    "        #     random_state=42\n",
    "        # )\n",
    "        \n",
    "        train_idxs = train_df.index.tolist()\n",
    "        val_idxs = val_df.index.tolist()\n",
    "        \n",
    "        train = train_dataset.index_select(train_idxs)\n",
    "        val = train_dataset.index_select(val_idxs)\n",
    "        \n",
    "        return train, val\n",
    "    \n",
    "    def train(self, params, epoch, model, train_loader, optimizer, criterion, device):\n",
    "        model.train()\n",
    "        total_loss = 0.0\n",
    "        train_preds = []\n",
    "        train_labels = []\n",
    "        \n",
    "        for i, batch in tqdm(enumerate(train_loader)):\n",
    "            batch.to(device)\n",
    "            optimizer.zero_grad()\n",
    "            \n",
    "            preds = model(batch.x.float(), batch.edge_attr.float(), batch.edge_index, batch.batch)\n",
    "            train_preds.extend(np.rint(torch.sigmoid(preds).cpu().detach().numpy()))\n",
    "            train_labels.extend(batch.y.cpu().detach().numpy())\n",
    "            \n",
    "            loss = criterion(torch.squeeze(preds), batch.y.float())\n",
    "            loss.backward()\n",
    "            optimizer.step()\n",
    "            \n",
    "            accuracy = accuracy_score(train_labels, train_preds)\n",
    "            \n",
    "            total_loss += loss.item()\n",
    "            \n",
    "            print()\n",
    "            sys.stdout.write(\n",
    "                \"Epoch:%2d/%2d - Batch:%2d/%2d - train_loss:%.4f - train_accuracy:%.4f\" %(\n",
    "                    epoch,\n",
    "                    params.num_epochs,\n",
    "                    i,\n",
    "                    len(train_loader),\n",
    "                    loss.item(),\n",
    "                    accuracy\n",
    "                )\n",
    "            )\n",
    "            sys.stdout.flush()\n",
    "        \n",
    "        return total_loss / len(train_loader), accuracy\n",
    "    \n",
    "    def validation(self, epoch, model, val_loader, criterion, best_val_loss, stats_path,  device):\n",
    "        model.eval()\n",
    "        total_loss = 0.0\n",
    "        val_preds = []\n",
    "        val_labels = []\n",
    "        \n",
    "        with torch.no_grad():\n",
    "            for batch in tqdm(val_loader):\n",
    "                batch.to(device)\n",
    "                \n",
    "                preds = model(batch.x.float(), batch.edge_attr.float(), batch.edge_index, batch.batch)\n",
    "                val_preds.extend(torch.round(torch.squeeze(preds)).cpu().detach().numpy())\n",
    "                val_labels.extend(batch.y.cpu().detach().numpy())\n",
    "                \n",
    "                loss = criterion(torch.squeeze(preds), batch.y.float())\n",
    "                total_loss += loss.item()\n",
    "                accuracy = accuracy_score(val_labels, val_preds)\n",
    "            \n",
    "            epoch_loss = total_loss / len(val_loader)\n",
    "            \n",
    "            if epoch_loss < best_val_loss:\n",
    "                report = classification_report(\n",
    "                    val_labels,\n",
    "                    val_preds,\n",
    "                    zero_division=0,\n",
    "                    output_dict=True\n",
    "                )\n",
    "\n",
    "                save_json(\n",
    "                    os.path.join(stats_path, f'report_{epoch}.json'),\n",
    "                    report\n",
    "                )\n",
    "\n",
    "                conf_matrix = confusion_matrix(val_labels, val_preds)\n",
    "\n",
    "                plot_confusion_matrix(\n",
    "                    conf_matrix,\n",
    "                    stats_path,\n",
    "                    epoch,\n",
    "                    f'Confusion Matrix for epoch: {epoch}'\n",
    "                )\n",
    "\n",
    "                auc_score = roc_auc_score(val_labels, val_preds)\n",
    "                auc_score_dict = {'auc_score': auc_score}\n",
    "\n",
    "                save_json(\n",
    "                    os.path.join(stats_path, f'auc_score_{epoch}.json'), \n",
    "                    auc_score_dict\n",
    "                )\n",
    "                \n",
    "                plot_roc_curve(\n",
    "                    val_labels,\n",
    "                    val_preds,\n",
    "                    stats_path,\n",
    "                    epoch\n",
    "                )\n",
    "                \n",
    "        return epoch_loss, accuracy\n",
    "    \n",
    "    def train_tuning(self):\n",
    "        device = torch.device(\"cuda\" if torch.cuda.is_available() else \"cpu\")\n",
    "        print(\"device:\", device)\n",
    "        \n",
    "        dataset = MoleculeDataset(\n",
    "            self.config.source_root,\n",
    "            self.config.processed_root,\n",
    "            self.config.source_filename,\n",
    "            self.config.processed_filename\n",
    "        )\n",
    "        \n",
    "        train_dataset, val_dataset = self.train_val_separation(dataset)\n",
    "        \n",
    "        def train_compose(params):\n",
    "            params = params[0]\n",
    "            \n",
    "            if self.config.tuning:\n",
    "                folder_name = str(len(os.listdir(self.config.stats)) + 1)\n",
    "            else:\n",
    "                folder_name = \"best_params\"\n",
    "            \n",
    "            models_path = os.path.join(self.config.models, folder_name)\n",
    "            stats_path = os.path.join(self.config.stats, folder_name)\n",
    "            \n",
    "            create_directories([models_path, stats_path])\n",
    "            \n",
    "            with open(os.path.join(stats_path, \"params.yaml\"), 'w') as file:\n",
    "                file.write(yaml.dump(params, sort_keys=False))\n",
    "            \n",
    "            params = ConfigBox(params)\n",
    "            \n",
    "            train_loader = DataLoader(train_dataset, batch_size=params['batch_size'], shuffle=True)\n",
    "            val_loader = DataLoader(val_dataset, batch_size=params['batch_size'], shuffle=False)\n",
    "            params[\"model_edge_dim\"] = train_dataset[0].edge_attr.shape[1]\n",
    "            \n",
    "            print(\"Loading model...\")\n",
    "            model_params = ConfigBox({k: v for k, v in params.items() if k.startswith(\"model_\")})\n",
    "            model = MolGNN(feature_size=train_dataset[0].x.shape[1], model_params=model_params)\n",
    "            model = model.to(device)\n",
    "            \n",
    "            weight = torch.tensor([params[\"pos_weight\"]], dtype=torch.float32).to(device)\n",
    "            criterion = torch.nn.BCEWithLogitsLoss(pos_weight=weight)\n",
    "            optimizer = torch.optim.SGD(\n",
    "                model.parameters(),\n",
    "                lr=params['learning_rate'],\n",
    "                momentum=params['sgd_momentum'],\n",
    "                weight_decay=params['weight_decay']\n",
    "            )\n",
    "            \n",
    "            scheduler = torch.optim.lr_scheduler.ExponentialLR(optimizer, gamma=params.scheduler_gamma)\n",
    "            \n",
    "            train_losses = []\n",
    "            val_losses = []\n",
    "            train_accuracies = []\n",
    "            val_accuracies = []\n",
    "            best_val_loss = float('inf')\n",
    "            early_stopping_counter = 0\n",
    "            epochs_range = range(1, params.num_epochs + 1)\n",
    "            \n",
    "            for epoch in tqdm(range(params.num_epochs)):\n",
    "                if early_stopping_counter <= 10:\n",
    "                    train_epoch_loss, train_epoch_acc = self.train(\n",
    "                        params,\n",
    "                        epoch,\n",
    "                        model,\n",
    "                        train_loader,\n",
    "                        optimizer,\n",
    "                        criterion,\n",
    "                        device\n",
    "                    )\n",
    "                    \n",
    "                    train_losses.append(train_epoch_loss)\n",
    "                    train_accuracies.append(train_epoch_acc)\n",
    "                    \n",
    "                    val_epoch_loss, val_epoch_acc = self.validation(\n",
    "                        epoch,\n",
    "                        model,\n",
    "                        val_loader,\n",
    "                        criterion,\n",
    "                        best_val_loss,\n",
    "                        stats_path,\n",
    "                        device\n",
    "                    )\n",
    "                    \n",
    "                    val_losses.append(val_epoch_loss)\n",
    "                    val_accuracies.append(val_epoch_acc)\n",
    "                    \n",
    "                    print(f'Epoch [{epoch+1}/{params.num_epochs}], '\n",
    "                        f'Loss: {train_epoch_loss:.4f}, '\n",
    "                        f'Validation Loss: {val_epoch_loss:.4f}, '\n",
    "                        f'Train Accuracy: {train_epoch_acc:.2f}%, '\n",
    "                        f'Validation Accuracy: {val_epoch_acc:.2f}%')\n",
    "                    \n",
    "                    if float(val_epoch_loss) < best_val_loss:\n",
    "                        torch.save(model.state_dict(), os.path.join(models_path, f'model_{epoch}.pth'))\n",
    "                        best_val_loss = float(val_epoch_loss)\n",
    "                        early_stopping_counter = 0\n",
    "                    else:\n",
    "                        early_stopping_counter += 1\n",
    "                    \n",
    "                    scheduler.step()\n",
    "                else:\n",
    "                    print(\"Early stopping due to no improvement.\")\n",
    "                    \n",
    "                    plot_metric(\n",
    "                        stats_path,\n",
    "                        epochs_range,\n",
    "                        train_losses,\n",
    "                        val_losses,\n",
    "                        'Train Loss',\n",
    "                        'Validation Loss',\n",
    "                    )\n",
    "                    \n",
    "                    \n",
    "                    plot_metric(\n",
    "                        stats_path,\n",
    "                        epochs_range,\n",
    "                        train_accuracies,\n",
    "                        val_accuracies,\n",
    "                        'Train Accuracies',\n",
    "                        'Validation Accuracies',\n",
    "                    )\n",
    "                    \n",
    "                    return [best_val_loss]\n",
    "            \n",
    "            print(f\"Finishing training with best test loss: {best_val_loss}\")\n",
    "\n",
    "            plot_metric(\n",
    "                stats_path,\n",
    "                epochs_range,\n",
    "                train_losses,\n",
    "                val_losses,\n",
    "                'Train Loss',\n",
    "                'Validation Loss',\n",
    "            )\n",
    "            \n",
    "            \n",
    "            plot_metric(\n",
    "                stats_path,\n",
    "                epochs_range,\n",
    "                train_accuracies,\n",
    "                val_accuracies,\n",
    "                'Train Accuracies',\n",
    "                'Validation Accuracies',\n",
    "            )\n",
    "            \n",
    "            return [best_val_loss]\n",
    "        \n",
    "        if self.config.tuning:\n",
    "            print(\"Running hyperparameter search...\")\n",
    "            params = self.config.params.HYPERPARAMETERS\n",
    "            config = dict()\n",
    "            config[\"optimizer\"] = \"Bayesian\"\n",
    "            config[\"num_iteration\"] = params.tuning_iterations\n",
    "            \n",
    "            tuner = Tuner(params, objective=train_compose, conf_dict=config)\n",
    "            \n",
    "            results = tuner.minimize()\n",
    "            \n",
    "            self.config.params['BEST_PARAMETERS'] = results['best_parameters']\n",
    "            best_params = yaml.save_dump(self.config.params, sort_keys=False)\n",
    "            \n",
    "            with open(PARAMS_FILE_PATH, 'w') as file:\n",
    "                file.write(best_params)\n",
    "        else:\n",
    "            params = self.config.params.BEST_PARAMETERS\n",
    "            best_val_loss = train_compose(params)"
   ]
  },
  {
   "cell_type": "code",
   "execution_count": 10,
   "metadata": {},
   "outputs": [
    {
     "name": "stdout",
     "output_type": "stream",
     "text": [
      "[2025-04-08 23:03:21,425: INFO: main_utils: created directory at: artifacts]\n",
      "[2025-04-08 23:03:21,427: INFO: main_utils: created directory at: artifacts/model_trainer]\n",
      "[2025-04-08 23:03:21,428: INFO: main_utils: created directory at: artifacts/model_trainer/models]\n",
      "[2025-04-08 23:03:21,429: INFO: main_utils: created directory at: artifacts/model_trainer/stats]\n",
      "device: cuda\n",
      "Running hyperparameter search...\n",
      "[2025-04-08 23:03:21,812: INFO: main_utils: created directory at: artifacts/model_trainer/models/1]\n",
      "[2025-04-08 23:03:21,814: INFO: main_utils: created directory at: artifacts/model_trainer/stats/1]\n",
      "Loading model...\n"
     ]
    },
    {
     "name": "stderr",
     "output_type": "stream",
     "text": [
      "  0%|          | 0/100 [00:00<?, ?it/s]"
     ]
    },
    {
     "name": "stdout",
     "output_type": "stream",
     "text": [
      "\n",
      "Epoch: 0/100 - Batch: 0/971 - train_loss:0.8182 - train_accuracy:0.6094"
     ]
    },
    {
     "name": "stderr",
     "output_type": "stream",
     "text": []
    },
    {
     "name": "stdout",
     "output_type": "stream",
     "text": [
      "\n",
      "Epoch: 0/100 - Batch: 1/971 - train_loss:1.1937 - train_accuracy:0.5547"
     ]
    },
    {
     "name": "stderr",
     "output_type": "stream",
     "text": []
    },
    {
     "name": "stdout",
     "output_type": "stream",
     "text": [
      "\n",
      "Epoch: 0/100 - Batch: 2/971 - train_loss:1.1874 - train_accuracy:0.5469"
     ]
    },
    {
     "name": "stderr",
     "output_type": "stream",
     "text": []
    },
    {
     "name": "stdout",
     "output_type": "stream",
     "text": [
      "\n",
      "Epoch: 0/100 - Batch: 3/971 - train_loss:1.2503 - train_accuracy:0.5078"
     ]
    },
    {
     "name": "stderr",
     "output_type": "stream",
     "text": []
    },
    {
     "name": "stdout",
     "output_type": "stream",
     "text": [
      "\n",
      "Epoch: 0/100 - Batch: 4/971 - train_loss:0.9714 - train_accuracy:0.5188"
     ]
    },
    {
     "name": "stderr",
     "output_type": "stream",
     "text": []
    },
    {
     "name": "stdout",
     "output_type": "stream",
     "text": [
      "\n",
      "Epoch: 0/100 - Batch: 5/971 - train_loss:0.6226 - train_accuracy:0.5495"
     ]
    },
    {
     "name": "stderr",
     "output_type": "stream",
     "text": []
    },
    {
     "name": "stdout",
     "output_type": "stream",
     "text": [
      "\n",
      "Epoch: 0/100 - Batch: 6/971 - train_loss:1.0320 - train_accuracy:0.5402"
     ]
    },
    {
     "name": "stderr",
     "output_type": "stream",
     "text": []
    },
    {
     "name": "stdout",
     "output_type": "stream",
     "text": [
      "\n",
      "Epoch: 0/100 - Batch: 7/971 - train_loss:1.0393 - train_accuracy:0.5469"
     ]
    },
    {
     "name": "stderr",
     "output_type": "stream",
     "text": []
    },
    {
     "name": "stdout",
     "output_type": "stream",
     "text": [
      "\n",
      "Epoch: 0/100 - Batch: 8/971 - train_loss:0.9381 - train_accuracy:0.5451"
     ]
    },
    {
     "name": "stderr",
     "output_type": "stream",
     "text": []
    },
    {
     "name": "stdout",
     "output_type": "stream",
     "text": [
      "\n",
      "Epoch: 0/100 - Batch: 9/971 - train_loss:0.8966 - train_accuracy:0.5469"
     ]
    },
    {
     "name": "stderr",
     "output_type": "stream",
     "text": []
    },
    {
     "name": "stdout",
     "output_type": "stream",
     "text": [
      "\n",
      "Epoch: 0/100 - Batch:10/971 - train_loss:0.9014 - train_accuracy:0.5526"
     ]
    },
    {
     "name": "stderr",
     "output_type": "stream",
     "text": []
    },
    {
     "name": "stdout",
     "output_type": "stream",
     "text": [
      "\n",
      "Epoch: 0/100 - Batch:11/971 - train_loss:1.0795 - train_accuracy:0.5508"
     ]
    },
    {
     "name": "stderr",
     "output_type": "stream",
     "text": []
    },
    {
     "name": "stdout",
     "output_type": "stream",
     "text": [
      "\n",
      "Epoch: 0/100 - Batch:12/971 - train_loss:0.8659 - train_accuracy:0.5517"
     ]
    },
    {
     "name": "stderr",
     "output_type": "stream",
     "text": []
    },
    {
     "name": "stdout",
     "output_type": "stream",
     "text": [
      "\n",
      "Epoch: 0/100 - Batch:13/971 - train_loss:1.0462 - train_accuracy:0.5458"
     ]
    },
    {
     "name": "stderr",
     "output_type": "stream",
     "text": []
    },
    {
     "name": "stdout",
     "output_type": "stream",
     "text": [
      "\n",
      "Epoch: 0/100 - Batch:14/971 - train_loss:1.1165 - train_accuracy:0.5365"
     ]
    },
    {
     "name": "stderr",
     "output_type": "stream",
     "text": []
    },
    {
     "name": "stdout",
     "output_type": "stream",
     "text": [
      "\n",
      "Epoch: 0/100 - Batch:15/971 - train_loss:0.9318 - train_accuracy:0.5273"
     ]
    },
    {
     "name": "stderr",
     "output_type": "stream",
     "text": []
    },
    {
     "name": "stdout",
     "output_type": "stream",
     "text": [
      "\n",
      "Epoch: 0/100 - Batch:16/971 - train_loss:1.0089 - train_accuracy:0.5221"
     ]
    },
    {
     "name": "stderr",
     "output_type": "stream",
     "text": []
    },
    {
     "name": "stdout",
     "output_type": "stream",
     "text": [
      "\n",
      "Epoch: 0/100 - Batch:17/971 - train_loss:0.7601 - train_accuracy:0.5234"
     ]
    },
    {
     "name": "stderr",
     "output_type": "stream",
     "text": []
    },
    {
     "name": "stdout",
     "output_type": "stream",
     "text": [
      "\n",
      "Epoch: 0/100 - Batch:18/971 - train_loss:0.8505 - train_accuracy:0.5197"
     ]
    },
    {
     "name": "stderr",
     "output_type": "stream",
     "text": []
    },
    {
     "name": "stdout",
     "output_type": "stream",
     "text": [
      "\n",
      "Epoch: 0/100 - Batch:19/971 - train_loss:0.9841 - train_accuracy:0.5141"
     ]
    },
    {
     "name": "stderr",
     "output_type": "stream",
     "text": []
    },
    {
     "name": "stdout",
     "output_type": "stream",
     "text": [
      "\n",
      "Epoch: 0/100 - Batch:20/971 - train_loss:0.9207 - train_accuracy:0.5156"
     ]
    },
    {
     "name": "stderr",
     "output_type": "stream",
     "text": []
    },
    {
     "name": "stdout",
     "output_type": "stream",
     "text": [
      "\n",
      "Epoch: 0/100 - Batch:21/971 - train_loss:0.9607 - train_accuracy:0.5156"
     ]
    },
    {
     "name": "stderr",
     "output_type": "stream",
     "text": []
    },
    {
     "name": "stdout",
     "output_type": "stream",
     "text": [
      "\n",
      "Epoch: 0/100 - Batch:22/971 - train_loss:0.8830 - train_accuracy:0.5136"
     ]
    },
    {
     "name": "stderr",
     "output_type": "stream",
     "text": []
    },
    {
     "name": "stdout",
     "output_type": "stream",
     "text": [
      "\n",
      "Epoch: 0/100 - Batch:23/971 - train_loss:0.7277 - train_accuracy:0.5189"
     ]
    },
    {
     "name": "stderr",
     "output_type": "stream",
     "text": []
    },
    {
     "name": "stdout",
     "output_type": "stream",
     "text": [
      "\n",
      "Epoch: 0/100 - Batch:24/971 - train_loss:0.7456 - train_accuracy:0.5206"
     ]
    },
    {
     "name": "stderr",
     "output_type": "stream",
     "text": []
    },
    {
     "name": "stdout",
     "output_type": "stream",
     "text": [
      "\n",
      "Epoch: 0/100 - Batch:25/971 - train_loss:0.8299 - train_accuracy:0.5162"
     ]
    },
    {
     "name": "stderr",
     "output_type": "stream",
     "text": []
    },
    {
     "name": "stdout",
     "output_type": "stream",
     "text": [
      "\n",
      "Epoch: 0/100 - Batch:26/971 - train_loss:0.7190 - train_accuracy:0.5191"
     ]
    },
    {
     "name": "stderr",
     "output_type": "stream",
     "text": []
    },
    {
     "name": "stdout",
     "output_type": "stream",
     "text": [
      "\n",
      "Epoch: 0/100 - Batch:27/971 - train_loss:0.7295 - train_accuracy:0.5229"
     ]
    },
    {
     "name": "stderr",
     "output_type": "stream",
     "text": []
    },
    {
     "name": "stdout",
     "output_type": "stream",
     "text": [
      "\n",
      "Epoch: 0/100 - Batch:28/971 - train_loss:0.7443 - train_accuracy:0.5221"
     ]
    },
    {
     "name": "stderr",
     "output_type": "stream",
     "text": []
    },
    {
     "name": "stdout",
     "output_type": "stream",
     "text": [
      "\n",
      "Epoch: 0/100 - Batch:29/971 - train_loss:0.8027 - train_accuracy:0.5224"
     ]
    },
    {
     "name": "stderr",
     "output_type": "stream",
     "text": []
    },
    {
     "name": "stdout",
     "output_type": "stream",
     "text": [
      "\n",
      "Epoch: 0/100 - Batch:30/971 - train_loss:0.9581 - train_accuracy:0.5232"
     ]
    },
    {
     "name": "stderr",
     "output_type": "stream",
     "text": []
    },
    {
     "name": "stdout",
     "output_type": "stream",
     "text": [
      "\n",
      "Epoch: 0/100 - Batch:31/971 - train_loss:0.8869 - train_accuracy:0.5225"
     ]
    },
    {
     "name": "stderr",
     "output_type": "stream",
     "text": []
    },
    {
     "name": "stdout",
     "output_type": "stream",
     "text": [
      "\n",
      "Epoch: 0/100 - Batch:32/971 - train_loss:0.9309 - train_accuracy:0.5241"
     ]
    },
    {
     "name": "stderr",
     "output_type": "stream",
     "text": []
    },
    {
     "name": "stdout",
     "output_type": "stream",
     "text": [
      "\n",
      "Epoch: 0/100 - Batch:33/971 - train_loss:0.9192 - train_accuracy:0.5239"
     ]
    },
    {
     "name": "stderr",
     "output_type": "stream",
     "text": []
    },
    {
     "name": "stdout",
     "output_type": "stream",
     "text": [
      "\n",
      "Epoch: 0/100 - Batch:34/971 - train_loss:0.7918 - train_accuracy:0.5237"
     ]
    },
    {
     "name": "stderr",
     "output_type": "stream",
     "text": []
    },
    {
     "name": "stdout",
     "output_type": "stream",
     "text": [
      "\n",
      "Epoch: 0/100 - Batch:35/971 - train_loss:0.8362 - train_accuracy:0.5221"
     ]
    },
    {
     "name": "stderr",
     "output_type": "stream",
     "text": []
    },
    {
     "name": "stdout",
     "output_type": "stream",
     "text": [
      "\n",
      "Epoch: 0/100 - Batch:36/971 - train_loss:0.8320 - train_accuracy:0.5207"
     ]
    },
    {
     "name": "stderr",
     "output_type": "stream",
     "text": []
    },
    {
     "name": "stdout",
     "output_type": "stream",
     "text": [
      "\n",
      "Epoch: 0/100 - Batch:37/971 - train_loss:0.8613 - train_accuracy:0.5206"
     ]
    },
    {
     "name": "stderr",
     "output_type": "stream",
     "text": []
    },
    {
     "name": "stdout",
     "output_type": "stream",
     "text": [
      "\n",
      "Epoch: 0/100 - Batch:38/971 - train_loss:0.8119 - train_accuracy:0.5184"
     ]
    },
    {
     "name": "stderr",
     "output_type": "stream",
     "text": []
    },
    {
     "name": "stdout",
     "output_type": "stream",
     "text": [
      "\n",
      "Epoch: 0/100 - Batch:39/971 - train_loss:0.7210 - train_accuracy:0.5184"
     ]
    },
    {
     "name": "stderr",
     "output_type": "stream",
     "text": []
    },
    {
     "name": "stdout",
     "output_type": "stream",
     "text": [
      "\n",
      "Epoch: 0/100 - Batch:40/971 - train_loss:0.7323 - train_accuracy:0.5194"
     ]
    },
    {
     "name": "stderr",
     "output_type": "stream",
     "text": []
    },
    {
     "name": "stdout",
     "output_type": "stream",
     "text": [
      "\n",
      "Epoch: 0/100 - Batch:41/971 - train_loss:0.7462 - train_accuracy:0.5201"
     ]
    },
    {
     "name": "stderr",
     "output_type": "stream",
     "text": []
    },
    {
     "name": "stdout",
     "output_type": "stream",
     "text": [
      "\n",
      "Epoch: 0/100 - Batch:42/971 - train_loss:0.7805 - train_accuracy:0.5174"
     ]
    },
    {
     "name": "stderr",
     "output_type": "stream",
     "text": []
    },
    {
     "name": "stdout",
     "output_type": "stream",
     "text": [
      "\n",
      "Epoch: 0/100 - Batch:43/971 - train_loss:0.7595 - train_accuracy:0.5178"
     ]
    },
    {
     "name": "stderr",
     "output_type": "stream",
     "text": []
    },
    {
     "name": "stdout",
     "output_type": "stream",
     "text": [
      "\n",
      "Epoch: 0/100 - Batch:44/971 - train_loss:0.6954 - train_accuracy:0.5198"
     ]
    },
    {
     "name": "stderr",
     "output_type": "stream",
     "text": []
    },
    {
     "name": "stdout",
     "output_type": "stream",
     "text": [
      "\n",
      "Epoch: 0/100 - Batch:45/971 - train_loss:0.7691 - train_accuracy:0.5187"
     ]
    },
    {
     "name": "stderr",
     "output_type": "stream",
     "text": []
    },
    {
     "name": "stdout",
     "output_type": "stream",
     "text": [
      "\n",
      "Epoch: 0/100 - Batch:46/971 - train_loss:0.8586 - train_accuracy:0.5166"
     ]
    },
    {
     "name": "stderr",
     "output_type": "stream",
     "text": []
    },
    {
     "name": "stdout",
     "output_type": "stream",
     "text": [
      "\n",
      "Epoch: 0/100 - Batch:47/971 - train_loss:0.7153 - train_accuracy:0.5182"
     ]
    },
    {
     "name": "stderr",
     "output_type": "stream",
     "text": []
    },
    {
     "name": "stdout",
     "output_type": "stream",
     "text": [
      "\n",
      "Epoch: 0/100 - Batch:48/971 - train_loss:0.7678 - train_accuracy:0.5188"
     ]
    },
    {
     "name": "stderr",
     "output_type": "stream",
     "text": []
    },
    {
     "name": "stdout",
     "output_type": "stream",
     "text": [
      "\n",
      "Epoch: 0/100 - Batch:49/971 - train_loss:0.7387 - train_accuracy:0.5203"
     ]
    },
    {
     "name": "stderr",
     "output_type": "stream",
     "text": []
    },
    {
     "name": "stdout",
     "output_type": "stream",
     "text": [
      "\n",
      "Epoch: 0/100 - Batch:50/971 - train_loss:0.6947 - train_accuracy:0.5208"
     ]
    },
    {
     "name": "stderr",
     "output_type": "stream",
     "text": []
    },
    {
     "name": "stdout",
     "output_type": "stream",
     "text": [
      "\n",
      "Epoch: 0/100 - Batch:51/971 - train_loss:0.7757 - train_accuracy:0.5195"
     ]
    },
    {
     "name": "stderr",
     "output_type": "stream",
     "text": []
    },
    {
     "name": "stdout",
     "output_type": "stream",
     "text": [
      "\n",
      "Epoch: 0/100 - Batch:52/971 - train_loss:0.6991 - train_accuracy:0.5200"
     ]
    },
    {
     "name": "stderr",
     "output_type": "stream",
     "text": []
    },
    {
     "name": "stdout",
     "output_type": "stream",
     "text": [
      "\n",
      "Epoch: 0/100 - Batch:53/971 - train_loss:0.7721 - train_accuracy:0.5188"
     ]
    },
    {
     "name": "stderr",
     "output_type": "stream",
     "text": []
    },
    {
     "name": "stdout",
     "output_type": "stream",
     "text": [
      "\n",
      "Epoch: 0/100 - Batch:54/971 - train_loss:0.6571 - train_accuracy:0.5205"
     ]
    },
    {
     "name": "stderr",
     "output_type": "stream",
     "text": []
    },
    {
     "name": "stdout",
     "output_type": "stream",
     "text": [
      "\n",
      "Epoch: 0/100 - Batch:55/971 - train_loss:0.7738 - train_accuracy:0.5190"
     ]
    },
    {
     "name": "stderr",
     "output_type": "stream",
     "text": []
    },
    {
     "name": "stdout",
     "output_type": "stream",
     "text": [
      "\n",
      "Epoch: 0/100 - Batch:56/971 - train_loss:0.7242 - train_accuracy:0.5178"
     ]
    },
    {
     "name": "stderr",
     "output_type": "stream",
     "text": []
    },
    {
     "name": "stdout",
     "output_type": "stream",
     "text": [
      "\n",
      "Epoch: 0/100 - Batch:57/971 - train_loss:0.8026 - train_accuracy:0.5167"
     ]
    },
    {
     "name": "stderr",
     "output_type": "stream",
     "text": []
    },
    {
     "name": "stdout",
     "output_type": "stream",
     "text": [
      "\n",
      "Epoch: 0/100 - Batch:58/971 - train_loss:0.7331 - train_accuracy:0.5164"
     ]
    },
    {
     "name": "stderr",
     "output_type": "stream",
     "text": []
    },
    {
     "name": "stdout",
     "output_type": "stream",
     "text": [
      "\n",
      "Epoch: 0/100 - Batch:59/971 - train_loss:0.7790 - train_accuracy:0.5169"
     ]
    },
    {
     "name": "stderr",
     "output_type": "stream",
     "text": []
    },
    {
     "name": "stdout",
     "output_type": "stream",
     "text": [
      "\n",
      "Epoch: 0/100 - Batch:60/971 - train_loss:0.7493 - train_accuracy:0.5169"
     ]
    },
    {
     "name": "stderr",
     "output_type": "stream",
     "text": []
    },
    {
     "name": "stdout",
     "output_type": "stream",
     "text": [
      "\n",
      "Epoch: 0/100 - Batch:61/971 - train_loss:0.7837 - train_accuracy:0.5159"
     ]
    },
    {
     "name": "stderr",
     "output_type": "stream",
     "text": []
    },
    {
     "name": "stdout",
     "output_type": "stream",
     "text": [
      "\n",
      "Epoch: 0/100 - Batch:62/971 - train_loss:0.7238 - train_accuracy:0.5166"
     ]
    },
    {
     "name": "stderr",
     "output_type": "stream",
     "text": []
    },
    {
     "name": "stdout",
     "output_type": "stream",
     "text": [
      "\n",
      "Epoch: 0/100 - Batch:63/971 - train_loss:0.7869 - train_accuracy:0.5161"
     ]
    },
    {
     "name": "stderr",
     "output_type": "stream",
     "text": []
    },
    {
     "name": "stdout",
     "output_type": "stream",
     "text": [
      "\n",
      "Epoch: 0/100 - Batch:64/971 - train_loss:0.6964 - train_accuracy:0.5168"
     ]
    },
    {
     "name": "stderr",
     "output_type": "stream",
     "text": []
    },
    {
     "name": "stdout",
     "output_type": "stream",
     "text": [
      "\n",
      "Epoch: 0/100 - Batch:65/971 - train_loss:0.7750 - train_accuracy:0.5161"
     ]
    },
    {
     "name": "stderr",
     "output_type": "stream",
     "text": []
    },
    {
     "name": "stdout",
     "output_type": "stream",
     "text": [
      "\n",
      "Epoch: 0/100 - Batch:66/971 - train_loss:0.7498 - train_accuracy:0.5145"
     ]
    },
    {
     "name": "stderr",
     "output_type": "stream",
     "text": []
    },
    {
     "name": "stdout",
     "output_type": "stream",
     "text": [
      "\n",
      "Epoch: 0/100 - Batch:67/971 - train_loss:0.7166 - train_accuracy:0.5145"
     ]
    },
    {
     "name": "stderr",
     "output_type": "stream",
     "text": []
    },
    {
     "name": "stdout",
     "output_type": "stream",
     "text": [
      "\n",
      "Epoch: 0/100 - Batch:68/971 - train_loss:0.6664 - train_accuracy:0.5149"
     ]
    },
    {
     "name": "stderr",
     "output_type": "stream",
     "text": []
    },
    {
     "name": "stdout",
     "output_type": "stream",
     "text": [
      "\n",
      "Epoch: 0/100 - Batch:69/971 - train_loss:0.7087 - train_accuracy:0.5161"
     ]
    },
    {
     "name": "stderr",
     "output_type": "stream",
     "text": []
    },
    {
     "name": "stdout",
     "output_type": "stream",
     "text": [
      "\n",
      "Epoch: 0/100 - Batch:70/971 - train_loss:0.7007 - train_accuracy:0.5163"
     ]
    },
    {
     "name": "stderr",
     "output_type": "stream",
     "text": []
    },
    {
     "name": "stdout",
     "output_type": "stream",
     "text": [
      "\n",
      "Epoch: 0/100 - Batch:71/971 - train_loss:0.7464 - train_accuracy:0.5152"
     ]
    },
    {
     "name": "stderr",
     "output_type": "stream",
     "text": []
    },
    {
     "name": "stdout",
     "output_type": "stream",
     "text": [
      "\n",
      "Epoch: 0/100 - Batch:72/971 - train_loss:0.6817 - train_accuracy:0.5158"
     ]
    },
    {
     "name": "stderr",
     "output_type": "stream",
     "text": []
    },
    {
     "name": "stdout",
     "output_type": "stream",
     "text": [
      "\n",
      "Epoch: 0/100 - Batch:73/971 - train_loss:0.7606 - train_accuracy:0.5148"
     ]
    },
    {
     "name": "stderr",
     "output_type": "stream",
     "text": []
    },
    {
     "name": "stdout",
     "output_type": "stream",
     "text": [
      "\n",
      "Epoch: 0/100 - Batch:74/971 - train_loss:0.7257 - train_accuracy:0.5148"
     ]
    },
    {
     "name": "stderr",
     "output_type": "stream",
     "text": []
    },
    {
     "name": "stdout",
     "output_type": "stream",
     "text": [
      "\n",
      "Epoch: 0/100 - Batch:75/971 - train_loss:0.7531 - train_accuracy:0.5138"
     ]
    },
    {
     "name": "stderr",
     "output_type": "stream",
     "text": []
    },
    {
     "name": "stdout",
     "output_type": "stream",
     "text": [
      "\n",
      "Epoch: 0/100 - Batch:76/971 - train_loss:0.7491 - train_accuracy:0.5132"
     ]
    },
    {
     "name": "stderr",
     "output_type": "stream",
     "text": []
    },
    {
     "name": "stdout",
     "output_type": "stream",
     "text": [
      "\n",
      "Epoch: 0/100 - Batch:77/971 - train_loss:0.7223 - train_accuracy:0.5138"
     ]
    },
    {
     "name": "stderr",
     "output_type": "stream",
     "text": []
    },
    {
     "name": "stdout",
     "output_type": "stream",
     "text": [
      "\n",
      "Epoch: 0/100 - Batch:78/971 - train_loss:0.7917 - train_accuracy:0.5127"
     ]
    },
    {
     "name": "stderr",
     "output_type": "stream",
     "text": []
    },
    {
     "name": "stdout",
     "output_type": "stream",
     "text": [
      "\n",
      "Epoch: 0/100 - Batch:79/971 - train_loss:0.8111 - train_accuracy:0.5123"
     ]
    },
    {
     "name": "stderr",
     "output_type": "stream",
     "text": []
    },
    {
     "name": "stdout",
     "output_type": "stream",
     "text": [
      "\n",
      "Epoch: 0/100 - Batch:80/971 - train_loss:0.7758 - train_accuracy:0.5116"
     ]
    },
    {
     "name": "stderr",
     "output_type": "stream",
     "text": []
    },
    {
     "name": "stdout",
     "output_type": "stream",
     "text": [
      "\n",
      "Epoch: 0/100 - Batch:81/971 - train_loss:0.7538 - train_accuracy:0.5114"
     ]
    },
    {
     "name": "stderr",
     "output_type": "stream",
     "text": []
    },
    {
     "name": "stdout",
     "output_type": "stream",
     "text": [
      "\n",
      "Epoch: 0/100 - Batch:82/971 - train_loss:0.7967 - train_accuracy:0.5107"
     ]
    },
    {
     "name": "stderr",
     "output_type": "stream",
     "text": []
    },
    {
     "name": "stdout",
     "output_type": "stream",
     "text": [
      "\n",
      "Epoch: 0/100 - Batch:83/971 - train_loss:0.7123 - train_accuracy:0.5113"
     ]
    },
    {
     "name": "stderr",
     "output_type": "stream",
     "text": []
    },
    {
     "name": "stdout",
     "output_type": "stream",
     "text": [
      "\n",
      "Epoch: 0/100 - Batch:84/971 - train_loss:0.7040 - train_accuracy:0.5121"
     ]
    },
    {
     "name": "stderr",
     "output_type": "stream",
     "text": []
    },
    {
     "name": "stdout",
     "output_type": "stream",
     "text": [
      "\n",
      "Epoch: 0/100 - Batch:85/971 - train_loss:0.6867 - train_accuracy:0.5125"
     ]
    },
    {
     "name": "stderr",
     "output_type": "stream",
     "text": []
    },
    {
     "name": "stdout",
     "output_type": "stream",
     "text": [
      "\n",
      "Epoch: 0/100 - Batch:86/971 - train_loss:0.7995 - train_accuracy:0.5119"
     ]
    },
    {
     "name": "stderr",
     "output_type": "stream",
     "text": []
    },
    {
     "name": "stdout",
     "output_type": "stream",
     "text": [
      "\n",
      "Epoch: 0/100 - Batch:87/971 - train_loss:0.6858 - train_accuracy:0.5131"
     ]
    },
    {
     "name": "stderr",
     "output_type": "stream",
     "text": []
    },
    {
     "name": "stdout",
     "output_type": "stream",
     "text": [
      "\n",
      "Epoch: 0/100 - Batch:88/971 - train_loss:0.7661 - train_accuracy:0.5123"
     ]
    },
    {
     "name": "stderr",
     "output_type": "stream",
     "text": []
    },
    {
     "name": "stdout",
     "output_type": "stream",
     "text": [
      "\n",
      "Epoch: 0/100 - Batch:89/971 - train_loss:0.7318 - train_accuracy:0.5123"
     ]
    },
    {
     "name": "stderr",
     "output_type": "stream",
     "text": []
    },
    {
     "name": "stdout",
     "output_type": "stream",
     "text": [
      "\n",
      "Epoch: 0/100 - Batch:90/971 - train_loss:0.7207 - train_accuracy:0.5120"
     ]
    },
    {
     "name": "stderr",
     "output_type": "stream",
     "text": []
    },
    {
     "name": "stdout",
     "output_type": "stream",
     "text": [
      "\n",
      "Epoch: 0/100 - Batch:91/971 - train_loss:0.7973 - train_accuracy:0.5110"
     ]
    },
    {
     "name": "stderr",
     "output_type": "stream",
     "text": []
    },
    {
     "name": "stdout",
     "output_type": "stream",
     "text": [
      "\n",
      "Epoch: 0/100 - Batch:92/971 - train_loss:0.6573 - train_accuracy:0.5118"
     ]
    },
    {
     "name": "stderr",
     "output_type": "stream",
     "text": []
    },
    {
     "name": "stdout",
     "output_type": "stream",
     "text": [
      "\n",
      "Epoch: 0/100 - Batch:93/971 - train_loss:0.6451 - train_accuracy:0.5146"
     ]
    },
    {
     "name": "stderr",
     "output_type": "stream",
     "text": []
    },
    {
     "name": "stdout",
     "output_type": "stream",
     "text": [
      "\n",
      "Epoch: 0/100 - Batch:94/971 - train_loss:0.7614 - train_accuracy:0.5146"
     ]
    },
    {
     "name": "stderr",
     "output_type": "stream",
     "text": []
    },
    {
     "name": "stdout",
     "output_type": "stream",
     "text": [
      "\n",
      "Epoch: 0/100 - Batch:95/971 - train_loss:0.6586 - train_accuracy:0.5158"
     ]
    },
    {
     "name": "stderr",
     "output_type": "stream",
     "text": []
    },
    {
     "name": "stdout",
     "output_type": "stream",
     "text": [
      "\n",
      "Epoch: 0/100 - Batch:96/971 - train_loss:0.6966 - train_accuracy:0.5159"
     ]
    },
    {
     "name": "stderr",
     "output_type": "stream",
     "text": []
    },
    {
     "name": "stdout",
     "output_type": "stream",
     "text": [
      "\n",
      "Epoch: 0/100 - Batch:97/971 - train_loss:0.7329 - train_accuracy:0.5158"
     ]
    },
    {
     "name": "stderr",
     "output_type": "stream",
     "text": []
    },
    {
     "name": "stdout",
     "output_type": "stream",
     "text": [
      "\n",
      "Epoch: 0/100 - Batch:98/971 - train_loss:0.7441 - train_accuracy:0.5148"
     ]
    },
    {
     "name": "stderr",
     "output_type": "stream",
     "text": []
    },
    {
     "name": "stdout",
     "output_type": "stream",
     "text": [
      "\n",
      "Epoch: 0/100 - Batch:99/971 - train_loss:0.7350 - train_accuracy:0.5142"
     ]
    },
    {
     "name": "stderr",
     "output_type": "stream",
     "text": []
    },
    {
     "name": "stdout",
     "output_type": "stream",
     "text": [
      "\n",
      "Epoch: 0/100 - Batch:100/971 - train_loss:0.7145 - train_accuracy:0.5147"
     ]
    },
    {
     "name": "stderr",
     "output_type": "stream",
     "text": []
    },
    {
     "name": "stdout",
     "output_type": "stream",
     "text": [
      "\n",
      "Epoch: 0/100 - Batch:101/971 - train_loss:0.6946 - train_accuracy:0.5150"
     ]
    },
    {
     "name": "stderr",
     "output_type": "stream",
     "text": []
    },
    {
     "name": "stdout",
     "output_type": "stream",
     "text": [
      "\n",
      "Epoch: 0/100 - Batch:102/971 - train_loss:0.7105 - train_accuracy:0.5147"
     ]
    },
    {
     "name": "stderr",
     "output_type": "stream",
     "text": []
    },
    {
     "name": "stdout",
     "output_type": "stream",
     "text": [
      "\n",
      "Epoch: 0/100 - Batch:103/971 - train_loss:0.7363 - train_accuracy:0.5140"
     ]
    },
    {
     "name": "stderr",
     "output_type": "stream",
     "text": []
    },
    {
     "name": "stdout",
     "output_type": "stream",
     "text": [
      "\n",
      "Epoch: 0/100 - Batch:104/971 - train_loss:0.7177 - train_accuracy:0.5137"
     ]
    },
    {
     "name": "stderr",
     "output_type": "stream",
     "text": []
    },
    {
     "name": "stdout",
     "output_type": "stream",
     "text": [
      "\n",
      "Epoch: 0/100 - Batch:105/971 - train_loss:0.6978 - train_accuracy:0.5137"
     ]
    },
    {
     "name": "stderr",
     "output_type": "stream",
     "text": []
    },
    {
     "name": "stdout",
     "output_type": "stream",
     "text": [
      "\n",
      "Epoch: 0/100 - Batch:106/971 - train_loss:0.6869 - train_accuracy:0.5139"
     ]
    },
    {
     "name": "stderr",
     "output_type": "stream",
     "text": []
    },
    {
     "name": "stdout",
     "output_type": "stream",
     "text": [
      "\n",
      "Epoch: 0/100 - Batch:107/971 - train_loss:0.6728 - train_accuracy:0.5145"
     ]
    },
    {
     "name": "stderr",
     "output_type": "stream",
     "text": []
    },
    {
     "name": "stdout",
     "output_type": "stream",
     "text": [
      "\n",
      "Epoch: 0/100 - Batch:108/971 - train_loss:0.7186 - train_accuracy:0.5140"
     ]
    },
    {
     "name": "stderr",
     "output_type": "stream",
     "text": []
    },
    {
     "name": "stdout",
     "output_type": "stream",
     "text": [
      "\n",
      "Epoch: 0/100 - Batch:109/971 - train_loss:0.7504 - train_accuracy:0.5132"
     ]
    },
    {
     "name": "stderr",
     "output_type": "stream",
     "text": []
    },
    {
     "name": "stdout",
     "output_type": "stream",
     "text": [
      "\n",
      "Epoch: 0/100 - Batch:110/971 - train_loss:0.7249 - train_accuracy:0.5132"
     ]
    },
    {
     "name": "stderr",
     "output_type": "stream",
     "text": []
    },
    {
     "name": "stdout",
     "output_type": "stream",
     "text": [
      "\n",
      "Epoch: 0/100 - Batch:111/971 - train_loss:0.7024 - train_accuracy:0.5131"
     ]
    },
    {
     "name": "stderr",
     "output_type": "stream",
     "text": []
    },
    {
     "name": "stdout",
     "output_type": "stream",
     "text": [
      "\n",
      "Epoch: 0/100 - Batch:112/971 - train_loss:0.7256 - train_accuracy:0.5130"
     ]
    },
    {
     "name": "stderr",
     "output_type": "stream",
     "text": []
    },
    {
     "name": "stdout",
     "output_type": "stream",
     "text": [
      "\n",
      "Epoch: 0/100 - Batch:113/971 - train_loss:0.7328 - train_accuracy:0.5129"
     ]
    },
    {
     "name": "stderr",
     "output_type": "stream",
     "text": []
    },
    {
     "name": "stdout",
     "output_type": "stream",
     "text": [
      "\n",
      "Epoch: 0/100 - Batch:114/971 - train_loss:0.7290 - train_accuracy:0.5125"
     ]
    },
    {
     "name": "stderr",
     "output_type": "stream",
     "text": []
    },
    {
     "name": "stdout",
     "output_type": "stream",
     "text": [
      "\n",
      "Epoch: 0/100 - Batch:115/971 - train_loss:0.7146 - train_accuracy:0.5128"
     ]
    },
    {
     "name": "stderr",
     "output_type": "stream",
     "text": []
    },
    {
     "name": "stdout",
     "output_type": "stream",
     "text": [
      "\n",
      "Epoch: 0/100 - Batch:116/971 - train_loss:0.7295 - train_accuracy:0.5130"
     ]
    },
    {
     "name": "stderr",
     "output_type": "stream",
     "text": []
    },
    {
     "name": "stdout",
     "output_type": "stream",
     "text": [
      "\n",
      "Epoch: 0/100 - Batch:117/971 - train_loss:0.6700 - train_accuracy:0.5134"
     ]
    },
    {
     "name": "stderr",
     "output_type": "stream",
     "text": []
    },
    {
     "name": "stdout",
     "output_type": "stream",
     "text": [
      "\n",
      "Epoch: 0/100 - Batch:118/971 - train_loss:0.7257 - train_accuracy:0.5131"
     ]
    },
    {
     "name": "stderr",
     "output_type": "stream",
     "text": []
    },
    {
     "name": "stdout",
     "output_type": "stream",
     "text": [
      "\n",
      "Epoch: 0/100 - Batch:119/971 - train_loss:0.7122 - train_accuracy:0.5129"
     ]
    },
    {
     "name": "stderr",
     "output_type": "stream",
     "text": []
    },
    {
     "name": "stdout",
     "output_type": "stream",
     "text": [
      "\n",
      "Epoch: 0/100 - Batch:120/971 - train_loss:0.7143 - train_accuracy:0.5130"
     ]
    },
    {
     "name": "stderr",
     "output_type": "stream",
     "text": []
    },
    {
     "name": "stdout",
     "output_type": "stream",
     "text": [
      "\n",
      "Epoch: 0/100 - Batch:121/971 - train_loss:0.8095 - train_accuracy:0.5126"
     ]
    },
    {
     "name": "stderr",
     "output_type": "stream",
     "text": []
    },
    {
     "name": "stdout",
     "output_type": "stream",
     "text": [
      "\n",
      "Epoch: 0/100 - Batch:122/971 - train_loss:0.6991 - train_accuracy:0.5121"
     ]
    },
    {
     "name": "stderr",
     "output_type": "stream",
     "text": []
    },
    {
     "name": "stdout",
     "output_type": "stream",
     "text": [
      "\n",
      "Epoch: 0/100 - Batch:123/971 - train_loss:0.7192 - train_accuracy:0.5120"
     ]
    },
    {
     "name": "stderr",
     "output_type": "stream",
     "text": []
    },
    {
     "name": "stdout",
     "output_type": "stream",
     "text": [
      "\n",
      "Epoch: 0/100 - Batch:124/971 - train_loss:0.6971 - train_accuracy:0.5119"
     ]
    },
    {
     "name": "stderr",
     "output_type": "stream",
     "text": []
    },
    {
     "name": "stdout",
     "output_type": "stream",
     "text": [
      "\n",
      "Epoch: 0/100 - Batch:125/971 - train_loss:0.6735 - train_accuracy:0.5130"
     ]
    },
    {
     "name": "stderr",
     "output_type": "stream",
     "text": []
    },
    {
     "name": "stdout",
     "output_type": "stream",
     "text": [
      "\n",
      "Epoch: 0/100 - Batch:126/971 - train_loss:0.6957 - train_accuracy:0.5133"
     ]
    },
    {
     "name": "stderr",
     "output_type": "stream",
     "text": []
    },
    {
     "name": "stdout",
     "output_type": "stream",
     "text": [
      "\n",
      "Epoch: 0/100 - Batch:127/971 - train_loss:0.6692 - train_accuracy:0.5140"
     ]
    },
    {
     "name": "stderr",
     "output_type": "stream",
     "text": []
    },
    {
     "name": "stdout",
     "output_type": "stream",
     "text": [
      "\n",
      "Epoch: 0/100 - Batch:128/971 - train_loss:0.7312 - train_accuracy:0.5143"
     ]
    },
    {
     "name": "stderr",
     "output_type": "stream",
     "text": []
    },
    {
     "name": "stdout",
     "output_type": "stream",
     "text": [
      "\n",
      "Epoch: 0/100 - Batch:129/971 - train_loss:0.7451 - train_accuracy:0.5141"
     ]
    },
    {
     "name": "stderr",
     "output_type": "stream",
     "text": []
    },
    {
     "name": "stdout",
     "output_type": "stream",
     "text": [
      "\n",
      "Epoch: 0/100 - Batch:130/971 - train_loss:0.7397 - train_accuracy:0.5134"
     ]
    },
    {
     "name": "stderr",
     "output_type": "stream",
     "text": []
    },
    {
     "name": "stdout",
     "output_type": "stream",
     "text": [
      "\n",
      "Epoch: 0/100 - Batch:131/971 - train_loss:0.7258 - train_accuracy:0.5129"
     ]
    },
    {
     "name": "stderr",
     "output_type": "stream",
     "text": []
    },
    {
     "name": "stdout",
     "output_type": "stream",
     "text": [
      "\n",
      "Epoch: 0/100 - Batch:132/971 - train_loss:0.6965 - train_accuracy:0.5127"
     ]
    },
    {
     "name": "stderr",
     "output_type": "stream",
     "text": []
    },
    {
     "name": "stdout",
     "output_type": "stream",
     "text": [
      "\n",
      "Epoch: 0/100 - Batch:133/971 - train_loss:0.7282 - train_accuracy:0.5126"
     ]
    },
    {
     "name": "stderr",
     "output_type": "stream",
     "text": []
    },
    {
     "name": "stdout",
     "output_type": "stream",
     "text": [
      "\n",
      "Epoch: 0/100 - Batch:134/971 - train_loss:0.6652 - train_accuracy:0.5134"
     ]
    },
    {
     "name": "stderr",
     "output_type": "stream",
     "text": []
    },
    {
     "name": "stdout",
     "output_type": "stream",
     "text": [
      "\n",
      "Epoch: 0/100 - Batch:135/971 - train_loss:0.7344 - train_accuracy:0.5134"
     ]
    },
    {
     "name": "stderr",
     "output_type": "stream",
     "text": []
    },
    {
     "name": "stdout",
     "output_type": "stream",
     "text": [
      "\n",
      "Epoch: 0/100 - Batch:136/971 - train_loss:0.7502 - train_accuracy:0.5122"
     ]
    },
    {
     "name": "stderr",
     "output_type": "stream",
     "text": []
    },
    {
     "name": "stdout",
     "output_type": "stream",
     "text": [
      "\n",
      "Epoch: 0/100 - Batch:137/971 - train_loss:0.7245 - train_accuracy:0.5122"
     ]
    },
    {
     "name": "stderr",
     "output_type": "stream",
     "text": []
    },
    {
     "name": "stdout",
     "output_type": "stream",
     "text": [
      "\n",
      "Epoch: 0/100 - Batch:138/971 - train_loss:0.7380 - train_accuracy:0.5118"
     ]
    },
    {
     "name": "stderr",
     "output_type": "stream",
     "text": []
    },
    {
     "name": "stdout",
     "output_type": "stream",
     "text": [
      "\n",
      "Epoch: 0/100 - Batch:139/971 - train_loss:0.7076 - train_accuracy:0.5119"
     ]
    },
    {
     "name": "stderr",
     "output_type": "stream",
     "text": []
    },
    {
     "name": "stdout",
     "output_type": "stream",
     "text": [
      "\n",
      "Epoch: 0/100 - Batch:140/971 - train_loss:0.6682 - train_accuracy:0.5125"
     ]
    },
    {
     "name": "stderr",
     "output_type": "stream",
     "text": []
    },
    {
     "name": "stdout",
     "output_type": "stream",
     "text": [
      "\n",
      "Epoch: 0/100 - Batch:141/971 - train_loss:0.6660 - train_accuracy:0.5130"
     ]
    },
    {
     "name": "stderr",
     "output_type": "stream",
     "text": []
    },
    {
     "name": "stdout",
     "output_type": "stream",
     "text": [
      "\n",
      "Epoch: 0/100 - Batch:142/971 - train_loss:0.7224 - train_accuracy:0.5130"
     ]
    },
    {
     "name": "stderr",
     "output_type": "stream",
     "text": []
    },
    {
     "name": "stdout",
     "output_type": "stream",
     "text": [
      "\n",
      "Epoch: 0/100 - Batch:143/971 - train_loss:0.6989 - train_accuracy:0.5130"
     ]
    },
    {
     "name": "stderr",
     "output_type": "stream",
     "text": []
    },
    {
     "name": "stdout",
     "output_type": "stream",
     "text": [
      "\n",
      "Epoch: 0/100 - Batch:144/971 - train_loss:0.7082 - train_accuracy:0.5135"
     ]
    },
    {
     "name": "stderr",
     "output_type": "stream",
     "text": []
    },
    {
     "name": "stdout",
     "output_type": "stream",
     "text": [
      "\n",
      "Epoch: 0/100 - Batch:145/971 - train_loss:0.7439 - train_accuracy:0.5126"
     ]
    },
    {
     "name": "stderr",
     "output_type": "stream",
     "text": []
    },
    {
     "name": "stdout",
     "output_type": "stream",
     "text": [
      "\n",
      "Epoch: 0/100 - Batch:146/971 - train_loss:0.7324 - train_accuracy:0.5122"
     ]
    },
    {
     "name": "stderr",
     "output_type": "stream",
     "text": []
    },
    {
     "name": "stdout",
     "output_type": "stream",
     "text": [
      "\n",
      "Epoch: 0/100 - Batch:147/971 - train_loss:0.6630 - train_accuracy:0.5126"
     ]
    },
    {
     "name": "stderr",
     "output_type": "stream",
     "text": []
    },
    {
     "name": "stdout",
     "output_type": "stream",
     "text": [
      "\n",
      "Epoch: 0/100 - Batch:148/971 - train_loss:0.6832 - train_accuracy:0.5122"
     ]
    },
    {
     "name": "stderr",
     "output_type": "stream",
     "text": []
    },
    {
     "name": "stdout",
     "output_type": "stream",
     "text": [
      "\n",
      "Epoch: 0/100 - Batch:149/971 - train_loss:0.7440 - train_accuracy:0.5117"
     ]
    },
    {
     "name": "stderr",
     "output_type": "stream",
     "text": []
    },
    {
     "name": "stdout",
     "output_type": "stream",
     "text": [
      "\n",
      "Epoch: 0/100 - Batch:150/971 - train_loss:0.6995 - train_accuracy:0.5115"
     ]
    },
    {
     "name": "stderr",
     "output_type": "stream",
     "text": []
    },
    {
     "name": "stdout",
     "output_type": "stream",
     "text": [
      "\n",
      "Epoch: 0/100 - Batch:151/971 - train_loss:0.6949 - train_accuracy:0.5113"
     ]
    },
    {
     "name": "stderr",
     "output_type": "stream",
     "text": []
    },
    {
     "name": "stdout",
     "output_type": "stream",
     "text": [
      "\n",
      "Epoch: 0/100 - Batch:152/971 - train_loss:0.7457 - train_accuracy:0.5111"
     ]
    },
    {
     "name": "stderr",
     "output_type": "stream",
     "text": []
    },
    {
     "name": "stdout",
     "output_type": "stream",
     "text": [
      "\n",
      "Epoch: 0/100 - Batch:153/971 - train_loss:0.7058 - train_accuracy:0.5113"
     ]
    },
    {
     "name": "stderr",
     "output_type": "stream",
     "text": []
    },
    {
     "name": "stdout",
     "output_type": "stream",
     "text": [
      "\n",
      "Epoch: 0/100 - Batch:154/971 - train_loss:0.7299 - train_accuracy:0.5112"
     ]
    },
    {
     "name": "stderr",
     "output_type": "stream",
     "text": []
    },
    {
     "name": "stdout",
     "output_type": "stream",
     "text": [
      "\n",
      "Epoch: 0/100 - Batch:155/971 - train_loss:0.6841 - train_accuracy:0.5117"
     ]
    },
    {
     "name": "stderr",
     "output_type": "stream",
     "text": []
    },
    {
     "name": "stdout",
     "output_type": "stream",
     "text": [
      "\n",
      "Epoch: 0/100 - Batch:156/971 - train_loss:0.6698 - train_accuracy:0.5124"
     ]
    },
    {
     "name": "stderr",
     "output_type": "stream",
     "text": []
    },
    {
     "name": "stdout",
     "output_type": "stream",
     "text": [
      "\n",
      "Epoch: 0/100 - Batch:157/971 - train_loss:0.7171 - train_accuracy:0.5120"
     ]
    },
    {
     "name": "stderr",
     "output_type": "stream",
     "text": []
    },
    {
     "name": "stdout",
     "output_type": "stream",
     "text": [
      "\n",
      "Epoch: 0/100 - Batch:158/971 - train_loss:0.6985 - train_accuracy:0.5123"
     ]
    },
    {
     "name": "stderr",
     "output_type": "stream",
     "text": []
    },
    {
     "name": "stdout",
     "output_type": "stream",
     "text": [
      "\n",
      "Epoch: 0/100 - Batch:159/971 - train_loss:0.7384 - train_accuracy:0.5121"
     ]
    },
    {
     "name": "stderr",
     "output_type": "stream",
     "text": []
    },
    {
     "name": "stdout",
     "output_type": "stream",
     "text": [
      "\n",
      "Epoch: 0/100 - Batch:160/971 - train_loss:0.7199 - train_accuracy:0.5115"
     ]
    },
    {
     "name": "stderr",
     "output_type": "stream",
     "text": []
    },
    {
     "name": "stdout",
     "output_type": "stream",
     "text": [
      "\n",
      "Epoch: 0/100 - Batch:161/971 - train_loss:0.7203 - train_accuracy:0.5106"
     ]
    },
    {
     "name": "stderr",
     "output_type": "stream",
     "text": []
    },
    {
     "name": "stdout",
     "output_type": "stream",
     "text": [
      "\n",
      "Epoch: 0/100 - Batch:162/971 - train_loss:0.6937 - train_accuracy:0.5113"
     ]
    },
    {
     "name": "stderr",
     "output_type": "stream",
     "text": []
    },
    {
     "name": "stdout",
     "output_type": "stream",
     "text": [
      "\n",
      "Epoch: 0/100 - Batch:163/971 - train_loss:0.6559 - train_accuracy:0.5116"
     ]
    },
    {
     "name": "stderr",
     "output_type": "stream",
     "text": []
    },
    {
     "name": "stdout",
     "output_type": "stream",
     "text": [
      "\n",
      "Epoch: 0/100 - Batch:164/971 - train_loss:0.7074 - train_accuracy:0.5118"
     ]
    },
    {
     "name": "stderr",
     "output_type": "stream",
     "text": []
    },
    {
     "name": "stdout",
     "output_type": "stream",
     "text": [
      "\n",
      "Epoch: 0/100 - Batch:165/971 - train_loss:0.7362 - train_accuracy:0.5117"
     ]
    },
    {
     "name": "stderr",
     "output_type": "stream",
     "text": []
    },
    {
     "name": "stdout",
     "output_type": "stream",
     "text": [
      "\n",
      "Epoch: 0/100 - Batch:166/971 - train_loss:0.7156 - train_accuracy:0.5114"
     ]
    },
    {
     "name": "stderr",
     "output_type": "stream",
     "text": []
    },
    {
     "name": "stdout",
     "output_type": "stream",
     "text": [
      "\n",
      "Epoch: 0/100 - Batch:167/971 - train_loss:0.7102 - train_accuracy:0.5113"
     ]
    },
    {
     "name": "stderr",
     "output_type": "stream",
     "text": []
    },
    {
     "name": "stdout",
     "output_type": "stream",
     "text": [
      "\n",
      "Epoch: 0/100 - Batch:168/971 - train_loss:0.6795 - train_accuracy:0.5117"
     ]
    },
    {
     "name": "stderr",
     "output_type": "stream",
     "text": []
    },
    {
     "name": "stdout",
     "output_type": "stream",
     "text": [
      "\n",
      "Epoch: 0/100 - Batch:169/971 - train_loss:0.7217 - train_accuracy:0.5117"
     ]
    },
    {
     "name": "stderr",
     "output_type": "stream",
     "text": []
    },
    {
     "name": "stdout",
     "output_type": "stream",
     "text": [
      "\n",
      "Epoch: 0/100 - Batch:170/971 - train_loss:0.7305 - train_accuracy:0.5116"
     ]
    },
    {
     "name": "stderr",
     "output_type": "stream",
     "text": []
    },
    {
     "name": "stdout",
     "output_type": "stream",
     "text": [
      "\n",
      "Epoch: 0/100 - Batch:171/971 - train_loss:0.7293 - train_accuracy:0.5111"
     ]
    },
    {
     "name": "stderr",
     "output_type": "stream",
     "text": []
    },
    {
     "name": "stdout",
     "output_type": "stream",
     "text": [
      "\n",
      "Epoch: 0/100 - Batch:172/971 - train_loss:0.7152 - train_accuracy:0.5105"
     ]
    },
    {
     "name": "stderr",
     "output_type": "stream",
     "text": []
    },
    {
     "name": "stdout",
     "output_type": "stream",
     "text": [
      "\n",
      "Epoch: 0/100 - Batch:173/971 - train_loss:0.6557 - train_accuracy:0.5111"
     ]
    },
    {
     "name": "stderr",
     "output_type": "stream",
     "text": []
    },
    {
     "name": "stdout",
     "output_type": "stream",
     "text": [
      "\n",
      "Epoch: 0/100 - Batch:174/971 - train_loss:0.7294 - train_accuracy:0.5105"
     ]
    },
    {
     "name": "stderr",
     "output_type": "stream",
     "text": []
    },
    {
     "name": "stdout",
     "output_type": "stream",
     "text": [
      "\n",
      "Epoch: 0/100 - Batch:175/971 - train_loss:0.7044 - train_accuracy:0.5104"
     ]
    },
    {
     "name": "stderr",
     "output_type": "stream",
     "text": []
    },
    {
     "name": "stdout",
     "output_type": "stream",
     "text": [
      "\n",
      "Epoch: 0/100 - Batch:176/971 - train_loss:0.7175 - train_accuracy:0.5105"
     ]
    },
    {
     "name": "stderr",
     "output_type": "stream",
     "text": []
    },
    {
     "name": "stdout",
     "output_type": "stream",
     "text": [
      "\n",
      "Epoch: 0/100 - Batch:177/971 - train_loss:0.6884 - train_accuracy:0.5105"
     ]
    },
    {
     "name": "stderr",
     "output_type": "stream",
     "text": []
    },
    {
     "name": "stdout",
     "output_type": "stream",
     "text": [
      "\n",
      "Epoch: 0/100 - Batch:178/971 - train_loss:0.7039 - train_accuracy:0.5104"
     ]
    },
    {
     "name": "stderr",
     "output_type": "stream",
     "text": []
    },
    {
     "name": "stdout",
     "output_type": "stream",
     "text": [
      "\n",
      "Epoch: 0/100 - Batch:179/971 - train_loss:0.7064 - train_accuracy:0.5102"
     ]
    },
    {
     "name": "stderr",
     "output_type": "stream",
     "text": []
    },
    {
     "name": "stdout",
     "output_type": "stream",
     "text": [
      "\n",
      "Epoch: 0/100 - Batch:180/971 - train_loss:0.6751 - train_accuracy:0.5104"
     ]
    },
    {
     "name": "stderr",
     "output_type": "stream",
     "text": []
    },
    {
     "name": "stdout",
     "output_type": "stream",
     "text": [
      "\n",
      "Epoch: 0/100 - Batch:181/971 - train_loss:0.7028 - train_accuracy:0.5107"
     ]
    },
    {
     "name": "stderr",
     "output_type": "stream",
     "text": []
    },
    {
     "name": "stdout",
     "output_type": "stream",
     "text": [
      "\n",
      "Epoch: 0/100 - Batch:182/971 - train_loss:0.7352 - train_accuracy:0.5103"
     ]
    },
    {
     "name": "stderr",
     "output_type": "stream",
     "text": []
    },
    {
     "name": "stdout",
     "output_type": "stream",
     "text": [
      "\n",
      "Epoch: 0/100 - Batch:183/971 - train_loss:0.7357 - train_accuracy:0.5106"
     ]
    },
    {
     "name": "stderr",
     "output_type": "stream",
     "text": []
    },
    {
     "name": "stdout",
     "output_type": "stream",
     "text": [
      "\n",
      "Epoch: 0/100 - Batch:184/971 - train_loss:0.6831 - train_accuracy:0.5108"
     ]
    },
    {
     "name": "stderr",
     "output_type": "stream",
     "text": []
    },
    {
     "name": "stdout",
     "output_type": "stream",
     "text": [
      "\n",
      "Epoch: 0/100 - Batch:185/971 - train_loss:0.7073 - train_accuracy:0.5103"
     ]
    },
    {
     "name": "stderr",
     "output_type": "stream",
     "text": []
    },
    {
     "name": "stdout",
     "output_type": "stream",
     "text": [
      "\n",
      "Epoch: 0/100 - Batch:186/971 - train_loss:0.6968 - train_accuracy:0.5104"
     ]
    },
    {
     "name": "stderr",
     "output_type": "stream",
     "text": []
    },
    {
     "name": "stdout",
     "output_type": "stream",
     "text": [
      "\n",
      "Epoch: 0/100 - Batch:187/971 - train_loss:0.6962 - train_accuracy:0.5106"
     ]
    },
    {
     "name": "stderr",
     "output_type": "stream",
     "text": []
    },
    {
     "name": "stdout",
     "output_type": "stream",
     "text": [
      "\n",
      "Epoch: 0/100 - Batch:188/971 - train_loss:0.7023 - train_accuracy:0.5109"
     ]
    },
    {
     "name": "stderr",
     "output_type": "stream",
     "text": []
    },
    {
     "name": "stdout",
     "output_type": "stream",
     "text": [
      "\n",
      "Epoch: 0/100 - Batch:189/971 - train_loss:0.6880 - train_accuracy:0.5108"
     ]
    },
    {
     "name": "stderr",
     "output_type": "stream",
     "text": []
    },
    {
     "name": "stdout",
     "output_type": "stream",
     "text": [
      "\n",
      "Epoch: 0/100 - Batch:190/971 - train_loss:0.7067 - train_accuracy:0.5104"
     ]
    },
    {
     "name": "stderr",
     "output_type": "stream",
     "text": []
    },
    {
     "name": "stdout",
     "output_type": "stream",
     "text": [
      "\n",
      "Epoch: 0/100 - Batch:191/971 - train_loss:0.7120 - train_accuracy:0.5103"
     ]
    },
    {
     "name": "stderr",
     "output_type": "stream",
     "text": []
    },
    {
     "name": "stdout",
     "output_type": "stream",
     "text": [
      "\n",
      "Epoch: 0/100 - Batch:192/971 - train_loss:0.7075 - train_accuracy:0.5103"
     ]
    },
    {
     "name": "stderr",
     "output_type": "stream",
     "text": []
    },
    {
     "name": "stdout",
     "output_type": "stream",
     "text": [
      "\n",
      "Epoch: 0/100 - Batch:193/971 - train_loss:0.7059 - train_accuracy:0.5101"
     ]
    },
    {
     "name": "stderr",
     "output_type": "stream",
     "text": []
    },
    {
     "name": "stdout",
     "output_type": "stream",
     "text": [
      "\n",
      "Epoch: 0/100 - Batch:194/971 - train_loss:0.6890 - train_accuracy:0.5104"
     ]
    },
    {
     "name": "stderr",
     "output_type": "stream",
     "text": []
    },
    {
     "name": "stdout",
     "output_type": "stream",
     "text": [
      "\n",
      "Epoch: 0/100 - Batch:195/971 - train_loss:0.6882 - train_accuracy:0.5106"
     ]
    },
    {
     "name": "stderr",
     "output_type": "stream",
     "text": []
    },
    {
     "name": "stdout",
     "output_type": "stream",
     "text": [
      "\n",
      "Epoch: 0/100 - Batch:196/971 - train_loss:0.7405 - train_accuracy:0.5108"
     ]
    },
    {
     "name": "stderr",
     "output_type": "stream",
     "text": []
    },
    {
     "name": "stdout",
     "output_type": "stream",
     "text": [
      "\n",
      "Epoch: 0/100 - Batch:197/971 - train_loss:0.7214 - train_accuracy:0.5106"
     ]
    },
    {
     "name": "stderr",
     "output_type": "stream",
     "text": []
    },
    {
     "name": "stdout",
     "output_type": "stream",
     "text": [
      "\n",
      "Epoch: 0/100 - Batch:198/971 - train_loss:0.6859 - train_accuracy:0.5109"
     ]
    },
    {
     "name": "stderr",
     "output_type": "stream",
     "text": []
    },
    {
     "name": "stdout",
     "output_type": "stream",
     "text": [
      "\n",
      "Epoch: 0/100 - Batch:199/971 - train_loss:0.6706 - train_accuracy:0.5115"
     ]
    },
    {
     "name": "stderr",
     "output_type": "stream",
     "text": []
    },
    {
     "name": "stdout",
     "output_type": "stream",
     "text": [
      "\n",
      "Epoch: 0/100 - Batch:200/971 - train_loss:0.7056 - train_accuracy:0.5110"
     ]
    },
    {
     "name": "stderr",
     "output_type": "stream",
     "text": []
    },
    {
     "name": "stdout",
     "output_type": "stream",
     "text": [
      "\n",
      "Epoch: 0/100 - Batch:201/971 - train_loss:0.6899 - train_accuracy:0.5111"
     ]
    },
    {
     "name": "stderr",
     "output_type": "stream",
     "text": []
    },
    {
     "name": "stdout",
     "output_type": "stream",
     "text": [
      "\n",
      "Epoch: 0/100 - Batch:202/971 - train_loss:0.7571 - train_accuracy:0.5105"
     ]
    },
    {
     "name": "stderr",
     "output_type": "stream",
     "text": []
    },
    {
     "name": "stdout",
     "output_type": "stream",
     "text": [
      "\n",
      "Epoch: 0/100 - Batch:203/971 - train_loss:0.6800 - train_accuracy:0.5107"
     ]
    },
    {
     "name": "stderr",
     "output_type": "stream",
     "text": []
    },
    {
     "name": "stdout",
     "output_type": "stream",
     "text": [
      "\n",
      "Epoch: 0/100 - Batch:204/971 - train_loss:0.7182 - train_accuracy:0.5104"
     ]
    },
    {
     "name": "stderr",
     "output_type": "stream",
     "text": []
    },
    {
     "name": "stdout",
     "output_type": "stream",
     "text": [
      "\n",
      "Epoch: 0/100 - Batch:205/971 - train_loss:0.6819 - train_accuracy:0.5110"
     ]
    },
    {
     "name": "stderr",
     "output_type": "stream",
     "text": []
    },
    {
     "name": "stdout",
     "output_type": "stream",
     "text": [
      "\n",
      "Epoch: 0/100 - Batch:206/971 - train_loss:0.6935 - train_accuracy:0.5112"
     ]
    },
    {
     "name": "stderr",
     "output_type": "stream",
     "text": []
    },
    {
     "name": "stdout",
     "output_type": "stream",
     "text": [
      "\n",
      "Epoch: 0/100 - Batch:207/971 - train_loss:0.6923 - train_accuracy:0.5112"
     ]
    },
    {
     "name": "stderr",
     "output_type": "stream",
     "text": []
    },
    {
     "name": "stdout",
     "output_type": "stream",
     "text": [
      "\n",
      "Epoch: 0/100 - Batch:208/971 - train_loss:0.7137 - train_accuracy:0.5110"
     ]
    },
    {
     "name": "stderr",
     "output_type": "stream",
     "text": []
    },
    {
     "name": "stdout",
     "output_type": "stream",
     "text": [
      "\n",
      "Epoch: 0/100 - Batch:209/971 - train_loss:0.7226 - train_accuracy:0.5109"
     ]
    },
    {
     "name": "stderr",
     "output_type": "stream",
     "text": []
    },
    {
     "name": "stdout",
     "output_type": "stream",
     "text": [
      "\n",
      "Epoch: 0/100 - Batch:210/971 - train_loss:0.7257 - train_accuracy:0.5105"
     ]
    },
    {
     "name": "stderr",
     "output_type": "stream",
     "text": []
    },
    {
     "name": "stdout",
     "output_type": "stream",
     "text": [
      "\n",
      "Epoch: 0/100 - Batch:211/971 - train_loss:0.7200 - train_accuracy:0.5104"
     ]
    },
    {
     "name": "stderr",
     "output_type": "stream",
     "text": []
    },
    {
     "name": "stdout",
     "output_type": "stream",
     "text": [
      "\n",
      "Epoch: 0/100 - Batch:212/971 - train_loss:0.6505 - train_accuracy:0.5109"
     ]
    },
    {
     "name": "stderr",
     "output_type": "stream",
     "text": []
    },
    {
     "name": "stdout",
     "output_type": "stream",
     "text": [
      "\n",
      "Epoch: 0/100 - Batch:213/971 - train_loss:0.7049 - train_accuracy:0.5107"
     ]
    },
    {
     "name": "stderr",
     "output_type": "stream",
     "text": []
    },
    {
     "name": "stdout",
     "output_type": "stream",
     "text": [
      "\n",
      "Epoch: 0/100 - Batch:214/971 - train_loss:0.6930 - train_accuracy:0.5110"
     ]
    },
    {
     "name": "stderr",
     "output_type": "stream",
     "text": []
    },
    {
     "name": "stdout",
     "output_type": "stream",
     "text": [
      "\n",
      "Epoch: 0/100 - Batch:215/971 - train_loss:0.6986 - train_accuracy:0.5109"
     ]
    },
    {
     "name": "stderr",
     "output_type": "stream",
     "text": []
    },
    {
     "name": "stdout",
     "output_type": "stream",
     "text": [
      "\n",
      "Epoch: 0/100 - Batch:216/971 - train_loss:0.6911 - train_accuracy:0.5110"
     ]
    },
    {
     "name": "stderr",
     "output_type": "stream",
     "text": []
    },
    {
     "name": "stdout",
     "output_type": "stream",
     "text": [
      "\n",
      "Epoch: 0/100 - Batch:217/971 - train_loss:0.7348 - train_accuracy:0.5104"
     ]
    },
    {
     "name": "stderr",
     "output_type": "stream",
     "text": []
    },
    {
     "name": "stdout",
     "output_type": "stream",
     "text": [
      "\n",
      "Epoch: 0/100 - Batch:218/971 - train_loss:0.6939 - train_accuracy:0.5103"
     ]
    },
    {
     "name": "stderr",
     "output_type": "stream",
     "text": []
    },
    {
     "name": "stdout",
     "output_type": "stream",
     "text": [
      "\n",
      "Epoch: 0/100 - Batch:219/971 - train_loss:0.7001 - train_accuracy:0.5104"
     ]
    },
    {
     "name": "stderr",
     "output_type": "stream",
     "text": []
    },
    {
     "name": "stdout",
     "output_type": "stream",
     "text": [
      "\n",
      "Epoch: 0/100 - Batch:220/971 - train_loss:0.7266 - train_accuracy:0.5101"
     ]
    },
    {
     "name": "stderr",
     "output_type": "stream",
     "text": []
    },
    {
     "name": "stdout",
     "output_type": "stream",
     "text": [
      "\n",
      "Epoch: 0/100 - Batch:221/971 - train_loss:0.6966 - train_accuracy:0.5100"
     ]
    },
    {
     "name": "stderr",
     "output_type": "stream",
     "text": []
    },
    {
     "name": "stdout",
     "output_type": "stream",
     "text": [
      "\n",
      "Epoch: 0/100 - Batch:222/971 - train_loss:0.6718 - train_accuracy:0.5105"
     ]
    },
    {
     "name": "stderr",
     "output_type": "stream",
     "text": []
    },
    {
     "name": "stdout",
     "output_type": "stream",
     "text": [
      "\n",
      "Epoch: 0/100 - Batch:223/971 - train_loss:0.7259 - train_accuracy:0.5100"
     ]
    },
    {
     "name": "stderr",
     "output_type": "stream",
     "text": []
    },
    {
     "name": "stdout",
     "output_type": "stream",
     "text": [
      "\n",
      "Epoch: 0/100 - Batch:224/971 - train_loss:0.7031 - train_accuracy:0.5099"
     ]
    },
    {
     "name": "stderr",
     "output_type": "stream",
     "text": []
    },
    {
     "name": "stdout",
     "output_type": "stream",
     "text": [
      "\n",
      "Epoch: 0/100 - Batch:225/971 - train_loss:0.6688 - train_accuracy:0.5100"
     ]
    },
    {
     "name": "stderr",
     "output_type": "stream",
     "text": []
    },
    {
     "name": "stdout",
     "output_type": "stream",
     "text": [
      "\n",
      "Epoch: 0/100 - Batch:226/971 - train_loss:0.6972 - train_accuracy:0.5103"
     ]
    },
    {
     "name": "stderr",
     "output_type": "stream",
     "text": []
    },
    {
     "name": "stdout",
     "output_type": "stream",
     "text": [
      "\n",
      "Epoch: 0/100 - Batch:227/971 - train_loss:0.7096 - train_accuracy:0.5101"
     ]
    },
    {
     "name": "stderr",
     "output_type": "stream",
     "text": []
    },
    {
     "name": "stdout",
     "output_type": "stream",
     "text": [
      "\n",
      "Epoch: 0/100 - Batch:228/971 - train_loss:0.7225 - train_accuracy:0.5100"
     ]
    },
    {
     "name": "stderr",
     "output_type": "stream",
     "text": []
    },
    {
     "name": "stdout",
     "output_type": "stream",
     "text": [
      "\n",
      "Epoch: 0/100 - Batch:229/971 - train_loss:0.7039 - train_accuracy:0.5098"
     ]
    },
    {
     "name": "stderr",
     "output_type": "stream",
     "text": []
    },
    {
     "name": "stdout",
     "output_type": "stream",
     "text": [
      "\n",
      "Epoch: 0/100 - Batch:230/971 - train_loss:0.7306 - train_accuracy:0.5095"
     ]
    },
    {
     "name": "stderr",
     "output_type": "stream",
     "text": []
    },
    {
     "name": "stdout",
     "output_type": "stream",
     "text": [
      "\n",
      "Epoch: 0/100 - Batch:231/971 - train_loss:0.7184 - train_accuracy:0.5093"
     ]
    },
    {
     "name": "stderr",
     "output_type": "stream",
     "text": []
    },
    {
     "name": "stdout",
     "output_type": "stream",
     "text": [
      "\n",
      "Epoch: 0/100 - Batch:232/971 - train_loss:0.6775 - train_accuracy:0.5096"
     ]
    },
    {
     "name": "stderr",
     "output_type": "stream",
     "text": []
    },
    {
     "name": "stdout",
     "output_type": "stream",
     "text": [
      "\n",
      "Epoch: 0/100 - Batch:233/971 - train_loss:0.6859 - train_accuracy:0.5097"
     ]
    },
    {
     "name": "stderr",
     "output_type": "stream",
     "text": []
    },
    {
     "name": "stdout",
     "output_type": "stream",
     "text": [
      "\n",
      "Epoch: 0/100 - Batch:234/971 - train_loss:0.6864 - train_accuracy:0.5102"
     ]
    },
    {
     "name": "stderr",
     "output_type": "stream",
     "text": [
      "235it [00:34,  6.83it/s]\n",
      "  0%|          | 0/100 [00:34<?, ?it/s]\n"
     ]
    },
    {
     "ename": "KeyboardInterrupt",
     "evalue": "",
     "output_type": "error",
     "traceback": [
      "\u001b[0;31m---------------------------------------------------------------------------\u001b[0m",
      "\u001b[0;31mKeyboardInterrupt\u001b[0m                         Traceback (most recent call last)",
      "\u001b[1;32m/mnt/cb03386d-9344-47b1-82f9-868fbb64b4ae/python_projects/HIV_inhibitors_classification_and_generation/research/04_model_trainer.ipynb Cell 6\u001b[0m line \u001b[0;36m5\n\u001b[1;32m      <a href='vscode-notebook-cell:/mnt/cb03386d-9344-47b1-82f9-868fbb64b4ae/python_projects/HIV_inhibitors_classification_and_generation/research/04_model_trainer.ipynb#W5sZmlsZQ%3D%3D?line=2'>3</a>\u001b[0m     model_trainer_config \u001b[39m=\u001b[39m config\u001b[39m.\u001b[39mget_model_trainer_config()\n\u001b[1;32m      <a href='vscode-notebook-cell:/mnt/cb03386d-9344-47b1-82f9-868fbb64b4ae/python_projects/HIV_inhibitors_classification_and_generation/research/04_model_trainer.ipynb#W5sZmlsZQ%3D%3D?line=3'>4</a>\u001b[0m     model_trainer \u001b[39m=\u001b[39m ModelTrainer(config\u001b[39m=\u001b[39mmodel_trainer_config)\n\u001b[0;32m----> <a href='vscode-notebook-cell:/mnt/cb03386d-9344-47b1-82f9-868fbb64b4ae/python_projects/HIV_inhibitors_classification_and_generation/research/04_model_trainer.ipynb#W5sZmlsZQ%3D%3D?line=4'>5</a>\u001b[0m     results \u001b[39m=\u001b[39m model_trainer\u001b[39m.\u001b[39;49mtrain_tuning()\n\u001b[1;32m      <a href='vscode-notebook-cell:/mnt/cb03386d-9344-47b1-82f9-868fbb64b4ae/python_projects/HIV_inhibitors_classification_and_generation/research/04_model_trainer.ipynb#W5sZmlsZQ%3D%3D?line=6'>7</a>\u001b[0m \u001b[39mexcept\u001b[39;00m \u001b[39mException\u001b[39;00m \u001b[39mas\u001b[39;00m e:\n\u001b[1;32m      <a href='vscode-notebook-cell:/mnt/cb03386d-9344-47b1-82f9-868fbb64b4ae/python_projects/HIV_inhibitors_classification_and_generation/research/04_model_trainer.ipynb#W5sZmlsZQ%3D%3D?line=7'>8</a>\u001b[0m     \u001b[39mraise\u001b[39;00m e\n",
      "\u001b[1;32m/mnt/cb03386d-9344-47b1-82f9-868fbb64b4ae/python_projects/HIV_inhibitors_classification_and_generation/research/04_model_trainer.ipynb Cell 6\u001b[0m line \u001b[0;36m3\n\u001b[1;32m    <a href='vscode-notebook-cell:/mnt/cb03386d-9344-47b1-82f9-868fbb64b4ae/python_projects/HIV_inhibitors_classification_and_generation/research/04_model_trainer.ipynb#W5sZmlsZQ%3D%3D?line=299'>300</a>\u001b[0m config[\u001b[39m\"\u001b[39m\u001b[39mnum_iteration\u001b[39m\u001b[39m\"\u001b[39m] \u001b[39m=\u001b[39m params\u001b[39m.\u001b[39mtuning_iterations\n\u001b[1;32m    <a href='vscode-notebook-cell:/mnt/cb03386d-9344-47b1-82f9-868fbb64b4ae/python_projects/HIV_inhibitors_classification_and_generation/research/04_model_trainer.ipynb#W5sZmlsZQ%3D%3D?line=301'>302</a>\u001b[0m tuner \u001b[39m=\u001b[39m Tuner(params, objective\u001b[39m=\u001b[39mtrain_compose, conf_dict\u001b[39m=\u001b[39mconfig)\n\u001b[0;32m--> <a href='vscode-notebook-cell:/mnt/cb03386d-9344-47b1-82f9-868fbb64b4ae/python_projects/HIV_inhibitors_classification_and_generation/research/04_model_trainer.ipynb#W5sZmlsZQ%3D%3D?line=303'>304</a>\u001b[0m results \u001b[39m=\u001b[39m tuner\u001b[39m.\u001b[39;49mminimize()\n\u001b[1;32m    <a href='vscode-notebook-cell:/mnt/cb03386d-9344-47b1-82f9-868fbb64b4ae/python_projects/HIV_inhibitors_classification_and_generation/research/04_model_trainer.ipynb#W5sZmlsZQ%3D%3D?line=305'>306</a>\u001b[0m \u001b[39mself\u001b[39m\u001b[39m.\u001b[39mconfig\u001b[39m.\u001b[39mparams[\u001b[39m'\u001b[39m\u001b[39mBEST_PARAMETERS\u001b[39m\u001b[39m'\u001b[39m] \u001b[39m=\u001b[39m results[\u001b[39m'\u001b[39m\u001b[39mbest_parameters\u001b[39m\u001b[39m'\u001b[39m]\n\u001b[1;32m    <a href='vscode-notebook-cell:/mnt/cb03386d-9344-47b1-82f9-868fbb64b4ae/python_projects/HIV_inhibitors_classification_and_generation/research/04_model_trainer.ipynb#W5sZmlsZQ%3D%3D?line=306'>307</a>\u001b[0m best_params \u001b[39m=\u001b[39m yaml\u001b[39m.\u001b[39msave_dump(\u001b[39mself\u001b[39m\u001b[39m.\u001b[39mconfig\u001b[39m.\u001b[39mparams, sort_keys\u001b[39m=\u001b[39m\u001b[39mFalse\u001b[39;00m)\n",
      "File \u001b[0;32m/mnt/cb03386d-9344-47b1-82f9-868fbb64b4ae/python_projects/HIV_inhibitors_classification_and_generation/env/lib/python3.10/site-packages/mango/tuner.py:127\u001b[0m, in \u001b[0;36mTuner.minimize\u001b[0;34m(self)\u001b[0m\n\u001b[1;32m    125\u001b[0m \u001b[39mdef\u001b[39;00m\u001b[39m \u001b[39m\u001b[39mminimize\u001b[39m(\u001b[39mself\u001b[39m):\n\u001b[1;32m    126\u001b[0m     \u001b[39mself\u001b[39m\u001b[39m.\u001b[39mmaximize_objective \u001b[39m=\u001b[39m \u001b[39mFalse\u001b[39;00m\n\u001b[0;32m--> 127\u001b[0m     \u001b[39mreturn\u001b[39;00m \u001b[39mself\u001b[39;49m\u001b[39m.\u001b[39;49mrun()\n",
      "File \u001b[0;32m/mnt/cb03386d-9344-47b1-82f9-868fbb64b4ae/python_projects/HIV_inhibitors_classification_and_generation/env/lib/python3.10/site-packages/mango/tuner.py:114\u001b[0m, in \u001b[0;36mTuner.run\u001b[0;34m(self)\u001b[0m\n\u001b[1;32m    112\u001b[0m \u001b[39mdef\u001b[39;00m\u001b[39m \u001b[39m\u001b[39mrun\u001b[39m(\u001b[39mself\u001b[39m):\n\u001b[1;32m    113\u001b[0m     \u001b[39mif\u001b[39;00m \u001b[39mself\u001b[39m\u001b[39m.\u001b[39mconfig\u001b[39m.\u001b[39mis_bayesian:\n\u001b[0;32m--> 114\u001b[0m         \u001b[39mself\u001b[39m\u001b[39m.\u001b[39mresults \u001b[39m=\u001b[39m \u001b[39mself\u001b[39;49m\u001b[39m.\u001b[39;49mrunBayesianOptimizer()\n\u001b[1;32m    115\u001b[0m     \u001b[39melif\u001b[39;00m \u001b[39mself\u001b[39m\u001b[39m.\u001b[39mconfig\u001b[39m.\u001b[39mis_random:\n\u001b[1;32m    116\u001b[0m         \u001b[39mself\u001b[39m\u001b[39m.\u001b[39mresults \u001b[39m=\u001b[39m \u001b[39mself\u001b[39m\u001b[39m.\u001b[39mrunRandomOptimizer()\n",
      "File \u001b[0;32m/mnt/cb03386d-9344-47b1-82f9-868fbb64b4ae/python_projects/HIV_inhibitors_classification_and_generation/env/lib/python3.10/site-packages/mango/tuner.py:176\u001b[0m, in \u001b[0;36mTuner.runBayesianOptimizer\u001b[0;34m(self)\u001b[0m\n\u001b[1;32m    173\u001b[0m \u001b[39mdef\u001b[39;00m\u001b[39m \u001b[39m\u001b[39mrunBayesianOptimizer\u001b[39m(\u001b[39mself\u001b[39m):\n\u001b[1;32m    174\u001b[0m     results \u001b[39m=\u001b[39m \u001b[39mdict\u001b[39m()\n\u001b[0;32m--> 176\u001b[0m     X_list, Y_list \u001b[39m=\u001b[39m \u001b[39mself\u001b[39;49m\u001b[39m.\u001b[39;49mrun_initial()\n\u001b[1;32m    178\u001b[0m     \u001b[39m# evaluated hyperparameters are used\u001b[39;00m\n\u001b[1;32m    179\u001b[0m     X_init \u001b[39m=\u001b[39m \u001b[39mself\u001b[39m\u001b[39m.\u001b[39mds\u001b[39m.\u001b[39mconvert_GP_space(X_list)\n",
      "File \u001b[0;32m/mnt/cb03386d-9344-47b1-82f9-868fbb64b4ae/python_projects/HIV_inhibitors_classification_and_generation/env/lib/python3.10/site-packages/mango/tuner.py:154\u001b[0m, in \u001b[0;36mTuner.run_initial\u001b[0;34m(self)\u001b[0m\n\u001b[1;32m    151\u001b[0m \u001b[39melse\u001b[39;00m:\n\u001b[1;32m    152\u001b[0m     \u001b[39m# getting first few random values\u001b[39;00m\n\u001b[1;32m    153\u001b[0m     X_init \u001b[39m=\u001b[39m \u001b[39mself\u001b[39m\u001b[39m.\u001b[39mds\u001b[39m.\u001b[39mget_random_sample(\u001b[39mself\u001b[39m\u001b[39m.\u001b[39mconfig\u001b[39m.\u001b[39minitial_random)\n\u001b[0;32m--> 154\u001b[0m     X_list, Y_list \u001b[39m=\u001b[39m \u001b[39mself\u001b[39;49m\u001b[39m.\u001b[39;49mrunUserObjective(X_init)\n\u001b[1;32m    156\u001b[0m     \u001b[39m# in case initial random results are invalid try different samples\u001b[39;00m\n\u001b[1;32m    157\u001b[0m     n_tries \u001b[39m=\u001b[39m \u001b[39m1\u001b[39m\n",
      "File \u001b[0;32m/mnt/cb03386d-9344-47b1-82f9-868fbb64b4ae/python_projects/HIV_inhibitors_classification_and_generation/env/lib/python3.10/site-packages/mango/tuner.py:342\u001b[0m, in \u001b[0;36mTuner.runUserObjective\u001b[0;34m(self, X_next_PS)\u001b[0m\n\u001b[1;32m    339\u001b[0m \u001b[39mdef\u001b[39;00m\u001b[39m \u001b[39m\u001b[39mrunUserObjective\u001b[39m(\u001b[39mself\u001b[39m, X_next_PS):\n\u001b[1;32m    340\u001b[0m     \u001b[39m# initially assuming entire X_next_PS is evaluated and returned results are only Y values\u001b[39;00m\n\u001b[1;32m    341\u001b[0m     X_list_evaluated \u001b[39m=\u001b[39m X_next_PS\n\u001b[0;32m--> 342\u001b[0m     results \u001b[39m=\u001b[39m \u001b[39mself\u001b[39;49m\u001b[39m.\u001b[39;49mobjective_function(X_next_PS)\n\u001b[1;32m    343\u001b[0m     Y_list_evaluated \u001b[39m=\u001b[39m results\n\u001b[1;32m    345\u001b[0m     \u001b[39m# if result is a tuple, then there is possibility that partial values are evaluated\u001b[39;00m\n",
      "\u001b[1;32m/mnt/cb03386d-9344-47b1-82f9-868fbb64b4ae/python_projects/HIV_inhibitors_classification_and_generation/research/04_model_trainer.ipynb Cell 6\u001b[0m line \u001b[0;36m2\n\u001b[1;32m    <a href='vscode-notebook-cell:/mnt/cb03386d-9344-47b1-82f9-868fbb64b4ae/python_projects/HIV_inhibitors_classification_and_generation/research/04_model_trainer.ipynb#W5sZmlsZQ%3D%3D?line=205'>206</a>\u001b[0m \u001b[39mfor\u001b[39;00m epoch \u001b[39min\u001b[39;00m tqdm(\u001b[39mrange\u001b[39m(params\u001b[39m.\u001b[39mnum_epochs)):\n\u001b[1;32m    <a href='vscode-notebook-cell:/mnt/cb03386d-9344-47b1-82f9-868fbb64b4ae/python_projects/HIV_inhibitors_classification_and_generation/research/04_model_trainer.ipynb#W5sZmlsZQ%3D%3D?line=206'>207</a>\u001b[0m     \u001b[39mif\u001b[39;00m early_stopping_counter \u001b[39m<\u001b[39m\u001b[39m=\u001b[39m \u001b[39m10\u001b[39m:\n\u001b[0;32m--> <a href='vscode-notebook-cell:/mnt/cb03386d-9344-47b1-82f9-868fbb64b4ae/python_projects/HIV_inhibitors_classification_and_generation/research/04_model_trainer.ipynb#W5sZmlsZQ%3D%3D?line=207'>208</a>\u001b[0m         train_epoch_loss, train_epoch_acc \u001b[39m=\u001b[39m \u001b[39mself\u001b[39;49m\u001b[39m.\u001b[39;49mtrain(\n\u001b[1;32m    <a href='vscode-notebook-cell:/mnt/cb03386d-9344-47b1-82f9-868fbb64b4ae/python_projects/HIV_inhibitors_classification_and_generation/research/04_model_trainer.ipynb#W5sZmlsZQ%3D%3D?line=208'>209</a>\u001b[0m             params,\n\u001b[1;32m    <a href='vscode-notebook-cell:/mnt/cb03386d-9344-47b1-82f9-868fbb64b4ae/python_projects/HIV_inhibitors_classification_and_generation/research/04_model_trainer.ipynb#W5sZmlsZQ%3D%3D?line=209'>210</a>\u001b[0m             epoch,\n\u001b[1;32m    <a href='vscode-notebook-cell:/mnt/cb03386d-9344-47b1-82f9-868fbb64b4ae/python_projects/HIV_inhibitors_classification_and_generation/research/04_model_trainer.ipynb#W5sZmlsZQ%3D%3D?line=210'>211</a>\u001b[0m             model,\n\u001b[1;32m    <a href='vscode-notebook-cell:/mnt/cb03386d-9344-47b1-82f9-868fbb64b4ae/python_projects/HIV_inhibitors_classification_and_generation/research/04_model_trainer.ipynb#W5sZmlsZQ%3D%3D?line=211'>212</a>\u001b[0m             train_loader,\n\u001b[1;32m    <a href='vscode-notebook-cell:/mnt/cb03386d-9344-47b1-82f9-868fbb64b4ae/python_projects/HIV_inhibitors_classification_and_generation/research/04_model_trainer.ipynb#W5sZmlsZQ%3D%3D?line=212'>213</a>\u001b[0m             optimizer,\n\u001b[1;32m    <a href='vscode-notebook-cell:/mnt/cb03386d-9344-47b1-82f9-868fbb64b4ae/python_projects/HIV_inhibitors_classification_and_generation/research/04_model_trainer.ipynb#W5sZmlsZQ%3D%3D?line=213'>214</a>\u001b[0m             criterion,\n\u001b[1;32m    <a href='vscode-notebook-cell:/mnt/cb03386d-9344-47b1-82f9-868fbb64b4ae/python_projects/HIV_inhibitors_classification_and_generation/research/04_model_trainer.ipynb#W5sZmlsZQ%3D%3D?line=214'>215</a>\u001b[0m             device\n\u001b[1;32m    <a href='vscode-notebook-cell:/mnt/cb03386d-9344-47b1-82f9-868fbb64b4ae/python_projects/HIV_inhibitors_classification_and_generation/research/04_model_trainer.ipynb#W5sZmlsZQ%3D%3D?line=215'>216</a>\u001b[0m         )\n\u001b[1;32m    <a href='vscode-notebook-cell:/mnt/cb03386d-9344-47b1-82f9-868fbb64b4ae/python_projects/HIV_inhibitors_classification_and_generation/research/04_model_trainer.ipynb#W5sZmlsZQ%3D%3D?line=217'>218</a>\u001b[0m         train_losses\u001b[39m.\u001b[39mappend(train_epoch_loss)\n\u001b[1;32m    <a href='vscode-notebook-cell:/mnt/cb03386d-9344-47b1-82f9-868fbb64b4ae/python_projects/HIV_inhibitors_classification_and_generation/research/04_model_trainer.ipynb#W5sZmlsZQ%3D%3D?line=218'>219</a>\u001b[0m         train_accuracies\u001b[39m.\u001b[39mappend(train_epoch_acc)\n",
      "\u001b[1;32m/mnt/cb03386d-9344-47b1-82f9-868fbb64b4ae/python_projects/HIV_inhibitors_classification_and_generation/research/04_model_trainer.ipynb Cell 6\u001b[0m line \u001b[0;36m5\n\u001b[1;32m     <a href='vscode-notebook-cell:/mnt/cb03386d-9344-47b1-82f9-868fbb64b4ae/python_projects/HIV_inhibitors_classification_and_generation/research/04_model_trainer.ipynb#W5sZmlsZQ%3D%3D?line=53'>54</a>\u001b[0m train_preds \u001b[39m=\u001b[39m []\n\u001b[1;32m     <a href='vscode-notebook-cell:/mnt/cb03386d-9344-47b1-82f9-868fbb64b4ae/python_projects/HIV_inhibitors_classification_and_generation/research/04_model_trainer.ipynb#W5sZmlsZQ%3D%3D?line=54'>55</a>\u001b[0m train_labels \u001b[39m=\u001b[39m []\n\u001b[0;32m---> <a href='vscode-notebook-cell:/mnt/cb03386d-9344-47b1-82f9-868fbb64b4ae/python_projects/HIV_inhibitors_classification_and_generation/research/04_model_trainer.ipynb#W5sZmlsZQ%3D%3D?line=56'>57</a>\u001b[0m \u001b[39mfor\u001b[39;00m i, batch \u001b[39min\u001b[39;00m tqdm(\u001b[39menumerate\u001b[39m(train_loader)):\n\u001b[1;32m     <a href='vscode-notebook-cell:/mnt/cb03386d-9344-47b1-82f9-868fbb64b4ae/python_projects/HIV_inhibitors_classification_and_generation/research/04_model_trainer.ipynb#W5sZmlsZQ%3D%3D?line=57'>58</a>\u001b[0m     batch\u001b[39m.\u001b[39mto(device)\n\u001b[1;32m     <a href='vscode-notebook-cell:/mnt/cb03386d-9344-47b1-82f9-868fbb64b4ae/python_projects/HIV_inhibitors_classification_and_generation/research/04_model_trainer.ipynb#W5sZmlsZQ%3D%3D?line=58'>59</a>\u001b[0m     optimizer\u001b[39m.\u001b[39mzero_grad()\n",
      "File \u001b[0;32m/mnt/cb03386d-9344-47b1-82f9-868fbb64b4ae/python_projects/HIV_inhibitors_classification_and_generation/env/lib/python3.10/site-packages/tqdm/std.py:1181\u001b[0m, in \u001b[0;36mtqdm.__iter__\u001b[0;34m(self)\u001b[0m\n\u001b[1;32m   1178\u001b[0m time \u001b[39m=\u001b[39m \u001b[39mself\u001b[39m\u001b[39m.\u001b[39m_time\n\u001b[1;32m   1180\u001b[0m \u001b[39mtry\u001b[39;00m:\n\u001b[0;32m-> 1181\u001b[0m     \u001b[39mfor\u001b[39;00m obj \u001b[39min\u001b[39;00m iterable:\n\u001b[1;32m   1182\u001b[0m         \u001b[39myield\u001b[39;00m obj\n\u001b[1;32m   1183\u001b[0m         \u001b[39m# Update and possibly print the progressbar.\u001b[39;00m\n\u001b[1;32m   1184\u001b[0m         \u001b[39m# Note: does not call self.update(1) for speed optimisation.\u001b[39;00m\n",
      "File \u001b[0;32m/mnt/cb03386d-9344-47b1-82f9-868fbb64b4ae/python_projects/HIV_inhibitors_classification_and_generation/env/lib/python3.10/site-packages/torch/utils/data/dataloader.py:708\u001b[0m, in \u001b[0;36m_BaseDataLoaderIter.__next__\u001b[0;34m(self)\u001b[0m\n\u001b[1;32m    705\u001b[0m \u001b[39mif\u001b[39;00m \u001b[39mself\u001b[39m\u001b[39m.\u001b[39m_sampler_iter \u001b[39mis\u001b[39;00m \u001b[39mNone\u001b[39;00m:\n\u001b[1;32m    706\u001b[0m     \u001b[39m# TODO(https://github.com/pytorch/pytorch/issues/76750)\u001b[39;00m\n\u001b[1;32m    707\u001b[0m     \u001b[39mself\u001b[39m\u001b[39m.\u001b[39m_reset()  \u001b[39m# type: ignore[call-arg]\u001b[39;00m\n\u001b[0;32m--> 708\u001b[0m data \u001b[39m=\u001b[39m \u001b[39mself\u001b[39;49m\u001b[39m.\u001b[39;49m_next_data()\n\u001b[1;32m    709\u001b[0m \u001b[39mself\u001b[39m\u001b[39m.\u001b[39m_num_yielded \u001b[39m+\u001b[39m\u001b[39m=\u001b[39m \u001b[39m1\u001b[39m\n\u001b[1;32m    710\u001b[0m \u001b[39mif\u001b[39;00m (\n\u001b[1;32m    711\u001b[0m     \u001b[39mself\u001b[39m\u001b[39m.\u001b[39m_dataset_kind \u001b[39m==\u001b[39m _DatasetKind\u001b[39m.\u001b[39mIterable\n\u001b[1;32m    712\u001b[0m     \u001b[39mand\u001b[39;00m \u001b[39mself\u001b[39m\u001b[39m.\u001b[39m_IterableDataset_len_called \u001b[39mis\u001b[39;00m \u001b[39mnot\u001b[39;00m \u001b[39mNone\u001b[39;00m\n\u001b[1;32m    713\u001b[0m     \u001b[39mand\u001b[39;00m \u001b[39mself\u001b[39m\u001b[39m.\u001b[39m_num_yielded \u001b[39m>\u001b[39m \u001b[39mself\u001b[39m\u001b[39m.\u001b[39m_IterableDataset_len_called\n\u001b[1;32m    714\u001b[0m ):\n",
      "File \u001b[0;32m/mnt/cb03386d-9344-47b1-82f9-868fbb64b4ae/python_projects/HIV_inhibitors_classification_and_generation/env/lib/python3.10/site-packages/torch/utils/data/dataloader.py:764\u001b[0m, in \u001b[0;36m_SingleProcessDataLoaderIter._next_data\u001b[0;34m(self)\u001b[0m\n\u001b[1;32m    762\u001b[0m \u001b[39mdef\u001b[39;00m\u001b[39m \u001b[39m\u001b[39m_next_data\u001b[39m(\u001b[39mself\u001b[39m):\n\u001b[1;32m    763\u001b[0m     index \u001b[39m=\u001b[39m \u001b[39mself\u001b[39m\u001b[39m.\u001b[39m_next_index()  \u001b[39m# may raise StopIteration\u001b[39;00m\n\u001b[0;32m--> 764\u001b[0m     data \u001b[39m=\u001b[39m \u001b[39mself\u001b[39;49m\u001b[39m.\u001b[39;49m_dataset_fetcher\u001b[39m.\u001b[39;49mfetch(index)  \u001b[39m# may raise StopIteration\u001b[39;00m\n\u001b[1;32m    765\u001b[0m     \u001b[39mif\u001b[39;00m \u001b[39mself\u001b[39m\u001b[39m.\u001b[39m_pin_memory:\n\u001b[1;32m    766\u001b[0m         data \u001b[39m=\u001b[39m _utils\u001b[39m.\u001b[39mpin_memory\u001b[39m.\u001b[39mpin_memory(data, \u001b[39mself\u001b[39m\u001b[39m.\u001b[39m_pin_memory_device)\n",
      "File \u001b[0;32m/mnt/cb03386d-9344-47b1-82f9-868fbb64b4ae/python_projects/HIV_inhibitors_classification_and_generation/env/lib/python3.10/site-packages/torch/utils/data/_utils/fetch.py:52\u001b[0m, in \u001b[0;36m_MapDatasetFetcher.fetch\u001b[0;34m(self, possibly_batched_index)\u001b[0m\n\u001b[1;32m     50\u001b[0m         data \u001b[39m=\u001b[39m \u001b[39mself\u001b[39m\u001b[39m.\u001b[39mdataset\u001b[39m.\u001b[39m__getitems__(possibly_batched_index)\n\u001b[1;32m     51\u001b[0m     \u001b[39melse\u001b[39;00m:\n\u001b[0;32m---> 52\u001b[0m         data \u001b[39m=\u001b[39m [\u001b[39mself\u001b[39m\u001b[39m.\u001b[39mdataset[idx] \u001b[39mfor\u001b[39;00m idx \u001b[39min\u001b[39;00m possibly_batched_index]\n\u001b[1;32m     53\u001b[0m \u001b[39melse\u001b[39;00m:\n\u001b[1;32m     54\u001b[0m     data \u001b[39m=\u001b[39m \u001b[39mself\u001b[39m\u001b[39m.\u001b[39mdataset[possibly_batched_index]\n",
      "File \u001b[0;32m/mnt/cb03386d-9344-47b1-82f9-868fbb64b4ae/python_projects/HIV_inhibitors_classification_and_generation/env/lib/python3.10/site-packages/torch/utils/data/_utils/fetch.py:52\u001b[0m, in \u001b[0;36m<listcomp>\u001b[0;34m(.0)\u001b[0m\n\u001b[1;32m     50\u001b[0m         data \u001b[39m=\u001b[39m \u001b[39mself\u001b[39m\u001b[39m.\u001b[39mdataset\u001b[39m.\u001b[39m__getitems__(possibly_batched_index)\n\u001b[1;32m     51\u001b[0m     \u001b[39melse\u001b[39;00m:\n\u001b[0;32m---> 52\u001b[0m         data \u001b[39m=\u001b[39m [\u001b[39mself\u001b[39;49m\u001b[39m.\u001b[39;49mdataset[idx] \u001b[39mfor\u001b[39;00m idx \u001b[39min\u001b[39;00m possibly_batched_index]\n\u001b[1;32m     53\u001b[0m \u001b[39melse\u001b[39;00m:\n\u001b[1;32m     54\u001b[0m     data \u001b[39m=\u001b[39m \u001b[39mself\u001b[39m\u001b[39m.\u001b[39mdataset[possibly_batched_index]\n",
      "File \u001b[0;32m/mnt/cb03386d-9344-47b1-82f9-868fbb64b4ae/python_projects/HIV_inhibitors_classification_and_generation/env/lib/python3.10/site-packages/torch_geometric/data/dataset.py:291\u001b[0m, in \u001b[0;36mDataset.__getitem__\u001b[0;34m(self, idx)\u001b[0m\n\u001b[1;32m    280\u001b[0m \u001b[39m\u001b[39m\u001b[39mr\u001b[39m\u001b[39m\"\"\"In case :obj:`idx` is of type integer, will return the data object\u001b[39;00m\n\u001b[1;32m    281\u001b[0m \u001b[39mat index :obj:`idx` (and transforms it in case :obj:`transform` is\u001b[39;00m\n\u001b[1;32m    282\u001b[0m \u001b[39mpresent).\u001b[39;00m\n\u001b[0;32m   (...)\u001b[0m\n\u001b[1;32m    285\u001b[0m \u001b[39mbool, will return a subset of the dataset at the specified indices.\u001b[39;00m\n\u001b[1;32m    286\u001b[0m \u001b[39m\"\"\"\u001b[39;00m\n\u001b[1;32m    287\u001b[0m \u001b[39mif\u001b[39;00m (\u001b[39misinstance\u001b[39m(idx, (\u001b[39mint\u001b[39m, np\u001b[39m.\u001b[39minteger))\n\u001b[1;32m    288\u001b[0m         \u001b[39mor\u001b[39;00m (\u001b[39misinstance\u001b[39m(idx, Tensor) \u001b[39mand\u001b[39;00m idx\u001b[39m.\u001b[39mdim() \u001b[39m==\u001b[39m \u001b[39m0\u001b[39m)\n\u001b[1;32m    289\u001b[0m         \u001b[39mor\u001b[39;00m (\u001b[39misinstance\u001b[39m(idx, np\u001b[39m.\u001b[39mndarray) \u001b[39mand\u001b[39;00m np\u001b[39m.\u001b[39misscalar(idx))):\n\u001b[0;32m--> 291\u001b[0m     data \u001b[39m=\u001b[39m \u001b[39mself\u001b[39;49m\u001b[39m.\u001b[39;49mget(\u001b[39mself\u001b[39;49m\u001b[39m.\u001b[39;49mindices()[idx])\n\u001b[1;32m    292\u001b[0m     data \u001b[39m=\u001b[39m data \u001b[39mif\u001b[39;00m \u001b[39mself\u001b[39m\u001b[39m.\u001b[39mtransform \u001b[39mis\u001b[39;00m \u001b[39mNone\u001b[39;00m \u001b[39melse\u001b[39;00m \u001b[39mself\u001b[39m\u001b[39m.\u001b[39mtransform(data)\n\u001b[1;32m    293\u001b[0m     \u001b[39mreturn\u001b[39;00m data\n",
      "File \u001b[0;32m/mnt/cb03386d-9344-47b1-82f9-868fbb64b4ae/python_projects/HIV_inhibitors_classification_and_generation/hivclass/utils/molecule_dataset.py:105\u001b[0m, in \u001b[0;36mMoleculeDataset.get\u001b[0;34m(self, idx)\u001b[0m\n\u001b[1;32m    102\u001b[0m     idx \u001b[39m+\u001b[39m\u001b[39m=\u001b[39m \u001b[39m1\u001b[39m\n\u001b[1;32m    103\u001b[0m     data_path \u001b[39m=\u001b[39m os\u001b[39m.\u001b[39mpath\u001b[39m.\u001b[39mjoin(\u001b[39mself\u001b[39m\u001b[39m.\u001b[39mprocessed_dir, \u001b[39mself\u001b[39m\u001b[39m.\u001b[39mdata_name, \u001b[39mf\u001b[39m\u001b[39m'\u001b[39m\u001b[39m{\u001b[39;00m\u001b[39mself\u001b[39m\u001b[39m.\u001b[39mdata_name\u001b[39m}\u001b[39;00m\u001b[39m_\u001b[39m\u001b[39m{\u001b[39;00midx\u001b[39m}\u001b[39;00m\u001b[39m.pt\u001b[39m\u001b[39m'\u001b[39m)\n\u001b[0;32m--> 105\u001b[0m sample \u001b[39m=\u001b[39m torch\u001b[39m.\u001b[39;49mload(\n\u001b[1;32m    106\u001b[0m     data_path,\n\u001b[1;32m    107\u001b[0m     weights_only\u001b[39m=\u001b[39;49m\u001b[39mFalse\u001b[39;49;00m\n\u001b[1;32m    108\u001b[0m )\n\u001b[1;32m    110\u001b[0m \u001b[39mreturn\u001b[39;00m sample\n",
      "File \u001b[0;32m/mnt/cb03386d-9344-47b1-82f9-868fbb64b4ae/python_projects/HIV_inhibitors_classification_and_generation/env/lib/python3.10/site-packages/torch/serialization.py:1471\u001b[0m, in \u001b[0;36mload\u001b[0;34m(f, map_location, pickle_module, weights_only, mmap, **pickle_load_args)\u001b[0m\n\u001b[1;32m   1469\u001b[0m             \u001b[39mexcept\u001b[39;00m pickle\u001b[39m.\u001b[39mUnpicklingError \u001b[39mas\u001b[39;00m e:\n\u001b[1;32m   1470\u001b[0m                 \u001b[39mraise\u001b[39;00m pickle\u001b[39m.\u001b[39mUnpicklingError(_get_wo_message(\u001b[39mstr\u001b[39m(e))) \u001b[39mfrom\u001b[39;00m\u001b[39m \u001b[39m\u001b[39mNone\u001b[39;00m\n\u001b[0;32m-> 1471\u001b[0m         \u001b[39mreturn\u001b[39;00m _load(\n\u001b[1;32m   1472\u001b[0m             opened_zipfile,\n\u001b[1;32m   1473\u001b[0m             map_location,\n\u001b[1;32m   1474\u001b[0m             pickle_module,\n\u001b[1;32m   1475\u001b[0m             overall_storage\u001b[39m=\u001b[39;49moverall_storage,\n\u001b[1;32m   1476\u001b[0m             \u001b[39m*\u001b[39;49m\u001b[39m*\u001b[39;49mpickle_load_args,\n\u001b[1;32m   1477\u001b[0m         )\n\u001b[1;32m   1478\u001b[0m \u001b[39mif\u001b[39;00m mmap:\n\u001b[1;32m   1479\u001b[0m     f_name \u001b[39m=\u001b[39m \u001b[39m\"\u001b[39m\u001b[39m\"\u001b[39m \u001b[39mif\u001b[39;00m \u001b[39mnot\u001b[39;00m \u001b[39misinstance\u001b[39m(f, \u001b[39mstr\u001b[39m) \u001b[39melse\u001b[39;00m \u001b[39mf\u001b[39m\u001b[39m\"\u001b[39m\u001b[39m{\u001b[39;00mf\u001b[39m}\u001b[39;00m\u001b[39m, \u001b[39m\u001b[39m\"\u001b[39m\n",
      "File \u001b[0;32m/mnt/cb03386d-9344-47b1-82f9-868fbb64b4ae/python_projects/HIV_inhibitors_classification_and_generation/env/lib/python3.10/site-packages/torch/serialization.py:1964\u001b[0m, in \u001b[0;36m_load\u001b[0;34m(zip_file, map_location, pickle_module, pickle_file, overall_storage, **pickle_load_args)\u001b[0m\n\u001b[1;32m   1962\u001b[0m \u001b[39mglobal\u001b[39;00m _serialization_tls\n\u001b[1;32m   1963\u001b[0m _serialization_tls\u001b[39m.\u001b[39mmap_location \u001b[39m=\u001b[39m map_location\n\u001b[0;32m-> 1964\u001b[0m result \u001b[39m=\u001b[39m unpickler\u001b[39m.\u001b[39;49mload()\n\u001b[1;32m   1965\u001b[0m _serialization_tls\u001b[39m.\u001b[39mmap_location \u001b[39m=\u001b[39m \u001b[39mNone\u001b[39;00m\n\u001b[1;32m   1967\u001b[0m torch\u001b[39m.\u001b[39m_utils\u001b[39m.\u001b[39m_validate_loaded_sparse_tensors()\n",
      "File \u001b[0;32m/mnt/cb03386d-9344-47b1-82f9-868fbb64b4ae/python_projects/HIV_inhibitors_classification_and_generation/env/lib/python3.10/site-packages/torch/serialization.py:1928\u001b[0m, in \u001b[0;36m_load.<locals>.persistent_load\u001b[0;34m(saved_id)\u001b[0m\n\u001b[1;32m   1926\u001b[0m \u001b[39melse\u001b[39;00m:\n\u001b[1;32m   1927\u001b[0m     nbytes \u001b[39m=\u001b[39m numel \u001b[39m*\u001b[39m torch\u001b[39m.\u001b[39m_utils\u001b[39m.\u001b[39m_element_size(dtype)\n\u001b[0;32m-> 1928\u001b[0m     typed_storage \u001b[39m=\u001b[39m load_tensor(\n\u001b[1;32m   1929\u001b[0m         dtype, nbytes, key, _maybe_decode_ascii(location)\n\u001b[1;32m   1930\u001b[0m     )\n\u001b[1;32m   1932\u001b[0m \u001b[39mreturn\u001b[39;00m typed_storage\n",
      "File \u001b[0;32m/mnt/cb03386d-9344-47b1-82f9-868fbb64b4ae/python_projects/HIV_inhibitors_classification_and_generation/env/lib/python3.10/site-packages/torch/serialization.py:1888\u001b[0m, in \u001b[0;36m_load.<locals>.load_tensor\u001b[0;34m(dtype, numel, key, location)\u001b[0m\n\u001b[1;32m   1885\u001b[0m     storage \u001b[39m=\u001b[39m overall_storage[storage_offset : storage_offset \u001b[39m+\u001b[39m numel]\n\u001b[1;32m   1886\u001b[0m \u001b[39melse\u001b[39;00m:\n\u001b[1;32m   1887\u001b[0m     storage \u001b[39m=\u001b[39m (\n\u001b[0;32m-> 1888\u001b[0m         zip_file\u001b[39m.\u001b[39;49mget_storage_from_record(name, numel, torch\u001b[39m.\u001b[39;49mUntypedStorage)\n\u001b[1;32m   1889\u001b[0m         \u001b[39m.\u001b[39m_typed_storage()\n\u001b[1;32m   1890\u001b[0m         \u001b[39m.\u001b[39m_untyped_storage\n\u001b[1;32m   1891\u001b[0m     )\n\u001b[1;32m   1892\u001b[0m \u001b[39m# swap here if byteswapping is needed\u001b[39;00m\n\u001b[1;32m   1893\u001b[0m \u001b[39mif\u001b[39;00m byteorderdata \u001b[39mis\u001b[39;00m \u001b[39mnot\u001b[39;00m \u001b[39mNone\u001b[39;00m:\n",
      "\u001b[0;31mKeyboardInterrupt\u001b[0m: "
     ]
    }
   ],
   "source": [
    "try:\n",
    "    config = ConfigurationManager()\n",
    "    model_trainer_config = config.get_model_trainer_config()\n",
    "    model_trainer = ModelTrainer(config=model_trainer_config)\n",
    "    results = model_trainer.train_tuning()\n",
    "\n",
    "except Exception as e:\n",
    "    raise e"
   ]
  },
  {
   "cell_type": "code",
   "execution_count": null,
   "metadata": {},
   "outputs": [],
   "source": []
  }
 ],
 "metadata": {
  "kernelspec": {
   "display_name": "env",
   "language": "python",
   "name": "python3"
  },
  "language_info": {
   "codemirror_mode": {
    "name": "ipython",
    "version": 3
   },
   "file_extension": ".py",
   "mimetype": "text/x-python",
   "name": "python",
   "nbconvert_exporter": "python",
   "pygments_lexer": "ipython3",
   "version": "3.10.12"
  }
 },
 "nbformat": 4,
 "nbformat_minor": 2
}

{
 "cells": [
  {
   "cell_type": "code",
   "execution_count": 1,
   "metadata": {},
   "outputs": [
    {
     "data": {
      "text/plain": [
       "'/mnt/cb03386d-9344-47b1-82f9-868fbb64b4ae/python_projects/HIV_inhibitors_classification_and_generation/research'"
      ]
     },
     "execution_count": 1,
     "metadata": {},
     "output_type": "execute_result"
    }
   ],
   "source": [
    "import os\n",
    "%pwd"
   ]
  },
  {
   "cell_type": "code",
   "execution_count": 2,
   "metadata": {},
   "outputs": [
    {
     "data": {
      "text/plain": [
       "'/mnt/cb03386d-9344-47b1-82f9-868fbb64b4ae/python_projects/HIV_inhibitors_classification_and_generation'"
      ]
     },
     "execution_count": 2,
     "metadata": {},
     "output_type": "execute_result"
    }
   ],
   "source": [
    "os.chdir(\"../\")\n",
    "%pwd"
   ]
  },
  {
   "cell_type": "code",
   "execution_count": 3,
   "metadata": {},
   "outputs": [],
   "source": [
    "from dataclasses import dataclass\n",
    "from pathlib import Path\n",
    "\n",
    "@dataclass(frozen=True)\n",
    "class DataTransformationConfig:\n",
    "    root_dir: Path\n",
    "    data_csv: Path\n",
    "    train_csv: Path\n",
    "    test_csv: Path\n",
    "    train_folder: Path\n",
    "    test_folder: Path\n",
    "    params: dict\n",
    "    dataset_val_status: bool"
   ]
  },
  {
   "cell_type": "code",
   "execution_count": 4,
   "metadata": {},
   "outputs": [],
   "source": [
    "from hivclass.constants import *\n",
    "from hivclass.utils.main_utils import create_directories, read_yaml\n",
    "\n",
    "class ConfigurationManager:\n",
    "    def __init__(\n",
    "        self,\n",
    "        config_file_path = CONFIG_FILE_PATH,\n",
    "        params_file_path = PARAMS_FILE_PATH,\n",
    "        schema_file_path = SCHEMA_FILE_PATH\n",
    "    ):\n",
    "        self.config = read_yaml(config_file_path)\n",
    "        self.params = read_yaml(params_file_path)\n",
    "        self.schema = read_yaml(schema_file_path)\n",
    "        \n",
    "        create_directories([self.config.artifacts_root])\n",
    "    \n",
    "    def get_data_transformation_config(self) -> DataTransformationConfig:\n",
    "        config = self.config.data_transformation\n",
    "        params = self.params.data_transformation\n",
    "        dataset_val_status_file = self.config.data_validation.STATUS_FILE\n",
    "        \n",
    "        with open(dataset_val_status_file, 'r') as f:\n",
    "            status = f.read()\n",
    "        \n",
    "        status = bool(str.split(status)[-1])\n",
    "        \n",
    "        create_directories([config.root_dir, config.train_folder, config.test_folder])\n",
    "        \n",
    "        data_transformation_config = DataTransformationConfig(\n",
    "            root_dir=config.root_dir,\n",
    "            data_csv=config.data_csv,\n",
    "            train_csv=config.train_csv,\n",
    "            test_csv=config.test_csv,\n",
    "            train_folder=config.train_folder,\n",
    "            test_folder=config.test_folder,\n",
    "            params=params.split_size,\n",
    "            dataset_val_status=status\n",
    "        )\n",
    "        \n",
    "        return data_transformation_config"
   ]
  },
  {
   "cell_type": "code",
   "execution_count": 9,
   "metadata": {},
   "outputs": [],
   "source": [
    "from tqdm import tqdm\n",
    "import pandas as pd\n",
    "from sklearn.model_selection import train_test_split\n",
    "import random\n",
    "import numpy as np\n",
    "from rdkit import Chem\n",
    "import torch\n",
    "from torch_geometric.data import Data\n",
    "import deepchem as dc\n",
    "\n",
    "class DataTransformation:\n",
    "    def __init__(self, config: DataTransformationConfig):\n",
    "        self.config = config\n",
    "    \n",
    "    def test_split_train_balanced(self):\n",
    "        df = pd.read_csv(self.config.data_csv)\n",
    "        \n",
    "        # Separate positive and negative cases\n",
    "        p_val = df[df.HIV_active == 1].to_numpy()\n",
    "        n_val = df[df.HIV_active == 0].to_numpy()\n",
    "\n",
    "        # Ensure class balance by selecting the smaller group as the target\n",
    "        if len(p_val) >= len(n_val):\n",
    "            big, small = p_val, n_val\n",
    "        else:\n",
    "            big, small = n_val, p_val\n",
    "\n",
    "        # Stratified test split\n",
    "        small_train, small_test = train_test_split(\n",
    "            small,\n",
    "            test_size=self.config.params,\n",
    "            random_state=42\n",
    "        )\n",
    "        \n",
    "        big_train, big_test = train_test_split(\n",
    "            big,\n",
    "            test_size=(self.config.params * len(small) / len(big)),\n",
    "            random_state=42\n",
    "        )\n",
    "\n",
    "        test = np.concatenate([small_test, big_test])\n",
    "        \n",
    "        # Ensure the train set remains balanced by oversampling the smaller class\n",
    "        train = np.concatenate([\n",
    "            big_train,\n",
    "            random.choices(small_train, k=len(big_train) - len(small_train))\n",
    "        ])\n",
    "\n",
    "        # Convert back to DataFrame\n",
    "        train_df = pd.DataFrame(train, columns=df.columns).sample(frac=1, random_state=42)\n",
    "        train_df.reset_index(drop=True, inplace=True)\n",
    "        # train_name_column = [f'train_{i+1}' for i in train_df.index]\n",
    "        # train_df.insert(0, 'name', train_name_column)\n",
    "        train_df.insert(0, 'name', 'train')\n",
    "        # train_df.to_csv(self.config.train_csv, index=False)\n",
    "        \n",
    "        test_df = pd.DataFrame(test, columns=df.columns).sample(frac=1, random_state=42)\n",
    "        test_df.reset_index(drop=True, inplace=True)\n",
    "        # test_name_column = [f'test{i+1}' for i in train_df.index]\n",
    "        # test_df.insert(0, 'name', test_name_column)\n",
    "        test_df.insert(0, 'name', 'test')\n",
    "        # test_df.to_csv(self.config.test_csv, index=False)\n",
    "        \n",
    "        return [train_df, test_df]\n",
    "    \n",
    "    def data_preparation(self, dfs):\n",
    "        device = \"cuda\" if torch.cuda.is_available() else \"cpu\"\n",
    "\n",
    "        datas = dfs\n",
    "        save_dirs = [self.config.train_folder, self.config.test_folder]\n",
    "        featurizer = dc.feat.MolGraphConvFeaturizer(use_edges=True)\n",
    "\n",
    "        all_deepchem_data = []\n",
    "\n",
    "        for data, save_dir in zip(datas, save_dirs):\n",
    "            # data_df = pd.read_csv(data)\n",
    "            # name = os.path.splitext(os.path.basename(data))[0]  # Extract filename without extension\n",
    "            name = data.name[0]\n",
    "            i = 0\n",
    "            data_df = pd.DataFrame(columns=['name', 'smiles', 'HIV_active'])\n",
    "            \n",
    "            for mol in tqdm(data.itertuples(index=True), total=len(data), desc=f\"Processing {name}\"):\n",
    "\n",
    "                mol_obj = Chem.MolFromSmiles(mol.smiles)\n",
    "                if mol_obj is None:\n",
    "                    continue  # Skip invalid SMILES strings\n",
    "                \n",
    "                label = torch.tensor(mol.HIV_active, dtype=torch.int64, device=device)\n",
    "                \n",
    "                graph_features = featurizer._featurize(mol_obj)\n",
    "\n",
    "                data_deepchem = Data(\n",
    "                    x=torch.tensor(graph_features.node_features, dtype=torch.float, device=device),\n",
    "                    edge_attr=torch.tensor(graph_features.edge_features, dtype=torch.float, device=device),\n",
    "                    edge_index=torch.tensor(graph_features.edge_index, dtype=torch.long, device=device),\n",
    "                    y=label, smiles=mol.smiles\n",
    "                )\n",
    "                all_deepchem_data.append(data_deepchem)\n",
    "\n",
    "                # Save preprocessed molecule graph\n",
    "                filename = os.path.join(save_dir, f\"{name}_{i}.pt\")\n",
    "                torch.save(data_deepchem, filename)\n",
    "                \n",
    "                if os.path.exists(filename):\n",
    "                    mol_graph = torch.load(filename, weights_only=False)\n",
    "                    \n",
    "                    if mol_graph.y.item() != None:\n",
    "                        data_df.loc[i] = [f\"{name}_{i}.pt\", mol_graph.smiles, mol_graph.y.item()]\n",
    "                        i += 1\n",
    "            \n",
    "            data_df.to_csv(os.path.join(save_dir, f\"{name}.csv\"), index=False)\n",
    "    \n",
    "    def transformation_compose(self):\n",
    "        dfs = self.test_split_train_balanced()\n",
    "        self.data_preparation(dfs)"
   ]
  },
  {
   "cell_type": "code",
   "execution_count": 10,
   "metadata": {},
   "outputs": [
    {
     "name": "stdout",
     "output_type": "stream",
     "text": [
      "[2025-04-07 19:28:50,059: INFO: main_utils: created directory at: artifacts]\n",
      "[2025-04-07 19:28:50,061: INFO: main_utils: created directory at: artifacts/data_transformation]\n",
      "[2025-04-07 19:28:50,061: INFO: main_utils: created directory at: artifacts/data_transformation/train]\n",
      "[2025-04-07 19:28:50,062: INFO: main_utils: created directory at: artifacts/data_transformation/test]\n"
     ]
    },
    {
     "name": "stderr",
     "output_type": "stream",
     "text": [
      "Processing train:   0%|          | 0/77636 [00:00<?, ?it/s]"
     ]
    },
    {
     "name": "stdout",
     "output_type": "stream",
     "text": [
      "[2025-04-07 19:28:50,287: INFO: molecule_feature_utils: input S not in allowable set ['SP', 'SP2', 'SP3']:]\n"
     ]
    },
    {
     "name": "stderr",
     "output_type": "stream",
     "text": [
      "Processing train:   0%|          | 4/77636 [00:00<37:36, 34.40it/s]"
     ]
    },
    {
     "name": "stdout",
     "output_type": "stream",
     "text": [
      "[2025-04-07 19:28:50,364: INFO: molecule_feature_utils: input S not in allowable set ['SP', 'SP2', 'SP3']:]\n"
     ]
    },
    {
     "name": "stderr",
     "output_type": "stream",
     "text": [
      "Processing train:   0%|          | 19/77636 [00:00<20:29, 63.14it/s]"
     ]
    },
    {
     "name": "stdout",
     "output_type": "stream",
     "text": [
      "[2025-04-07 19:28:50,572: INFO: molecule_feature_utils: input S not in allowable set ['SP', 'SP2', 'SP3']:]\n"
     ]
    },
    {
     "name": "stderr",
     "output_type": "stream",
     "text": [
      "Processing train:   0%|          | 26/77636 [00:00<21:51, 59.19it/s]"
     ]
    },
    {
     "name": "stdout",
     "output_type": "stream",
     "text": [
      "[2025-04-07 19:28:50,815: INFO: molecule_feature_utils: input S not in allowable set ['SP', 'SP2', 'SP3']:]\n",
      "[2025-04-07 19:28:50,842: INFO: molecule_feature_utils: input S not in allowable set ['SP', 'SP2', 'SP3']:]\n"
     ]
    },
    {
     "name": "stderr",
     "output_type": "stream",
     "text": [
      "Processing train:   0%|          | 32/77636 [00:00<29:35, 43.70it/s]"
     ]
    },
    {
     "name": "stdout",
     "output_type": "stream",
     "text": [
      "[2025-04-07 19:28:50,856: INFO: molecule_feature_utils: input S not in allowable set ['SP', 'SP2', 'SP3']:]\n"
     ]
    },
    {
     "name": "stderr",
     "output_type": "stream",
     "text": [
      "Processing train:   0%|          | 41/77636 [00:00<23:20, 55.39it/s]"
     ]
    },
    {
     "name": "stdout",
     "output_type": "stream",
     "text": [
      "[2025-04-07 19:28:51,058: INFO: molecule_feature_utils: input S not in allowable set ['SP', 'SP2', 'SP3']:]\n"
     ]
    },
    {
     "name": "stderr",
     "output_type": "stream",
     "text": [
      "Processing train:   0%|          | 48/77636 [00:00<23:11, 55.75it/s]"
     ]
    },
    {
     "name": "stdout",
     "output_type": "stream",
     "text": [
      "[2025-04-07 19:28:51,162: INFO: molecule_feature_utils: input UNSPECIFIED not in allowable set ['SP', 'SP2', 'SP3']:]\n"
     ]
    },
    {
     "name": "stderr",
     "output_type": "stream",
     "text": [
      "Processing train:   0%|          | 62/77636 [00:01<24:24, 52.99it/s]"
     ]
    },
    {
     "name": "stdout",
     "output_type": "stream",
     "text": [
      "[2025-04-07 19:28:51,429: INFO: molecule_feature_utils: input S not in allowable set ['SP', 'SP2', 'SP3']:]\n"
     ]
    },
    {
     "name": "stderr",
     "output_type": "stream",
     "text": [
      "Processing train:   0%|          | 75/77636 [00:01<23:23, 55.25it/s]"
     ]
    },
    {
     "name": "stdout",
     "output_type": "stream",
     "text": [
      "[2025-04-07 19:28:51,699: INFO: molecule_feature_utils: input S not in allowable set ['SP', 'SP2', 'SP3']:]\n"
     ]
    },
    {
     "name": "stderr",
     "output_type": "stream",
     "text": [
      "Processing train:   0%|          | 81/77636 [00:01<25:52, 49.95it/s]"
     ]
    },
    {
     "name": "stdout",
     "output_type": "stream",
     "text": [
      "[2025-04-07 19:28:51,761: INFO: molecule_feature_utils: input S not in allowable set ['SP', 'SP2', 'SP3']:]\n"
     ]
    },
    {
     "name": "stderr",
     "output_type": "stream",
     "text": [
      "Processing train:   0%|          | 87/77636 [00:01<25:09, 51.36it/s]"
     ]
    },
    {
     "name": "stdout",
     "output_type": "stream",
     "text": [
      "[2025-04-07 19:28:51,866: INFO: molecule_feature_utils: input S not in allowable set ['SP', 'SP2', 'SP3']:]\n"
     ]
    },
    {
     "name": "stderr",
     "output_type": "stream",
     "text": [
      "Processing train:   0%|          | 93/77636 [00:01<24:58, 51.76it/s]"
     ]
    },
    {
     "name": "stdout",
     "output_type": "stream",
     "text": [
      "[2025-04-07 19:28:51,978: INFO: molecule_feature_utils: input UNSPECIFIED not in allowable set ['SP', 'SP2', 'SP3']:]\n"
     ]
    },
    {
     "name": "stderr",
     "output_type": "stream",
     "text": [
      "Processing train:   0%|          | 108/77636 [00:01<21:24, 60.33it/s]"
     ]
    },
    {
     "name": "stdout",
     "output_type": "stream",
     "text": [
      "[2025-04-07 19:28:52,295: INFO: molecule_feature_utils: input S not in allowable set ['SP', 'SP2', 'SP3']:]\n"
     ]
    },
    {
     "name": "stderr",
     "output_type": "stream",
     "text": [
      "Processing train:   0%|          | 115/77636 [00:02<22:43, 56.85it/s]"
     ]
    },
    {
     "name": "stdout",
     "output_type": "stream",
     "text": [
      "[2025-04-07 19:28:52,386: INFO: molecule_feature_utils: input S not in allowable set ['SP', 'SP2', 'SP3']:]\n"
     ]
    },
    {
     "name": "stderr",
     "output_type": "stream",
     "text": [
      "Processing train:   0%|          | 123/77636 [00:02<20:59, 61.54it/s]"
     ]
    },
    {
     "name": "stdout",
     "output_type": "stream",
     "text": [
      "[2025-04-07 19:28:52,471: INFO: molecule_feature_utils: input S not in allowable set ['SP', 'SP2', 'SP3']:]\n"
     ]
    },
    {
     "name": "stderr",
     "output_type": "stream",
     "text": [
      "Processing train:   0%|          | 130/77636 [00:02<20:55, 61.73it/s]"
     ]
    },
    {
     "name": "stdout",
     "output_type": "stream",
     "text": [
      "[2025-04-07 19:28:52,564: INFO: molecule_feature_utils: input S not in allowable set ['SP', 'SP2', 'SP3']:]\n",
      "[2025-04-07 19:28:52,618: INFO: molecule_feature_utils: input S not in allowable set ['SP', 'SP2', 'SP3']:]\n",
      "[2025-04-07 19:28:52,723: INFO: molecule_feature_utils: input S not in allowable set ['SP', 'SP2', 'SP3']:]\n"
     ]
    },
    {
     "name": "stderr",
     "output_type": "stream",
     "text": [
      "Processing train:   0%|          | 137/77636 [00:02<25:56, 49.78it/s]"
     ]
    },
    {
     "name": "stdout",
     "output_type": "stream",
     "text": [
      "[2025-04-07 19:28:52,797: INFO: molecule_feature_utils: input S not in allowable set ['SP', 'SP2', 'SP3']:]\n"
     ]
    },
    {
     "name": "stderr",
     "output_type": "stream",
     "text": [
      "Processing train:   0%|          | 150/77636 [00:02<25:26, 50.77it/s]"
     ]
    },
    {
     "name": "stdout",
     "output_type": "stream",
     "text": [
      "[2025-04-07 19:28:53,058: INFO: molecule_feature_utils: input S not in allowable set ['SP', 'SP2', 'SP3']:]\n"
     ]
    },
    {
     "name": "stderr",
     "output_type": "stream",
     "text": [
      "Processing train:   0%|          | 163/77636 [00:03<22:48, 56.61it/s]"
     ]
    },
    {
     "name": "stdout",
     "output_type": "stream",
     "text": [
      "[2025-04-07 19:28:53,260: INFO: molecule_feature_utils: input S not in allowable set ['SP', 'SP2', 'SP3']:]\n"
     ]
    },
    {
     "name": "stderr",
     "output_type": "stream",
     "text": [
      "Processing train:   0%|          | 171/77636 [00:03<21:00, 61.45it/s]"
     ]
    },
    {
     "name": "stdout",
     "output_type": "stream",
     "text": [
      "[2025-04-07 19:28:53,486: INFO: molecule_feature_utils: input S not in allowable set ['SP', 'SP2', 'SP3']:]\n"
     ]
    },
    {
     "name": "stderr",
     "output_type": "stream",
     "text": [
      "Processing train:   0%|          | 187/77636 [00:03<22:28, 57.42it/s]"
     ]
    },
    {
     "name": "stdout",
     "output_type": "stream",
     "text": [
      "[2025-04-07 19:28:53,749: INFO: molecule_feature_utils: input S not in allowable set ['SP', 'SP2', 'SP3']:]\n"
     ]
    },
    {
     "name": "stderr",
     "output_type": "stream",
     "text": [
      "Processing train:   0%|          | 194/77636 [00:03<22:58, 56.18it/s]"
     ]
    },
    {
     "name": "stdout",
     "output_type": "stream",
     "text": [
      "[2025-04-07 19:28:53,816: INFO: molecule_feature_utils: input S not in allowable set ['SP', 'SP2', 'SP3']:]\n"
     ]
    },
    {
     "name": "stderr",
     "output_type": "stream",
     "text": [
      "Processing train:   0%|          | 222/77636 [00:04<24:23, 52.90it/s]"
     ]
    },
    {
     "name": "stdout",
     "output_type": "stream",
     "text": [
      "[2025-04-07 19:28:54,333: INFO: molecule_feature_utils: input UNSPECIFIED not in allowable set ['SP', 'SP2', 'SP3']:]\n"
     ]
    },
    {
     "name": "stderr",
     "output_type": "stream",
     "text": [
      "Processing train:   0%|          | 230/77636 [00:04<22:08, 58.26it/s]"
     ]
    },
    {
     "name": "stdout",
     "output_type": "stream",
     "text": [
      "[2025-04-07 19:28:54,411: INFO: molecule_feature_utils: input UNSPECIFIED not in allowable set ['SP', 'SP2', 'SP3']:]\n"
     ]
    },
    {
     "name": "stderr",
     "output_type": "stream",
     "text": [
      "Processing train:   0%|          | 264/77636 [00:04<18:03, 71.38it/s]"
     ]
    },
    {
     "name": "stdout",
     "output_type": "stream",
     "text": [
      "[2025-04-07 19:28:54,876: INFO: molecule_feature_utils: input S not in allowable set ['SP', 'SP2', 'SP3']:]\n"
     ]
    },
    {
     "name": "stderr",
     "output_type": "stream",
     "text": [
      "Processing train:   0%|          | 294/77636 [00:05<21:57, 58.69it/s]"
     ]
    },
    {
     "name": "stdout",
     "output_type": "stream",
     "text": [
      "[2025-04-07 19:28:55,477: INFO: molecule_feature_utils: input S not in allowable set ['SP', 'SP2', 'SP3']:]\n"
     ]
    },
    {
     "name": "stderr",
     "output_type": "stream",
     "text": [
      "Processing train:   0%|          | 301/77636 [00:05<22:37, 56.99it/s]"
     ]
    },
    {
     "name": "stdout",
     "output_type": "stream",
     "text": [
      "[2025-04-07 19:28:55,688: INFO: molecule_feature_utils: input S not in allowable set ['SP', 'SP2', 'SP3']:]\n"
     ]
    },
    {
     "name": "stderr",
     "output_type": "stream",
     "text": [
      "Processing train:   0%|          | 308/77636 [00:05<27:00, 47.73it/s]"
     ]
    },
    {
     "name": "stdout",
     "output_type": "stream",
     "text": [
      "[2025-04-07 19:28:55,755: INFO: molecule_feature_utils: input UNSPECIFIED not in allowable set ['SP', 'SP2', 'SP3']:]\n"
     ]
    },
    {
     "name": "stderr",
     "output_type": "stream",
     "text": [
      "Processing train:   0%|          | 314/77636 [00:05<25:49, 49.90it/s]"
     ]
    },
    {
     "name": "stdout",
     "output_type": "stream",
     "text": [
      "[2025-04-07 19:28:55,916: INFO: molecule_feature_utils: input S not in allowable set ['SP', 'SP2', 'SP3']:]\n"
     ]
    },
    {
     "name": "stderr",
     "output_type": "stream",
     "text": [
      "Processing train:   0%|          | 337/77636 [00:06<21:18, 60.47it/s]"
     ]
    },
    {
     "name": "stdout",
     "output_type": "stream",
     "text": [
      "[2025-04-07 19:28:56,204: INFO: molecule_feature_utils: input SP3D2 not in allowable set ['SP', 'SP2', 'SP3']:]\n",
      "[2025-04-07 19:28:56,329: INFO: molecule_feature_utils: input S not in allowable set ['SP', 'SP2', 'SP3']:]\n"
     ]
    },
    {
     "name": "stderr",
     "output_type": "stream",
     "text": [
      "Processing train:   0%|          | 350/77636 [00:06<24:00, 53.64it/s]"
     ]
    },
    {
     "name": "stdout",
     "output_type": "stream",
     "text": [
      "[2025-04-07 19:28:56,607: INFO: molecule_feature_utils: input S not in allowable set ['SP', 'SP2', 'SP3']:]\n"
     ]
    },
    {
     "name": "stderr",
     "output_type": "stream",
     "text": [
      "Processing train:   0%|          | 376/77636 [00:06<19:55, 64.61it/s]"
     ]
    },
    {
     "name": "stdout",
     "output_type": "stream",
     "text": [
      "[2025-04-07 19:28:56,913: INFO: molecule_feature_utils: input S not in allowable set ['SP', 'SP2', 'SP3']:]\n"
     ]
    },
    {
     "name": "stderr",
     "output_type": "stream",
     "text": [
      "Processing train:   1%|          | 390/77636 [00:06<20:24, 63.06it/s]"
     ]
    },
    {
     "name": "stdout",
     "output_type": "stream",
     "text": [
      "[2025-04-07 19:28:57,236: INFO: molecule_feature_utils: input S not in allowable set ['SP', 'SP2', 'SP3']:]\n"
     ]
    },
    {
     "name": "stderr",
     "output_type": "stream",
     "text": [
      "Processing train:   1%|          | 412/77636 [00:07<17:27, 73.74it/s]"
     ]
    },
    {
     "name": "stdout",
     "output_type": "stream",
     "text": [
      "[2025-04-07 19:28:57,447: INFO: molecule_feature_utils: input SP3D not in allowable set ['SP', 'SP2', 'SP3']:]\n"
     ]
    },
    {
     "name": "stderr",
     "output_type": "stream",
     "text": [
      "Processing train:   1%|          | 473/77636 [00:07<17:02, 75.49it/s]"
     ]
    },
    {
     "name": "stdout",
     "output_type": "stream",
     "text": [
      "[2025-04-07 19:28:58,230: INFO: molecule_feature_utils: input SP3D not in allowable set ['SP', 'SP2', 'SP3']:]\n",
      "[2025-04-07 19:28:58,231: INFO: molecule_feature_utils: input S not in allowable set ['SP', 'SP2', 'SP3']:]\n"
     ]
    },
    {
     "name": "stderr",
     "output_type": "stream",
     "text": [
      "Processing train:   1%|          | 481/77636 [00:08<20:30, 62.73it/s]"
     ]
    },
    {
     "name": "stdout",
     "output_type": "stream",
     "text": [
      "[2025-04-07 19:28:58,375: INFO: molecule_feature_utils: input S not in allowable set ['SP', 'SP2', 'SP3']:]\n",
      "[2025-04-07 19:28:58,443: INFO: molecule_feature_utils: input S not in allowable set ['SP', 'SP2', 'SP3']:]\n"
     ]
    },
    {
     "name": "stderr",
     "output_type": "stream",
     "text": [
      "Processing train:   1%|          | 505/77636 [00:08<20:45, 61.94it/s]"
     ]
    },
    {
     "name": "stdout",
     "output_type": "stream",
     "text": [
      "[2025-04-07 19:28:58,848: INFO: molecule_feature_utils: input SP3D not in allowable set ['SP', 'SP2', 'SP3']:]\n"
     ]
    },
    {
     "name": "stderr",
     "output_type": "stream",
     "text": [
      "Processing train:   1%|          | 518/77636 [00:08<23:41, 54.26it/s]"
     ]
    },
    {
     "name": "stdout",
     "output_type": "stream",
     "text": [
      "[2025-04-07 19:28:59,046: INFO: molecule_feature_utils: input S not in allowable set ['SP', 'SP2', 'SP3']:]\n",
      "[2025-04-07 19:28:59,107: INFO: molecule_feature_utils: input S not in allowable set ['SP', 'SP2', 'SP3']:]\n"
     ]
    },
    {
     "name": "stderr",
     "output_type": "stream",
     "text": [
      "Processing train:   1%|          | 547/77636 [00:09<19:49, 64.82it/s]"
     ]
    },
    {
     "name": "stdout",
     "output_type": "stream",
     "text": [
      "[2025-04-07 19:28:59,533: INFO: molecule_feature_utils: input S not in allowable set ['SP', 'SP2', 'SP3']:]\n"
     ]
    },
    {
     "name": "stderr",
     "output_type": "stream",
     "text": [
      "Processing train:   1%|          | 556/77636 [00:09<17:57, 71.52it/s]"
     ]
    },
    {
     "name": "stdout",
     "output_type": "stream",
     "text": [
      "[2025-04-07 19:28:59,644: INFO: molecule_feature_utils: input SP3D2 not in allowable set ['SP', 'SP2', 'SP3']:]\n"
     ]
    },
    {
     "name": "stderr",
     "output_type": "stream",
     "text": [
      "Processing train:   1%|          | 567/77636 [00:09<15:46, 81.46it/s]"
     ]
    },
    {
     "name": "stdout",
     "output_type": "stream",
     "text": [
      "[2025-04-07 19:28:59,741: INFO: molecule_feature_utils: input S not in allowable set ['SP', 'SP2', 'SP3']:]\n"
     ]
    },
    {
     "name": "stderr",
     "output_type": "stream",
     "text": [
      "Processing train:   1%|          | 584/77636 [00:09<17:32, 73.18it/s]"
     ]
    },
    {
     "name": "stdout",
     "output_type": "stream",
     "text": [
      "[2025-04-07 19:28:59,960: INFO: molecule_feature_utils: input S not in allowable set ['SP', 'SP2', 'SP3']:]\n",
      "[2025-04-07 19:29:00,033: INFO: molecule_feature_utils: input S not in allowable set ['SP', 'SP2', 'SP3']:]\n"
     ]
    },
    {
     "name": "stderr",
     "output_type": "stream",
     "text": [
      "Processing train:   1%|          | 623/77636 [00:10<20:55, 61.36it/s]"
     ]
    },
    {
     "name": "stdout",
     "output_type": "stream",
     "text": [
      "[2025-04-07 19:29:00,645: INFO: molecule_feature_utils: input S not in allowable set ['SP', 'SP2', 'SP3']:]\n"
     ]
    },
    {
     "name": "stderr",
     "output_type": "stream",
     "text": [
      "Processing train:   1%|          | 654/77636 [00:10<19:00, 67.49it/s]"
     ]
    },
    {
     "name": "stdout",
     "output_type": "stream",
     "text": [
      "[2025-04-07 19:29:01,049: INFO: molecule_feature_utils: input UNSPECIFIED not in allowable set ['SP', 'SP2', 'SP3']:]\n"
     ]
    },
    {
     "name": "stderr",
     "output_type": "stream",
     "text": [
      "Processing train:   1%|          | 668/77636 [00:11<20:10, 63.57it/s]"
     ]
    },
    {
     "name": "stdout",
     "output_type": "stream",
     "text": [
      "[2025-04-07 19:29:01,319: INFO: molecule_feature_utils: input S not in allowable set ['SP', 'SP2', 'SP3']:]\n"
     ]
    },
    {
     "name": "stderr",
     "output_type": "stream",
     "text": [
      "Processing train:   1%|          | 676/77636 [00:11<19:17, 66.47it/s]"
     ]
    },
    {
     "name": "stdout",
     "output_type": "stream",
     "text": [
      "[2025-04-07 19:29:01,472: INFO: molecule_feature_utils: input S not in allowable set ['SP', 'SP2', 'SP3']:]\n"
     ]
    },
    {
     "name": "stderr",
     "output_type": "stream",
     "text": [
      "Processing train:   1%|          | 683/77636 [00:11<21:08, 60.65it/s]"
     ]
    },
    {
     "name": "stdout",
     "output_type": "stream",
     "text": [
      "[2025-04-07 19:29:01,591: INFO: molecule_feature_utils: input UNSPECIFIED not in allowable set ['SP', 'SP2', 'SP3']:]\n",
      "[2025-04-07 19:29:01,594: INFO: molecule_feature_utils: input UNSPECIFIED not in allowable set ['SP', 'SP2', 'SP3']:]\n"
     ]
    },
    {
     "name": "stderr",
     "output_type": "stream",
     "text": [
      "Processing train:   1%|          | 794/77636 [00:13<20:54, 61.26it/s]"
     ]
    },
    {
     "name": "stdout",
     "output_type": "stream",
     "text": [
      "[2025-04-07 19:29:03,566: INFO: molecule_feature_utils: input S not in allowable set ['SP', 'SP2', 'SP3']:]\n"
     ]
    },
    {
     "name": "stderr",
     "output_type": "stream",
     "text": [
      "Processing train:   1%|          | 801/77636 [00:13<22:30, 56.91it/s]"
     ]
    },
    {
     "name": "stdout",
     "output_type": "stream",
     "text": [
      "[2025-04-07 19:29:03,739: INFO: molecule_feature_utils: input S not in allowable set ['SP', 'SP2', 'SP3']:]\n"
     ]
    },
    {
     "name": "stderr",
     "output_type": "stream",
     "text": [
      "Processing train:   1%|          | 808/77636 [00:13<21:40, 59.05it/s]"
     ]
    },
    {
     "name": "stdout",
     "output_type": "stream",
     "text": [
      "[2025-04-07 19:29:03,780: INFO: molecule_feature_utils: input S not in allowable set ['SP', 'SP2', 'SP3']:]\n"
     ]
    },
    {
     "name": "stderr",
     "output_type": "stream",
     "text": [
      "Processing train:   1%|          | 815/77636 [00:13<24:52, 51.46it/s]"
     ]
    },
    {
     "name": "stdout",
     "output_type": "stream",
     "text": [
      "[2025-04-07 19:29:03,996: INFO: molecule_feature_utils: input S not in allowable set ['SP', 'SP2', 'SP3']:]\n"
     ]
    },
    {
     "name": "stderr",
     "output_type": "stream",
     "text": [
      "Processing train:   1%|          | 821/77636 [00:13<24:06, 53.11it/s]"
     ]
    },
    {
     "name": "stdout",
     "output_type": "stream",
     "text": [
      "[2025-04-07 19:29:04,104: INFO: molecule_feature_utils: input S not in allowable set ['SP', 'SP2', 'SP3']:]\n"
     ]
    },
    {
     "name": "stderr",
     "output_type": "stream",
     "text": [
      "Processing train:   1%|          | 827/77636 [00:14<31:03, 41.22it/s]"
     ]
    },
    {
     "name": "stdout",
     "output_type": "stream",
     "text": [
      "[2025-04-07 19:29:04,369: INFO: molecule_feature_utils: input S not in allowable set ['SP', 'SP2', 'SP3']:]\n"
     ]
    },
    {
     "name": "stderr",
     "output_type": "stream",
     "text": [
      "Processing train:   1%|          | 845/77636 [00:14<22:35, 56.66it/s]"
     ]
    },
    {
     "name": "stdout",
     "output_type": "stream",
     "text": [
      "[2025-04-07 19:29:04,583: INFO: molecule_feature_utils: input SP3D not in allowable set ['SP', 'SP2', 'SP3']:]\n",
      "[2025-04-07 19:29:04,585: INFO: molecule_feature_utils: input SP3D not in allowable set ['SP', 'SP2', 'SP3']:]\n",
      "[2025-04-07 19:29:04,586: INFO: molecule_feature_utils: input SP3D not in allowable set ['SP', 'SP2', 'SP3']:]\n",
      "[2025-04-07 19:29:04,588: INFO: molecule_feature_utils: input UNSPECIFIED not in allowable set ['SP', 'SP2', 'SP3']:]\n",
      "[2025-04-07 19:29:04,590: INFO: molecule_feature_utils: input SP3D not in allowable set ['SP', 'SP2', 'SP3']:]\n"
     ]
    },
    {
     "name": "stderr",
     "output_type": "stream",
     "text": [
      "Processing train:   1%|          | 855/77636 [00:14<19:41, 64.98it/s]"
     ]
    },
    {
     "name": "stdout",
     "output_type": "stream",
     "text": [
      "[2025-04-07 19:29:04,676: INFO: molecule_feature_utils: input S not in allowable set ['SP', 'SP2', 'SP3']:]\n"
     ]
    },
    {
     "name": "stderr",
     "output_type": "stream",
     "text": [
      "Processing train:   1%|          | 863/77636 [00:14<19:46, 64.68it/s]"
     ]
    },
    {
     "name": "stdout",
     "output_type": "stream",
     "text": [
      "[2025-04-07 19:29:04,740: INFO: molecule_feature_utils: input UNSPECIFIED not in allowable set ['SP', 'SP2', 'SP3']:]\n",
      "[2025-04-07 19:29:04,794: INFO: molecule_feature_utils: input S not in allowable set ['SP', 'SP2', 'SP3']:]\n",
      "[2025-04-07 19:29:04,921: INFO: molecule_feature_utils: input S not in allowable set ['SP', 'SP2', 'SP3']:]\n"
     ]
    },
    {
     "name": "stderr",
     "output_type": "stream",
     "text": [
      "Processing train:   1%|          | 870/77636 [00:14<24:34, 52.08it/s]"
     ]
    },
    {
     "name": "stdout",
     "output_type": "stream",
     "text": [
      "[2025-04-07 19:29:04,985: INFO: molecule_feature_utils: input S not in allowable set ['SP', 'SP2', 'SP3']:]\n"
     ]
    },
    {
     "name": "stderr",
     "output_type": "stream",
     "text": [
      "Processing train:   1%|          | 899/77636 [00:15<23:04, 55.41it/s]"
     ]
    },
    {
     "name": "stdout",
     "output_type": "stream",
     "text": [
      "[2025-04-07 19:29:05,564: INFO: molecule_feature_utils: input S not in allowable set ['SP', 'SP2', 'SP3']:]\n"
     ]
    },
    {
     "name": "stderr",
     "output_type": "stream",
     "text": [
      "Processing train:   1%|          | 908/77636 [00:15<22:38, 56.48it/s]"
     ]
    },
    {
     "name": "stdout",
     "output_type": "stream",
     "text": [
      "[2025-04-07 19:29:05,610: INFO: molecule_feature_utils: input S not in allowable set ['SP', 'SP2', 'SP3']:]\n"
     ]
    },
    {
     "name": "stderr",
     "output_type": "stream",
     "text": [
      "Processing train:   1%|          | 914/77636 [00:15<23:19, 54.82it/s]"
     ]
    },
    {
     "name": "stdout",
     "output_type": "stream",
     "text": [
      "[2025-04-07 19:29:05,761: INFO: molecule_feature_utils: input UNSPECIFIED not in allowable set ['SP', 'SP2', 'SP3']:]\n"
     ]
    },
    {
     "name": "stderr",
     "output_type": "stream",
     "text": [
      "Processing train:   1%|          | 948/77636 [00:16<20:01, 63.83it/s]"
     ]
    },
    {
     "name": "stdout",
     "output_type": "stream",
     "text": [
      "[2025-04-07 19:29:06,224: INFO: molecule_feature_utils: input UNSPECIFIED not in allowable set ['SP', 'SP2', 'SP3']:]\n"
     ]
    },
    {
     "name": "stderr",
     "output_type": "stream",
     "text": [
      "Processing train:   1%|▏         | 984/77636 [00:16<20:10, 63.35it/s]"
     ]
    },
    {
     "name": "stdout",
     "output_type": "stream",
     "text": [
      "[2025-04-07 19:29:06,819: INFO: molecule_feature_utils: input SP3D not in allowable set ['SP', 'SP2', 'SP3']:]\n",
      "[2025-04-07 19:29:06,821: INFO: molecule_feature_utils: input SP3D not in allowable set ['SP', 'SP2', 'SP3']:]\n",
      "[2025-04-07 19:29:06,850: INFO: molecule_feature_utils: input SP3D not in allowable set ['SP', 'SP2', 'SP3']:]\n",
      "[2025-04-07 19:29:06,851: INFO: molecule_feature_utils: input SP3D not in allowable set ['SP', 'SP2', 'SP3']:]\n"
     ]
    },
    {
     "name": "stderr",
     "output_type": "stream",
     "text": [
      "Processing train:   1%|▏         | 1029/77636 [00:17<17:06, 74.61it/s]"
     ]
    },
    {
     "name": "stdout",
     "output_type": "stream",
     "text": [
      "[2025-04-07 19:29:07,583: INFO: molecule_feature_utils: input S not in allowable set ['SP', 'SP2', 'SP3']:]\n"
     ]
    },
    {
     "name": "stderr",
     "output_type": "stream",
     "text": [
      "Processing train:   1%|▏         | 1047/77636 [00:17<18:33, 68.81it/s]"
     ]
    },
    {
     "name": "stdout",
     "output_type": "stream",
     "text": [
      "[2025-04-07 19:29:07,806: INFO: molecule_feature_utils: input S not in allowable set ['SP', 'SP2', 'SP3']:]\n"
     ]
    },
    {
     "name": "stderr",
     "output_type": "stream",
     "text": [
      "Processing train:   1%|▏         | 1056/77636 [00:17<17:45, 71.85it/s]"
     ]
    },
    {
     "name": "stdout",
     "output_type": "stream",
     "text": [
      "[2025-04-07 19:29:07,897: INFO: molecule_feature_utils: input S not in allowable set ['SP', 'SP2', 'SP3']:]\n",
      "[2025-04-07 19:29:07,947: INFO: molecule_feature_utils: input UNSPECIFIED not in allowable set ['SP', 'SP2', 'SP3']:]\n"
     ]
    },
    {
     "name": "stderr",
     "output_type": "stream",
     "text": [
      "Processing train:   1%|▏         | 1064/77636 [00:17<19:31, 65.38it/s]"
     ]
    },
    {
     "name": "stdout",
     "output_type": "stream",
     "text": [
      "[2025-04-07 19:29:08,031: INFO: molecule_feature_utils: input SP3D not in allowable set ['SP', 'SP2', 'SP3']:]\n",
      "[2025-04-07 19:29:08,033: INFO: molecule_feature_utils: input UNSPECIFIED not in allowable set ['SP', 'SP2', 'SP3']:]\n",
      "[2025-04-07 19:29:08,034: INFO: molecule_feature_utils: input SP3D not in allowable set ['SP', 'SP2', 'SP3']:]\n"
     ]
    },
    {
     "name": "stderr",
     "output_type": "stream",
     "text": [
      "Processing train:   1%|▏         | 1078/77636 [00:18<21:39, 58.91it/s]"
     ]
    },
    {
     "name": "stdout",
     "output_type": "stream",
     "text": [
      "[2025-04-07 19:29:08,299: INFO: molecule_feature_utils: input S not in allowable set ['SP', 'SP2', 'SP3']:]\n"
     ]
    },
    {
     "name": "stderr",
     "output_type": "stream",
     "text": [
      "Processing train:   1%|▏         | 1088/77636 [00:18<18:33, 68.74it/s]"
     ]
    },
    {
     "name": "stdout",
     "output_type": "stream",
     "text": [
      "[2025-04-07 19:29:08,389: INFO: molecule_feature_utils: input S not in allowable set ['SP', 'SP2', 'SP3']:]\n"
     ]
    },
    {
     "name": "stderr",
     "output_type": "stream",
     "text": [
      "Processing train:   1%|▏         | 1096/77636 [00:18<18:49, 67.74it/s]"
     ]
    },
    {
     "name": "stdout",
     "output_type": "stream",
     "text": [
      "[2025-04-07 19:29:08,570: INFO: molecule_feature_utils: input S not in allowable set ['SP', 'SP2', 'SP3']:]\n"
     ]
    },
    {
     "name": "stderr",
     "output_type": "stream",
     "text": [
      "Processing train:   1%|▏         | 1123/77636 [00:18<21:34, 59.12it/s]"
     ]
    },
    {
     "name": "stdout",
     "output_type": "stream",
     "text": [
      "[2025-04-07 19:29:09,083: INFO: molecule_feature_utils: input S not in allowable set ['SP', 'SP2', 'SP3']:]\n"
     ]
    },
    {
     "name": "stderr",
     "output_type": "stream",
     "text": [
      "Processing train:   1%|▏         | 1140/77636 [00:19<20:05, 63.47it/s]"
     ]
    },
    {
     "name": "stdout",
     "output_type": "stream",
     "text": [
      "[2025-04-07 19:29:09,335: INFO: molecule_feature_utils: input S not in allowable set ['SP', 'SP2', 'SP3']:]\n"
     ]
    },
    {
     "name": "stderr",
     "output_type": "stream",
     "text": [
      "Processing train:   1%|▏         | 1147/77636 [00:19<21:42, 58.73it/s]"
     ]
    },
    {
     "name": "stdout",
     "output_type": "stream",
     "text": [
      "[2025-04-07 19:29:09,470: INFO: molecule_feature_utils: input S not in allowable set ['SP', 'SP2', 'SP3']:]\n"
     ]
    },
    {
     "name": "stderr",
     "output_type": "stream",
     "text": [
      "Processing train:   1%|▏         | 1154/77636 [00:19<21:43, 58.69it/s]"
     ]
    },
    {
     "name": "stdout",
     "output_type": "stream",
     "text": [
      "[2025-04-07 19:29:09,594: INFO: molecule_feature_utils: input UNSPECIFIED not in allowable set ['SP', 'SP2', 'SP3']:]\n"
     ]
    },
    {
     "name": "stderr",
     "output_type": "stream",
     "text": [
      "Processing train:   1%|▏         | 1161/77636 [00:19<21:35, 59.03it/s]"
     ]
    },
    {
     "name": "stdout",
     "output_type": "stream",
     "text": [
      "[2025-04-07 19:29:09,669: INFO: molecule_feature_utils: input UNSPECIFIED not in allowable set ['SP', 'SP2', 'SP3']:]\n",
      "[2025-04-07 19:29:09,670: INFO: molecule_feature_utils: input SP3D not in allowable set ['SP', 'SP2', 'SP3']:]\n",
      "[2025-04-07 19:29:09,672: INFO: molecule_feature_utils: input SP3D not in allowable set ['SP', 'SP2', 'SP3']:]\n"
     ]
    },
    {
     "name": "stderr",
     "output_type": "stream",
     "text": [
      "Processing train:   2%|▏         | 1183/77636 [00:19<20:05, 63.42it/s]"
     ]
    },
    {
     "name": "stdout",
     "output_type": "stream",
     "text": [
      "[2025-04-07 19:29:09,938: INFO: molecule_feature_utils: input S not in allowable set ['SP', 'SP2', 'SP3']:]\n",
      "[2025-04-07 19:29:10,086: INFO: molecule_feature_utils: input S not in allowable set ['SP', 'SP2', 'SP3']:]\n"
     ]
    },
    {
     "name": "stderr",
     "output_type": "stream",
     "text": [
      "Processing train:   2%|▏         | 1198/77636 [00:20<21:26, 59.41it/s]"
     ]
    },
    {
     "name": "stdout",
     "output_type": "stream",
     "text": [
      "[2025-04-07 19:29:10,243: INFO: molecule_feature_utils: input UNSPECIFIED not in allowable set ['SP', 'SP2', 'SP3']:]\n",
      "[2025-04-07 19:29:10,318: INFO: molecule_feature_utils: input S not in allowable set ['SP', 'SP2', 'SP3']:]\n"
     ]
    },
    {
     "name": "stderr",
     "output_type": "stream",
     "text": [
      "Processing train:   2%|▏         | 1212/77636 [00:20<22:36, 56.32it/s]"
     ]
    },
    {
     "name": "stdout",
     "output_type": "stream",
     "text": [
      "[2025-04-07 19:29:10,581: INFO: molecule_feature_utils: input S not in allowable set ['SP', 'SP2', 'SP3']:]\n"
     ]
    },
    {
     "name": "stderr",
     "output_type": "stream",
     "text": [
      "Processing train:   2%|▏         | 1218/77636 [00:20<24:58, 51.01it/s]"
     ]
    },
    {
     "name": "stdout",
     "output_type": "stream",
     "text": [
      "[2025-04-07 19:29:10,717: INFO: molecule_feature_utils: input S not in allowable set ['SP', 'SP2', 'SP3']:]\n"
     ]
    },
    {
     "name": "stderr",
     "output_type": "stream",
     "text": [
      "Processing train:   2%|▏         | 1224/77636 [00:20<24:59, 50.97it/s]"
     ]
    },
    {
     "name": "stdout",
     "output_type": "stream",
     "text": [
      "[2025-04-07 19:29:10,759: INFO: molecule_feature_utils: input SP3D2 not in allowable set ['SP', 'SP2', 'SP3']:]\n",
      "[2025-04-07 19:29:10,760: INFO: molecule_feature_utils: input SP3D not in allowable set ['SP', 'SP2', 'SP3']:]\n"
     ]
    },
    {
     "name": "stderr",
     "output_type": "stream",
     "text": [
      "Processing train:   2%|▏         | 1259/77636 [00:21<18:14, 69.78it/s]"
     ]
    },
    {
     "name": "stdout",
     "output_type": "stream",
     "text": [
      "[2025-04-07 19:29:11,310: INFO: molecule_feature_utils: input UNSPECIFIED not in allowable set ['SP', 'SP2', 'SP3']:]\n"
     ]
    },
    {
     "name": "stderr",
     "output_type": "stream",
     "text": [
      "Processing train:   2%|▏         | 1295/77636 [00:21<27:05, 46.95it/s]"
     ]
    },
    {
     "name": "stdout",
     "output_type": "stream",
     "text": [
      "[2025-04-07 19:29:12,093: INFO: molecule_feature_utils: input S not in allowable set ['SP', 'SP2', 'SP3']:]\n"
     ]
    },
    {
     "name": "stderr",
     "output_type": "stream",
     "text": [
      "Processing train:   2%|▏         | 1301/77636 [00:21<25:52, 49.18it/s]"
     ]
    },
    {
     "name": "stdout",
     "output_type": "stream",
     "text": [
      "[2025-04-07 19:29:12,245: INFO: molecule_feature_utils: input S not in allowable set ['SP', 'SP2', 'SP3']:]\n"
     ]
    },
    {
     "name": "stderr",
     "output_type": "stream",
     "text": [
      "Processing train:   2%|▏         | 1307/77636 [00:22<26:58, 47.16it/s]"
     ]
    },
    {
     "name": "stdout",
     "output_type": "stream",
     "text": [
      "[2025-04-07 19:29:12,382: INFO: molecule_feature_utils: input S not in allowable set ['SP', 'SP2', 'SP3']:]\n"
     ]
    },
    {
     "name": "stderr",
     "output_type": "stream",
     "text": [
      "Processing train:   2%|▏         | 1333/77636 [00:22<18:25, 69.01it/s]"
     ]
    },
    {
     "name": "stdout",
     "output_type": "stream",
     "text": [
      "[2025-04-07 19:29:12,661: INFO: molecule_feature_utils: input S not in allowable set ['SP', 'SP2', 'SP3']:]\n",
      "[2025-04-07 19:29:12,686: INFO: molecule_feature_utils: input SP3D2 not in allowable set ['SP', 'SP2', 'SP3']:]\n"
     ]
    },
    {
     "name": "stderr",
     "output_type": "stream",
     "text": [
      "Processing train:   2%|▏         | 1341/77636 [00:22<19:54, 63.86it/s]"
     ]
    },
    {
     "name": "stdout",
     "output_type": "stream",
     "text": [
      "[2025-04-07 19:29:12,813: INFO: molecule_feature_utils: input S not in allowable set ['SP', 'SP2', 'SP3']:]\n"
     ]
    },
    {
     "name": "stderr",
     "output_type": "stream",
     "text": [
      "Processing train:   2%|▏         | 1350/77636 [00:22<18:24, 69.09it/s]"
     ]
    },
    {
     "name": "stdout",
     "output_type": "stream",
     "text": [
      "[2025-04-07 19:29:12,959: INFO: molecule_feature_utils: input S not in allowable set ['SP', 'SP2', 'SP3']:]\n",
      "[2025-04-07 19:29:13,074: INFO: molecule_feature_utils: input S not in allowable set ['SP', 'SP2', 'SP3']:]\n"
     ]
    },
    {
     "name": "stderr",
     "output_type": "stream",
     "text": [
      "Processing train:   2%|▏         | 1358/77636 [00:22<22:40, 56.08it/s]"
     ]
    },
    {
     "name": "stdout",
     "output_type": "stream",
     "text": [
      "[2025-04-07 19:29:13,264: INFO: molecule_feature_utils: input S not in allowable set ['SP', 'SP2', 'SP3']:]\n"
     ]
    },
    {
     "name": "stderr",
     "output_type": "stream",
     "text": [
      "Processing train:   2%|▏         | 1365/77636 [00:23<25:49, 49.21it/s]"
     ]
    },
    {
     "name": "stdout",
     "output_type": "stream",
     "text": [
      "[2025-04-07 19:29:13,294: INFO: molecule_feature_utils: input SP3D not in allowable set ['SP', 'SP2', 'SP3']:]\n"
     ]
    },
    {
     "name": "stderr",
     "output_type": "stream",
     "text": [
      "Processing train:   2%|▏         | 1382/77636 [00:23<21:34, 58.91it/s]"
     ]
    },
    {
     "name": "stdout",
     "output_type": "stream",
     "text": [
      "[2025-04-07 19:29:13,545: INFO: molecule_feature_utils: input S not in allowable set ['SP', 'SP2', 'SP3']:]\n"
     ]
    },
    {
     "name": "stderr",
     "output_type": "stream",
     "text": [
      "Processing train:   2%|▏         | 1389/77636 [00:23<22:50, 55.64it/s]"
     ]
    },
    {
     "name": "stdout",
     "output_type": "stream",
     "text": [
      "[2025-04-07 19:29:13,699: INFO: molecule_feature_utils: input S not in allowable set ['SP', 'SP2', 'SP3']:]\n"
     ]
    },
    {
     "name": "stderr",
     "output_type": "stream",
     "text": [
      "Processing train:   2%|▏         | 1396/77636 [00:23<21:40, 58.63it/s]"
     ]
    },
    {
     "name": "stdout",
     "output_type": "stream",
     "text": [
      "[2025-04-07 19:29:13,874: INFO: molecule_feature_utils: input S not in allowable set ['SP', 'SP2', 'SP3']:]\n"
     ]
    },
    {
     "name": "stderr",
     "output_type": "stream",
     "text": [
      "Processing train:   2%|▏         | 1473/77636 [00:24<19:11, 66.14it/s]"
     ]
    },
    {
     "name": "stdout",
     "output_type": "stream",
     "text": [
      "[2025-04-07 19:29:14,848: INFO: molecule_feature_utils: input SP3D not in allowable set ['SP', 'SP2', 'SP3']:]\n",
      "[2025-04-07 19:29:14,850: INFO: molecule_feature_utils: input UNSPECIFIED not in allowable set ['SP', 'SP2', 'SP3']:]\n",
      "[2025-04-07 19:29:14,851: INFO: molecule_feature_utils: input SP3D not in allowable set ['SP', 'SP2', 'SP3']:]\n",
      "[2025-04-07 19:29:14,854: INFO: molecule_feature_utils: input SP3D not in allowable set ['SP', 'SP2', 'SP3']:]\n"
     ]
    },
    {
     "name": "stderr",
     "output_type": "stream",
     "text": [
      "Processing train:   2%|▏         | 1497/77636 [00:24<17:46, 71.40it/s]"
     ]
    },
    {
     "name": "stdout",
     "output_type": "stream",
     "text": [
      "[2025-04-07 19:29:15,131: INFO: molecule_feature_utils: input SP3D not in allowable set ['SP', 'SP2', 'SP3']:]\n"
     ]
    },
    {
     "name": "stderr",
     "output_type": "stream",
     "text": [
      "Processing train:   2%|▏         | 1506/77636 [00:25<16:41, 76.05it/s]"
     ]
    },
    {
     "name": "stdout",
     "output_type": "stream",
     "text": [
      "[2025-04-07 19:29:15,293: INFO: molecule_feature_utils: input SP3D not in allowable set ['SP', 'SP2', 'SP3']:]\n"
     ]
    },
    {
     "name": "stderr",
     "output_type": "stream",
     "text": [
      "Processing train:   2%|▏         | 1514/77636 [00:25<17:15, 73.54it/s]"
     ]
    },
    {
     "name": "stdout",
     "output_type": "stream",
     "text": [
      "[2025-04-07 19:29:15,430: INFO: molecule_feature_utils: input S not in allowable set ['SP', 'SP2', 'SP3']:]\n"
     ]
    },
    {
     "name": "stderr",
     "output_type": "stream",
     "text": [
      "Processing train:   2%|▏         | 1530/77636 [00:25<21:25, 59.19it/s]"
     ]
    },
    {
     "name": "stdout",
     "output_type": "stream",
     "text": [
      "[2025-04-07 19:29:15,737: INFO: molecule_feature_utils: input S not in allowable set ['SP', 'SP2', 'SP3']:]\n",
      "[2025-04-07 19:29:15,776: INFO: molecule_feature_utils: input S not in allowable set ['SP', 'SP2', 'SP3']:]\n",
      "[2025-04-07 19:29:15,823: INFO: molecule_feature_utils: input S not in allowable set ['SP', 'SP2', 'SP3']:]\n",
      "[2025-04-07 19:29:15,861: INFO: molecule_feature_utils: input SP3D not in allowable set ['SP', 'SP2', 'SP3']:]\n"
     ]
    },
    {
     "name": "stderr",
     "output_type": "stream",
     "text": [
      "Processing train:   2%|▏         | 1544/77636 [00:25<23:20, 54.34it/s]"
     ]
    },
    {
     "name": "stdout",
     "output_type": "stream",
     "text": [
      "[2025-04-07 19:29:16,022: INFO: molecule_feature_utils: input SP3D not in allowable set ['SP', 'SP2', 'SP3']:]\n",
      "[2025-04-07 19:29:16,023: INFO: molecule_feature_utils: input S not in allowable set ['SP', 'SP2', 'SP3']:]\n"
     ]
    },
    {
     "name": "stderr",
     "output_type": "stream",
     "text": [
      "Processing train:   2%|▏         | 1551/77636 [00:25<22:50, 55.52it/s]"
     ]
    },
    {
     "name": "stdout",
     "output_type": "stream",
     "text": [
      "[2025-04-07 19:29:16,181: INFO: molecule_feature_utils: input S not in allowable set ['SP', 'SP2', 'SP3']:]\n"
     ]
    },
    {
     "name": "stderr",
     "output_type": "stream",
     "text": [
      "Processing train:   2%|▏         | 1565/77636 [00:26<22:20, 56.73it/s]"
     ]
    },
    {
     "name": "stdout",
     "output_type": "stream",
     "text": [
      "[2025-04-07 19:29:16,465: INFO: molecule_feature_utils: input S not in allowable set ['SP', 'SP2', 'SP3']:]\n",
      "[2025-04-07 19:29:16,507: INFO: molecule_feature_utils: input S not in allowable set ['SP', 'SP2', 'SP3']:]\n"
     ]
    },
    {
     "name": "stderr",
     "output_type": "stream",
     "text": [
      "Processing train:   2%|▏         | 1579/77636 [00:26<23:39, 53.58it/s]"
     ]
    },
    {
     "name": "stdout",
     "output_type": "stream",
     "text": [
      "[2025-04-07 19:29:16,636: INFO: molecule_feature_utils: input S not in allowable set ['SP', 'SP2', 'SP3']:]\n"
     ]
    },
    {
     "name": "stderr",
     "output_type": "stream",
     "text": [
      "Processing train:   2%|▏         | 1594/77636 [00:26<22:32, 56.23it/s]"
     ]
    },
    {
     "name": "stdout",
     "output_type": "stream",
     "text": [
      "[2025-04-07 19:29:17,002: INFO: molecule_feature_utils: input S not in allowable set ['SP', 'SP2', 'SP3']:]\n"
     ]
    },
    {
     "name": "stderr",
     "output_type": "stream",
     "text": [
      "Processing train:   2%|▏         | 1609/77636 [00:27<23:13, 54.55it/s]"
     ]
    },
    {
     "name": "stdout",
     "output_type": "stream",
     "text": [
      "[2025-04-07 19:29:17,344: INFO: molecule_feature_utils: input S not in allowable set ['SP', 'SP2', 'SP3']:]\n"
     ]
    },
    {
     "name": "stderr",
     "output_type": "stream",
     "text": [
      "Processing train:   2%|▏         | 1615/77636 [00:27<25:33, 49.58it/s]"
     ]
    },
    {
     "name": "stdout",
     "output_type": "stream",
     "text": [
      "[2025-04-07 19:29:17,492: INFO: molecule_feature_utils: input S not in allowable set ['SP', 'SP2', 'SP3']:]\n"
     ]
    },
    {
     "name": "stderr",
     "output_type": "stream",
     "text": [
      "Processing train:   2%|▏         | 1661/77636 [00:27<18:27, 68.61it/s]"
     ]
    },
    {
     "name": "stdout",
     "output_type": "stream",
     "text": [
      "[2025-04-07 19:29:18,135: INFO: molecule_feature_utils: input S not in allowable set ['SP', 'SP2', 'SP3']:]\n"
     ]
    },
    {
     "name": "stderr",
     "output_type": "stream",
     "text": [
      "Processing train:   2%|▏         | 1669/77636 [00:28<22:11, 57.05it/s]"
     ]
    },
    {
     "name": "stdout",
     "output_type": "stream",
     "text": [
      "[2025-04-07 19:29:18,335: INFO: molecule_feature_utils: input S not in allowable set ['SP', 'SP2', 'SP3']:]\n"
     ]
    },
    {
     "name": "stderr",
     "output_type": "stream",
     "text": [
      "Processing train:   2%|▏         | 1684/77636 [00:28<19:53, 63.63it/s]"
     ]
    },
    {
     "name": "stdout",
     "output_type": "stream",
     "text": [
      "[2025-04-07 19:29:18,540: INFO: molecule_feature_utils: input S not in allowable set ['SP', 'SP2', 'SP3']:]\n"
     ]
    },
    {
     "name": "stderr",
     "output_type": "stream",
     "text": [
      "Processing train:   2%|▏         | 1691/77636 [00:28<20:40, 61.22it/s]"
     ]
    },
    {
     "name": "stdout",
     "output_type": "stream",
     "text": [
      "[2025-04-07 19:29:18,695: INFO: molecule_feature_utils: input SP3D2 not in allowable set ['SP', 'SP2', 'SP3']:]\n"
     ]
    },
    {
     "name": "stderr",
     "output_type": "stream",
     "text": [
      "Processing train:   2%|▏         | 1705/77636 [00:28<19:53, 63.61it/s]"
     ]
    },
    {
     "name": "stdout",
     "output_type": "stream",
     "text": [
      "[2025-04-07 19:29:18,850: INFO: molecule_feature_utils: input S not in allowable set ['SP', 'SP2', 'SP3']:]\n",
      "[2025-04-07 19:29:18,970: INFO: molecule_feature_utils: input S not in allowable set ['SP', 'SP2', 'SP3']:]\n",
      "[2025-04-07 19:29:18,985: INFO: molecule_feature_utils: input UNSPECIFIED not in allowable set ['SP', 'SP2', 'SP3']:]\n",
      "[2025-04-07 19:29:18,986: INFO: molecule_feature_utils: input UNSPECIFIED not in allowable set ['SP', 'SP2', 'SP3']:]\n"
     ]
    },
    {
     "name": "stderr",
     "output_type": "stream",
     "text": [
      "Processing train:   2%|▏         | 1712/77636 [00:28<24:00, 52.72it/s]"
     ]
    },
    {
     "name": "stdout",
     "output_type": "stream",
     "text": [
      "[2025-04-07 19:29:19,086: INFO: molecule_feature_utils: input S not in allowable set ['SP', 'SP2', 'SP3']:]\n"
     ]
    },
    {
     "name": "stderr",
     "output_type": "stream",
     "text": [
      "Processing train:   2%|▏         | 1729/77636 [00:29<19:35, 64.56it/s]"
     ]
    },
    {
     "name": "stdout",
     "output_type": "stream",
     "text": [
      "[2025-04-07 19:29:19,220: INFO: molecule_feature_utils: input SP3D2 not in allowable set ['SP', 'SP2', 'SP3']:]\n"
     ]
    },
    {
     "name": "stderr",
     "output_type": "stream",
     "text": [
      "Processing train:   2%|▏         | 1755/77636 [00:29<16:48, 75.21it/s]"
     ]
    },
    {
     "name": "stdout",
     "output_type": "stream",
     "text": [
      "[2025-04-07 19:29:19,612: INFO: molecule_feature_utils: input S not in allowable set ['SP', 'SP2', 'SP3']:]\n",
      "[2025-04-07 19:29:19,675: INFO: molecule_feature_utils: input S not in allowable set ['SP', 'SP2', 'SP3']:]\n"
     ]
    },
    {
     "name": "stderr",
     "output_type": "stream",
     "text": [
      "Processing train:   2%|▏         | 1797/77636 [00:29<16:16, 77.64it/s]"
     ]
    },
    {
     "name": "stdout",
     "output_type": "stream",
     "text": [
      "[2025-04-07 19:29:20,150: INFO: molecule_feature_utils: input S not in allowable set ['SP', 'SP2', 'SP3']:]\n"
     ]
    },
    {
     "name": "stderr",
     "output_type": "stream",
     "text": [
      "Processing train:   2%|▏         | 1841/77636 [00:30<16:05, 78.52it/s]"
     ]
    },
    {
     "name": "stdout",
     "output_type": "stream",
     "text": [
      "[2025-04-07 19:29:20,807: INFO: molecule_feature_utils: input S not in allowable set ['SP', 'SP2', 'SP3']:]\n",
      "[2025-04-07 19:29:20,946: INFO: molecule_feature_utils: input S not in allowable set ['SP', 'SP2', 'SP3']:]\n"
     ]
    },
    {
     "name": "stderr",
     "output_type": "stream",
     "text": [
      "Processing train:   2%|▏         | 1850/77636 [00:30<21:33, 58.60it/s]"
     ]
    },
    {
     "name": "stdout",
     "output_type": "stream",
     "text": [
      "[2025-04-07 19:29:21,058: INFO: molecule_feature_utils: input UNSPECIFIED not in allowable set ['SP', 'SP2', 'SP3']:]\n"
     ]
    },
    {
     "name": "stderr",
     "output_type": "stream",
     "text": [
      "Processing train:   2%|▏         | 1891/77636 [00:31<18:40, 67.58it/s]"
     ]
    },
    {
     "name": "stdout",
     "output_type": "stream",
     "text": [
      "[2025-04-07 19:29:21,688: INFO: molecule_feature_utils: input S not in allowable set ['SP', 'SP2', 'SP3']:]\n"
     ]
    },
    {
     "name": "stderr",
     "output_type": "stream",
     "text": [
      "Processing train:   2%|▏         | 1899/77636 [00:31<20:38, 61.17it/s]"
     ]
    },
    {
     "name": "stdout",
     "output_type": "stream",
     "text": [
      "[2025-04-07 19:29:21,831: INFO: molecule_feature_utils: input S not in allowable set ['SP', 'SP2', 'SP3']:]\n"
     ]
    },
    {
     "name": "stderr",
     "output_type": "stream",
     "text": [
      "Processing train:   2%|▏         | 1906/77636 [00:31<21:21, 59.11it/s]"
     ]
    },
    {
     "name": "stdout",
     "output_type": "stream",
     "text": [
      "[2025-04-07 19:29:21,962: INFO: molecule_feature_utils: input S not in allowable set ['SP', 'SP2', 'SP3']:]\n"
     ]
    },
    {
     "name": "stderr",
     "output_type": "stream",
     "text": [
      "Processing train:   2%|▏         | 1920/77636 [00:31<21:30, 58.67it/s]"
     ]
    },
    {
     "name": "stdout",
     "output_type": "stream",
     "text": [
      "[2025-04-07 19:29:22,175: INFO: molecule_feature_utils: input S not in allowable set ['SP', 'SP2', 'SP3']:]\n"
     ]
    },
    {
     "name": "stderr",
     "output_type": "stream",
     "text": [
      "Processing train:   2%|▏         | 1935/77636 [00:32<19:41, 64.08it/s]"
     ]
    },
    {
     "name": "stdout",
     "output_type": "stream",
     "text": [
      "[2025-04-07 19:29:22,406: INFO: molecule_feature_utils: input SP3D not in allowable set ['SP', 'SP2', 'SP3']:]\n"
     ]
    },
    {
     "name": "stderr",
     "output_type": "stream",
     "text": [
      "Processing train:   3%|▎         | 1944/77636 [00:32<17:48, 70.83it/s]"
     ]
    },
    {
     "name": "stdout",
     "output_type": "stream",
     "text": [
      "[2025-04-07 19:29:22,546: INFO: molecule_feature_utils: input S not in allowable set ['SP', 'SP2', 'SP3']:]\n",
      "[2025-04-07 19:29:22,605: INFO: molecule_feature_utils: input S not in allowable set ['SP', 'SP2', 'SP3']:]\n"
     ]
    },
    {
     "name": "stderr",
     "output_type": "stream",
     "text": [
      "Processing train:   3%|▎         | 1952/77636 [00:32<20:13, 62.36it/s]"
     ]
    },
    {
     "name": "stdout",
     "output_type": "stream",
     "text": [
      "[2025-04-07 19:29:22,759: INFO: molecule_feature_utils: input S not in allowable set ['SP', 'SP2', 'SP3']:]\n"
     ]
    },
    {
     "name": "stderr",
     "output_type": "stream",
     "text": [
      "Processing train:   3%|▎         | 1960/77636 [00:32<21:17, 59.23it/s]"
     ]
    },
    {
     "name": "stdout",
     "output_type": "stream",
     "text": [
      "[2025-04-07 19:29:22,782: INFO: molecule_feature_utils: input SP3D2 not in allowable set ['SP', 'SP2', 'SP3']:]\n"
     ]
    },
    {
     "name": "stderr",
     "output_type": "stream",
     "text": [
      "Processing train:   3%|▎         | 1979/77636 [00:32<19:31, 64.59it/s]"
     ]
    },
    {
     "name": "stdout",
     "output_type": "stream",
     "text": [
      "[2025-04-07 19:29:23,117: INFO: molecule_feature_utils: input S not in allowable set ['SP', 'SP2', 'SP3']:]\n"
     ]
    },
    {
     "name": "stderr",
     "output_type": "stream",
     "text": [
      "Processing train:   3%|▎         | 1986/77636 [00:32<19:10, 65.77it/s]"
     ]
    },
    {
     "name": "stdout",
     "output_type": "stream",
     "text": [
      "[2025-04-07 19:29:23,146: INFO: molecule_feature_utils: input SP3D2 not in allowable set ['SP', 'SP2', 'SP3']:]\n"
     ]
    },
    {
     "name": "stderr",
     "output_type": "stream",
     "text": [
      "Processing train:   3%|▎         | 1993/77636 [00:33<19:18, 65.27it/s]"
     ]
    },
    {
     "name": "stdout",
     "output_type": "stream",
     "text": [
      "[2025-04-07 19:29:23,315: INFO: molecule_feature_utils: input S not in allowable set ['SP', 'SP2', 'SP3']:]\n"
     ]
    },
    {
     "name": "stderr",
     "output_type": "stream",
     "text": [
      "Processing train:   3%|▎         | 2014/77636 [00:33<20:10, 62.48it/s]"
     ]
    },
    {
     "name": "stdout",
     "output_type": "stream",
     "text": [
      "[2025-04-07 19:29:23,663: INFO: molecule_feature_utils: input S not in allowable set ['SP', 'SP2', 'SP3']:]\n",
      "[2025-04-07 19:29:23,703: INFO: molecule_feature_utils: input S not in allowable set ['SP', 'SP2', 'SP3']:]\n"
     ]
    },
    {
     "name": "stderr",
     "output_type": "stream",
     "text": [
      "Processing train:   3%|▎         | 2033/77636 [00:33<24:39, 51.10it/s]"
     ]
    },
    {
     "name": "stdout",
     "output_type": "stream",
     "text": [
      "[2025-04-07 19:29:24,045: INFO: molecule_feature_utils: input S not in allowable set ['SP', 'SP2', 'SP3']:]\n"
     ]
    },
    {
     "name": "stderr",
     "output_type": "stream",
     "text": [
      "Processing train:   3%|▎         | 2055/77636 [00:34<22:50, 55.13it/s]"
     ]
    },
    {
     "name": "stdout",
     "output_type": "stream",
     "text": [
      "[2025-04-07 19:29:24,450: INFO: molecule_feature_utils: input S not in allowable set ['SP', 'SP2', 'SP3']:]\n"
     ]
    },
    {
     "name": "stderr",
     "output_type": "stream",
     "text": [
      "Processing train:   3%|▎         | 2080/77636 [00:34<17:57, 70.11it/s]"
     ]
    },
    {
     "name": "stdout",
     "output_type": "stream",
     "text": [
      "[2025-04-07 19:29:24,889: INFO: molecule_feature_utils: input S not in allowable set ['SP', 'SP2', 'SP3']:]\n"
     ]
    },
    {
     "name": "stderr",
     "output_type": "stream",
     "text": [
      "Processing train:   3%|▎         | 2088/77636 [00:34<21:01, 59.90it/s]"
     ]
    },
    {
     "name": "stdout",
     "output_type": "stream",
     "text": [
      "[2025-04-07 19:29:25,036: INFO: molecule_feature_utils: input S not in allowable set ['SP', 'SP2', 'SP3']:]\n"
     ]
    },
    {
     "name": "stderr",
     "output_type": "stream",
     "text": [
      "Processing train:   3%|▎         | 2104/77636 [00:35<20:42, 60.81it/s]"
     ]
    },
    {
     "name": "stdout",
     "output_type": "stream",
     "text": [
      "[2025-04-07 19:29:25,242: INFO: molecule_feature_utils: input S not in allowable set ['SP', 'SP2', 'SP3']:]\n"
     ]
    },
    {
     "name": "stderr",
     "output_type": "stream",
     "text": [
      "Processing train:   3%|▎         | 2128/77636 [00:35<18:44, 67.13it/s]"
     ]
    },
    {
     "name": "stdout",
     "output_type": "stream",
     "text": [
      "[2025-04-07 19:29:25,598: INFO: molecule_feature_utils: input S not in allowable set ['SP', 'SP2', 'SP3']:]\n",
      "[2025-04-07 19:29:25,627: INFO: molecule_feature_utils: input UNSPECIFIED not in allowable set ['SP', 'SP2', 'SP3']:]\n",
      "[2025-04-07 19:29:25,629: INFO: molecule_feature_utils: input UNSPECIFIED not in allowable set ['SP', 'SP2', 'SP3']:]\n"
     ]
    },
    {
     "name": "stderr",
     "output_type": "stream",
     "text": [
      "Processing train:   3%|▎         | 2143/77636 [00:35<22:07, 56.87it/s]"
     ]
    },
    {
     "name": "stdout",
     "output_type": "stream",
     "text": [
      "[2025-04-07 19:29:25,995: INFO: molecule_feature_utils: input S not in allowable set ['SP', 'SP2', 'SP3']:]\n"
     ]
    },
    {
     "name": "stderr",
     "output_type": "stream",
     "text": [
      "Processing train:   3%|▎         | 2159/77636 [00:35<22:57, 54.80it/s]"
     ]
    },
    {
     "name": "stdout",
     "output_type": "stream",
     "text": [
      "[2025-04-07 19:29:26,216: INFO: molecule_feature_utils: input S not in allowable set ['SP', 'SP2', 'SP3']:]\n"
     ]
    },
    {
     "name": "stderr",
     "output_type": "stream",
     "text": [
      "Processing train:   3%|▎         | 2165/77636 [00:36<23:11, 54.22it/s]"
     ]
    },
    {
     "name": "stdout",
     "output_type": "stream",
     "text": [
      "[2025-04-07 19:29:26,417: INFO: molecule_feature_utils: input S not in allowable set ['SP', 'SP2', 'SP3']:]\n"
     ]
    },
    {
     "name": "stderr",
     "output_type": "stream",
     "text": [
      "Processing train:   3%|▎         | 2186/77636 [00:36<22:12, 56.61it/s]"
     ]
    },
    {
     "name": "stdout",
     "output_type": "stream",
     "text": [
      "[2025-04-07 19:29:26,814: INFO: molecule_feature_utils: input S not in allowable set ['SP', 'SP2', 'SP3']:]\n"
     ]
    },
    {
     "name": "stderr",
     "output_type": "stream",
     "text": [
      "Processing train:   3%|▎         | 2203/77636 [00:36<20:13, 62.16it/s]"
     ]
    },
    {
     "name": "stdout",
     "output_type": "stream",
     "text": [
      "[2025-04-07 19:29:27,019: INFO: molecule_feature_utils: input S not in allowable set ['SP', 'SP2', 'SP3']:]\n"
     ]
    },
    {
     "name": "stderr",
     "output_type": "stream",
     "text": [
      "Processing train:   3%|▎         | 2238/77636 [00:37<16:45, 74.96it/s]"
     ]
    },
    {
     "name": "stdout",
     "output_type": "stream",
     "text": [
      "[2025-04-07 19:29:27,428: INFO: molecule_feature_utils: input S not in allowable set ['SP', 'SP2', 'SP3']:]\n"
     ]
    },
    {
     "name": "stderr",
     "output_type": "stream",
     "text": [
      "Processing train:   3%|▎         | 2246/77636 [00:37<20:38, 60.88it/s]"
     ]
    },
    {
     "name": "stdout",
     "output_type": "stream",
     "text": [
      "[2025-04-07 19:29:27,672: INFO: molecule_feature_utils: input S not in allowable set ['SP', 'SP2', 'SP3']:]\n"
     ]
    },
    {
     "name": "stderr",
     "output_type": "stream",
     "text": [
      "Processing train:   3%|▎         | 2292/77636 [00:38<24:05, 52.12it/s]"
     ]
    },
    {
     "name": "stdout",
     "output_type": "stream",
     "text": [
      "[2025-04-07 19:29:28,780: INFO: molecule_feature_utils: input S not in allowable set ['SP', 'SP2', 'SP3']:]\n",
      "[2025-04-07 19:29:28,844: INFO: molecule_feature_utils: input S not in allowable set ['SP', 'SP2', 'SP3']:]\n"
     ]
    },
    {
     "name": "stderr",
     "output_type": "stream",
     "text": [
      "Processing train:   3%|▎         | 2309/77636 [00:38<20:45, 60.49it/s]"
     ]
    },
    {
     "name": "stdout",
     "output_type": "stream",
     "text": [
      "[2025-04-07 19:29:29,016: INFO: molecule_feature_utils: input S not in allowable set ['SP', 'SP2', 'SP3']:]\n"
     ]
    },
    {
     "name": "stderr",
     "output_type": "stream",
     "text": [
      "Processing train:   3%|▎         | 2316/77636 [00:38<20:51, 60.19it/s]"
     ]
    },
    {
     "name": "stdout",
     "output_type": "stream",
     "text": [
      "[2025-04-07 19:29:29,628: INFO: molecule_feature_utils: input S not in allowable set ['SP', 'SP2', 'SP3']:]\n"
     ]
    },
    {
     "name": "stderr",
     "output_type": "stream",
     "text": [
      "Processing train:   3%|▎         | 2323/77636 [00:39<43:38, 28.76it/s]"
     ]
    },
    {
     "name": "stdout",
     "output_type": "stream",
     "text": [
      "[2025-04-07 19:29:29,977: INFO: molecule_feature_utils: input S not in allowable set ['SP', 'SP2', 'SP3']:]\n"
     ]
    },
    {
     "name": "stderr",
     "output_type": "stream",
     "text": [
      "Processing train:   3%|▎         | 2331/77636 [00:39<46:07, 27.21it/s]"
     ]
    },
    {
     "name": "stdout",
     "output_type": "stream",
     "text": [
      "[2025-04-07 19:29:30,036: INFO: molecule_feature_utils: input S not in allowable set ['SP', 'SP2', 'SP3']:]\n",
      "[2025-04-07 19:29:30,138: INFO: molecule_feature_utils: input S not in allowable set ['SP', 'SP2', 'SP3']:]\n"
     ]
    },
    {
     "name": "stderr",
     "output_type": "stream",
     "text": [
      "Processing train:   3%|▎         | 2352/77636 [00:40<30:51, 40.66it/s]"
     ]
    },
    {
     "name": "stdout",
     "output_type": "stream",
     "text": [
      "[2025-04-07 19:29:30,397: INFO: molecule_feature_utils: input S not in allowable set ['SP', 'SP2', 'SP3']:]\n"
     ]
    },
    {
     "name": "stderr",
     "output_type": "stream",
     "text": [
      "Processing train:   3%|▎         | 2398/77636 [00:40<17:53, 70.10it/s]"
     ]
    },
    {
     "name": "stdout",
     "output_type": "stream",
     "text": [
      "[2025-04-07 19:29:31,012: INFO: molecule_feature_utils: input S not in allowable set ['SP', 'SP2', 'SP3']:]\n"
     ]
    },
    {
     "name": "stderr",
     "output_type": "stream",
     "text": [
      "Processing train:   3%|▎         | 2482/77636 [00:42<18:42, 66.94it/s]"
     ]
    },
    {
     "name": "stdout",
     "output_type": "stream",
     "text": [
      "[2025-04-07 19:29:32,375: INFO: molecule_feature_utils: input S not in allowable set ['SP', 'SP2', 'SP3']:]\n"
     ]
    },
    {
     "name": "stderr",
     "output_type": "stream",
     "text": [
      "Processing train:   3%|▎         | 2489/77636 [00:42<20:05, 62.35it/s]"
     ]
    },
    {
     "name": "stdout",
     "output_type": "stream",
     "text": [
      "[2025-04-07 19:29:32,473: INFO: molecule_feature_utils: input S not in allowable set ['SP', 'SP2', 'SP3']:]\n",
      "[2025-04-07 19:29:32,572: INFO: molecule_feature_utils: input S not in allowable set ['SP', 'SP2', 'SP3']:]\n"
     ]
    },
    {
     "name": "stderr",
     "output_type": "stream",
     "text": [
      "Processing train:   3%|▎         | 2511/77636 [00:42<19:42, 63.52it/s]"
     ]
    },
    {
     "name": "stdout",
     "output_type": "stream",
     "text": [
      "[2025-04-07 19:29:32,835: INFO: molecule_feature_utils: input S not in allowable set ['SP', 'SP2', 'SP3']:]\n"
     ]
    },
    {
     "name": "stderr",
     "output_type": "stream",
     "text": [
      "Processing train:   3%|▎         | 2537/77636 [00:43<27:41, 45.21it/s]"
     ]
    },
    {
     "name": "stdout",
     "output_type": "stream",
     "text": [
      "[2025-04-07 19:29:33,493: INFO: molecule_feature_utils: input S not in allowable set ['SP', 'SP2', 'SP3']:]\n"
     ]
    },
    {
     "name": "stderr",
     "output_type": "stream",
     "text": [
      "Processing train:   3%|▎         | 2574/77636 [00:43<22:28, 55.68it/s]"
     ]
    },
    {
     "name": "stdout",
     "output_type": "stream",
     "text": [
      "[2025-04-07 19:29:34,077: INFO: molecule_feature_utils: input S not in allowable set ['SP', 'SP2', 'SP3']:]\n"
     ]
    },
    {
     "name": "stderr",
     "output_type": "stream",
     "text": [
      "Processing train:   3%|▎         | 2598/77636 [00:44<25:00, 49.99it/s]"
     ]
    },
    {
     "name": "stdout",
     "output_type": "stream",
     "text": [
      "[2025-04-07 19:29:34,688: INFO: molecule_feature_utils: input S not in allowable set ['SP', 'SP2', 'SP3']:]\n"
     ]
    },
    {
     "name": "stderr",
     "output_type": "stream",
     "text": [
      "Processing train:   3%|▎         | 2604/77636 [00:44<27:57, 44.73it/s]"
     ]
    },
    {
     "name": "stdout",
     "output_type": "stream",
     "text": [
      "[2025-04-07 19:29:34,768: INFO: molecule_feature_utils: input S not in allowable set ['SP', 'SP2', 'SP3']:]\n"
     ]
    },
    {
     "name": "stderr",
     "output_type": "stream",
     "text": [
      "Processing train:   3%|▎         | 2631/77636 [00:44<18:07, 68.94it/s]"
     ]
    },
    {
     "name": "stdout",
     "output_type": "stream",
     "text": [
      "[2025-04-07 19:29:35,207: INFO: molecule_feature_utils: input S not in allowable set ['SP', 'SP2', 'SP3']:]\n"
     ]
    },
    {
     "name": "stderr",
     "output_type": "stream",
     "text": [
      "Processing train:   3%|▎         | 2666/77636 [00:45<18:49, 66.37it/s]"
     ]
    },
    {
     "name": "stdout",
     "output_type": "stream",
     "text": [
      "[2025-04-07 19:29:35,744: INFO: molecule_feature_utils: input SP3D not in allowable set ['SP', 'SP2', 'SP3']:]\n"
     ]
    },
    {
     "name": "stderr",
     "output_type": "stream",
     "text": [
      "Processing train:   3%|▎         | 2707/77636 [00:46<19:22, 64.47it/s]"
     ]
    },
    {
     "name": "stdout",
     "output_type": "stream",
     "text": [
      "[2025-04-07 19:29:36,397: INFO: molecule_feature_utils: input UNSPECIFIED not in allowable set ['SP', 'SP2', 'SP3']:]\n"
     ]
    },
    {
     "name": "stderr",
     "output_type": "stream",
     "text": [
      "Processing train:   3%|▎         | 2715/77636 [00:46<18:34, 67.22it/s]"
     ]
    },
    {
     "name": "stdout",
     "output_type": "stream",
     "text": [
      "[2025-04-07 19:29:36,593: INFO: molecule_feature_utils: input S not in allowable set ['SP', 'SP2', 'SP3']:]\n"
     ]
    },
    {
     "name": "stderr",
     "output_type": "stream",
     "text": [
      "Processing train:   4%|▎         | 2729/77636 [00:46<21:27, 58.17it/s]"
     ]
    },
    {
     "name": "stdout",
     "output_type": "stream",
     "text": [
      "[2025-04-07 19:29:36,822: INFO: molecule_feature_utils: input S not in allowable set ['SP', 'SP2', 'SP3']:]\n"
     ]
    },
    {
     "name": "stderr",
     "output_type": "stream",
     "text": [
      "Processing train:   4%|▎         | 2745/77636 [00:46<20:06, 62.06it/s]"
     ]
    },
    {
     "name": "stdout",
     "output_type": "stream",
     "text": [
      "[2025-04-07 19:29:36,961: INFO: molecule_feature_utils: input SP3D not in allowable set ['SP', 'SP2', 'SP3']:]\n",
      "[2025-04-07 19:29:37,101: INFO: molecule_feature_utils: input S not in allowable set ['SP', 'SP2', 'SP3']:]\n"
     ]
    },
    {
     "name": "stderr",
     "output_type": "stream",
     "text": [
      "Processing train:   4%|▎         | 2758/77636 [00:47<21:57, 56.84it/s]"
     ]
    },
    {
     "name": "stdout",
     "output_type": "stream",
     "text": [
      "[2025-04-07 19:29:37,325: INFO: molecule_feature_utils: input S not in allowable set ['SP', 'SP2', 'SP3']:]\n"
     ]
    },
    {
     "name": "stderr",
     "output_type": "stream",
     "text": [
      "Processing train:   4%|▎         | 2772/77636 [00:47<20:35, 60.62it/s]"
     ]
    },
    {
     "name": "stdout",
     "output_type": "stream",
     "text": [
      "[2025-04-07 19:29:37,496: INFO: molecule_feature_utils: input S not in allowable set ['SP', 'SP2', 'SP3']:]\n"
     ]
    },
    {
     "name": "stderr",
     "output_type": "stream",
     "text": [
      "Processing train:   4%|▎         | 2793/77636 [00:47<22:56, 54.37it/s]"
     ]
    },
    {
     "name": "stdout",
     "output_type": "stream",
     "text": [
      "[2025-04-07 19:29:37,980: INFO: molecule_feature_utils: input S not in allowable set ['SP', 'SP2', 'SP3']:]\n"
     ]
    },
    {
     "name": "stderr",
     "output_type": "stream",
     "text": [
      "Processing train:   4%|▎         | 2801/77636 [00:47<22:37, 55.12it/s]"
     ]
    },
    {
     "name": "stdout",
     "output_type": "stream",
     "text": [
      "[2025-04-07 19:29:38,046: INFO: molecule_feature_utils: input S not in allowable set ['SP', 'SP2', 'SP3']:]\n",
      "[2025-04-07 19:29:38,137: INFO: molecule_feature_utils: input S not in allowable set ['SP', 'SP2', 'SP3']:]\n"
     ]
    },
    {
     "name": "stderr",
     "output_type": "stream",
     "text": [
      "Processing train:   4%|▎         | 2822/77636 [00:48<20:50, 59.83it/s]"
     ]
    },
    {
     "name": "stdout",
     "output_type": "stream",
     "text": [
      "[2025-04-07 19:29:38,413: INFO: molecule_feature_utils: input UNSPECIFIED not in allowable set ['SP', 'SP2', 'SP3']:]\n",
      "[2025-04-07 19:29:38,415: INFO: molecule_feature_utils: input UNSPECIFIED not in allowable set ['SP', 'SP2', 'SP3']:]\n",
      "[2025-04-07 19:29:38,416: INFO: molecule_feature_utils: input S not in allowable set ['SP', 'SP2', 'SP3']:]\n"
     ]
    },
    {
     "name": "stderr",
     "output_type": "stream",
     "text": [
      "Processing train:   4%|▎         | 2879/77636 [00:49<22:35, 55.17it/s]"
     ]
    },
    {
     "name": "stdout",
     "output_type": "stream",
     "text": [
      "[2025-04-07 19:29:39,578: INFO: molecule_feature_utils: input S not in allowable set ['SP', 'SP2', 'SP3']:]\n"
     ]
    },
    {
     "name": "stderr",
     "output_type": "stream",
     "text": [
      "Processing train:   4%|▎         | 2886/77636 [00:49<23:05, 53.96it/s]"
     ]
    },
    {
     "name": "stdout",
     "output_type": "stream",
     "text": [
      "[2025-04-07 19:29:39,651: INFO: molecule_feature_utils: input S not in allowable set ['SP', 'SP2', 'SP3']:]\n"
     ]
    },
    {
     "name": "stderr",
     "output_type": "stream",
     "text": [
      "Processing train:   4%|▎         | 2899/77636 [00:49<23:40, 52.62it/s]"
     ]
    },
    {
     "name": "stdout",
     "output_type": "stream",
     "text": [
      "[2025-04-07 19:29:39,845: INFO: molecule_feature_utils: input UNSPECIFIED not in allowable set ['SP', 'SP2', 'SP3']:]\n"
     ]
    },
    {
     "name": "stderr",
     "output_type": "stream",
     "text": [
      "Processing train:   4%|▍         | 2921/77636 [00:49<19:55, 62.48it/s]"
     ]
    },
    {
     "name": "stdout",
     "output_type": "stream",
     "text": [
      "[2025-04-07 19:29:40,171: INFO: molecule_feature_utils: input SP3D2 not in allowable set ['SP', 'SP2', 'SP3']:]\n"
     ]
    },
    {
     "name": "stderr",
     "output_type": "stream",
     "text": [
      "Processing train:   4%|▍         | 2929/77636 [00:50<19:00, 65.49it/s]"
     ]
    },
    {
     "name": "stdout",
     "output_type": "stream",
     "text": [
      "[2025-04-07 19:29:40,313: INFO: molecule_feature_utils: input S not in allowable set ['SP', 'SP2', 'SP3']:]\n",
      "[2025-04-07 19:29:40,405: INFO: molecule_feature_utils: input UNSPECIFIED not in allowable set ['SP', 'SP2', 'SP3']:]\n",
      "[2025-04-07 19:29:40,406: INFO: molecule_feature_utils: input UNSPECIFIED not in allowable set ['SP', 'SP2', 'SP3']:]\n"
     ]
    },
    {
     "name": "stderr",
     "output_type": "stream",
     "text": [
      "Processing train:   4%|▍         | 2943/77636 [00:50<20:27, 60.84it/s]"
     ]
    },
    {
     "name": "stdout",
     "output_type": "stream",
     "text": [
      "[2025-04-07 19:29:40,563: INFO: molecule_feature_utils: input S not in allowable set ['SP', 'SP2', 'SP3']:]\n"
     ]
    },
    {
     "name": "stderr",
     "output_type": "stream",
     "text": [
      "Processing train:   4%|▍         | 2949/77636 [00:50<21:19, 58.38it/s]\n"
     ]
    },
    {
     "ename": "KeyboardInterrupt",
     "evalue": "",
     "output_type": "error",
     "traceback": [
      "\u001b[0;31m---------------------------------------------------------------------------\u001b[0m",
      "\u001b[0;31mKeyboardInterrupt\u001b[0m                         Traceback (most recent call last)",
      "\u001b[1;32m/mnt/cb03386d-9344-47b1-82f9-868fbb64b4ae/python_projects/HIV_inhibitors_classification_and_generation/research/03_data_transformation.ipynb Cell 6\u001b[0m line \u001b[0;36m5\n\u001b[1;32m      <a href='vscode-notebook-cell:/mnt/cb03386d-9344-47b1-82f9-868fbb64b4ae/python_projects/HIV_inhibitors_classification_and_generation/research/03_data_transformation.ipynb#W5sZmlsZQ%3D%3D?line=2'>3</a>\u001b[0m     data_transformation_config \u001b[39m=\u001b[39m config\u001b[39m.\u001b[39mget_data_transformation_config()\n\u001b[1;32m      <a href='vscode-notebook-cell:/mnt/cb03386d-9344-47b1-82f9-868fbb64b4ae/python_projects/HIV_inhibitors_classification_and_generation/research/03_data_transformation.ipynb#W5sZmlsZQ%3D%3D?line=3'>4</a>\u001b[0m     data_transformation \u001b[39m=\u001b[39m DataTransformation(config\u001b[39m=\u001b[39mdata_transformation_config)\n\u001b[0;32m----> <a href='vscode-notebook-cell:/mnt/cb03386d-9344-47b1-82f9-868fbb64b4ae/python_projects/HIV_inhibitors_classification_and_generation/research/03_data_transformation.ipynb#W5sZmlsZQ%3D%3D?line=4'>5</a>\u001b[0m     results_rdkit, results_deepchem \u001b[39m=\u001b[39m data_transformation\u001b[39m.\u001b[39;49mtransformation_compose()\n\u001b[1;32m      <a href='vscode-notebook-cell:/mnt/cb03386d-9344-47b1-82f9-868fbb64b4ae/python_projects/HIV_inhibitors_classification_and_generation/research/03_data_transformation.ipynb#W5sZmlsZQ%3D%3D?line=6'>7</a>\u001b[0m \u001b[39mexcept\u001b[39;00m \u001b[39mException\u001b[39;00m \u001b[39mas\u001b[39;00m e:\n\u001b[1;32m      <a href='vscode-notebook-cell:/mnt/cb03386d-9344-47b1-82f9-868fbb64b4ae/python_projects/HIV_inhibitors_classification_and_generation/research/03_data_transformation.ipynb#W5sZmlsZQ%3D%3D?line=7'>8</a>\u001b[0m     \u001b[39mraise\u001b[39;00m e\n",
      "\u001b[1;32m/mnt/cb03386d-9344-47b1-82f9-868fbb64b4ae/python_projects/HIV_inhibitors_classification_and_generation/research/03_data_transformation.ipynb Cell 6\u001b[0m line \u001b[0;36m1\n\u001b[1;32m    <a href='vscode-notebook-cell:/mnt/cb03386d-9344-47b1-82f9-868fbb64b4ae/python_projects/HIV_inhibitors_classification_and_generation/research/03_data_transformation.ipynb#W5sZmlsZQ%3D%3D?line=112'>113</a>\u001b[0m \u001b[39mdef\u001b[39;00m\u001b[39m \u001b[39m\u001b[39mtransformation_compose\u001b[39m(\u001b[39mself\u001b[39m):\n\u001b[1;32m    <a href='vscode-notebook-cell:/mnt/cb03386d-9344-47b1-82f9-868fbb64b4ae/python_projects/HIV_inhibitors_classification_and_generation/research/03_data_transformation.ipynb#W5sZmlsZQ%3D%3D?line=113'>114</a>\u001b[0m     dfs \u001b[39m=\u001b[39m \u001b[39mself\u001b[39m\u001b[39m.\u001b[39mtest_split_train_balanced()\n\u001b[0;32m--> <a href='vscode-notebook-cell:/mnt/cb03386d-9344-47b1-82f9-868fbb64b4ae/python_projects/HIV_inhibitors_classification_and_generation/research/03_data_transformation.ipynb#W5sZmlsZQ%3D%3D?line=114'>115</a>\u001b[0m     \u001b[39mself\u001b[39;49m\u001b[39m.\u001b[39;49mdata_preparation(dfs)\n",
      "\u001b[1;32m/mnt/cb03386d-9344-47b1-82f9-868fbb64b4ae/python_projects/HIV_inhibitors_classification_and_generation/research/03_data_transformation.ipynb Cell 6\u001b[0m line \u001b[0;36m9\n\u001b[1;32m     <a href='vscode-notebook-cell:/mnt/cb03386d-9344-47b1-82f9-868fbb64b4ae/python_projects/HIV_inhibitors_classification_and_generation/research/03_data_transformation.ipynb#W5sZmlsZQ%3D%3D?line=85'>86</a>\u001b[0m     \u001b[39mcontinue\u001b[39;00m  \u001b[39m# Skip invalid SMILES strings\u001b[39;00m\n\u001b[1;32m     <a href='vscode-notebook-cell:/mnt/cb03386d-9344-47b1-82f9-868fbb64b4ae/python_projects/HIV_inhibitors_classification_and_generation/research/03_data_transformation.ipynb#W5sZmlsZQ%3D%3D?line=87'>88</a>\u001b[0m label \u001b[39m=\u001b[39m torch\u001b[39m.\u001b[39mtensor(mol\u001b[39m.\u001b[39mHIV_active, dtype\u001b[39m=\u001b[39mtorch\u001b[39m.\u001b[39mint64, device\u001b[39m=\u001b[39mdevice)\n\u001b[0;32m---> <a href='vscode-notebook-cell:/mnt/cb03386d-9344-47b1-82f9-868fbb64b4ae/python_projects/HIV_inhibitors_classification_and_generation/research/03_data_transformation.ipynb#W5sZmlsZQ%3D%3D?line=89'>90</a>\u001b[0m graph_features \u001b[39m=\u001b[39m featurizer\u001b[39m.\u001b[39;49m_featurize(mol_obj)\n\u001b[1;32m     <a href='vscode-notebook-cell:/mnt/cb03386d-9344-47b1-82f9-868fbb64b4ae/python_projects/HIV_inhibitors_classification_and_generation/research/03_data_transformation.ipynb#W5sZmlsZQ%3D%3D?line=91'>92</a>\u001b[0m data_deepchem \u001b[39m=\u001b[39m Data(\n\u001b[1;32m     <a href='vscode-notebook-cell:/mnt/cb03386d-9344-47b1-82f9-868fbb64b4ae/python_projects/HIV_inhibitors_classification_and_generation/research/03_data_transformation.ipynb#W5sZmlsZQ%3D%3D?line=92'>93</a>\u001b[0m     x\u001b[39m=\u001b[39mtorch\u001b[39m.\u001b[39mtensor(graph_features\u001b[39m.\u001b[39mnode_features, dtype\u001b[39m=\u001b[39mtorch\u001b[39m.\u001b[39mfloat, device\u001b[39m=\u001b[39mdevice),\n\u001b[1;32m     <a href='vscode-notebook-cell:/mnt/cb03386d-9344-47b1-82f9-868fbb64b4ae/python_projects/HIV_inhibitors_classification_and_generation/research/03_data_transformation.ipynb#W5sZmlsZQ%3D%3D?line=93'>94</a>\u001b[0m     edge_attr\u001b[39m=\u001b[39mtorch\u001b[39m.\u001b[39mtensor(graph_features\u001b[39m.\u001b[39medge_features, dtype\u001b[39m=\u001b[39mtorch\u001b[39m.\u001b[39mfloat, device\u001b[39m=\u001b[39mdevice),\n\u001b[1;32m     <a href='vscode-notebook-cell:/mnt/cb03386d-9344-47b1-82f9-868fbb64b4ae/python_projects/HIV_inhibitors_classification_and_generation/research/03_data_transformation.ipynb#W5sZmlsZQ%3D%3D?line=94'>95</a>\u001b[0m     edge_index\u001b[39m=\u001b[39mtorch\u001b[39m.\u001b[39mtensor(graph_features\u001b[39m.\u001b[39medge_index, dtype\u001b[39m=\u001b[39mtorch\u001b[39m.\u001b[39mlong, device\u001b[39m=\u001b[39mdevice),\n\u001b[1;32m     <a href='vscode-notebook-cell:/mnt/cb03386d-9344-47b1-82f9-868fbb64b4ae/python_projects/HIV_inhibitors_classification_and_generation/research/03_data_transformation.ipynb#W5sZmlsZQ%3D%3D?line=95'>96</a>\u001b[0m     y\u001b[39m=\u001b[39mlabel, smiles\u001b[39m=\u001b[39mmol\u001b[39m.\u001b[39msmiles\n\u001b[1;32m     <a href='vscode-notebook-cell:/mnt/cb03386d-9344-47b1-82f9-868fbb64b4ae/python_projects/HIV_inhibitors_classification_and_generation/research/03_data_transformation.ipynb#W5sZmlsZQ%3D%3D?line=96'>97</a>\u001b[0m )\n\u001b[1;32m     <a href='vscode-notebook-cell:/mnt/cb03386d-9344-47b1-82f9-868fbb64b4ae/python_projects/HIV_inhibitors_classification_and_generation/research/03_data_transformation.ipynb#W5sZmlsZQ%3D%3D?line=97'>98</a>\u001b[0m all_deepchem_data\u001b[39m.\u001b[39mappend(data_deepchem)\n",
      "File \u001b[0;32m/mnt/cb03386d-9344-47b1-82f9-868fbb64b4ae/python_projects/HIV_inhibitors_classification_and_generation/env/lib/python3.10/site-packages/deepchem/feat/molecule_featurizers/mol_graph_conv_featurizer.py:233\u001b[0m, in \u001b[0;36mMolGraphConvFeaturizer._featurize\u001b[0;34m(self, datapoint, **kwargs)\u001b[0m\n\u001b[1;32m    231\u001b[0m     features \u001b[39m=\u001b[39m []\n\u001b[1;32m    232\u001b[0m     \u001b[39mfor\u001b[39;00m bond \u001b[39min\u001b[39;00m datapoint\u001b[39m.\u001b[39mGetBonds():\n\u001b[0;32m--> 233\u001b[0m         features \u001b[39m+\u001b[39m\u001b[39m=\u001b[39m \u001b[39m2\u001b[39m \u001b[39m*\u001b[39m [_construct_bond_feature(bond)]\n\u001b[1;32m    234\u001b[0m     bond_features \u001b[39m=\u001b[39m np\u001b[39m.\u001b[39masarray(features, dtype\u001b[39m=\u001b[39m\u001b[39mfloat\u001b[39m)\n\u001b[1;32m    236\u001b[0m \u001b[39m# load_sdf_files returns pos as strings but user can also specify\u001b[39;00m\n\u001b[1;32m    237\u001b[0m \u001b[39m# numpy arrays for atom coordinates\u001b[39;00m\n",
      "File \u001b[0;32m/mnt/cb03386d-9344-47b1-82f9-868fbb64b4ae/python_projects/HIV_inhibitors_classification_and_generation/env/lib/python3.10/site-packages/deepchem/feat/molecule_featurizers/mol_graph_conv_featurizer.py:77\u001b[0m, in \u001b[0;36m_construct_bond_feature\u001b[0;34m(bond)\u001b[0m\n\u001b[1;32m     73\u001b[0m         atom_feat \u001b[39m=\u001b[39m np\u001b[39m.\u001b[39mconcatenate([atom_feat, np\u001b[39m.\u001b[39marray(partial_charge)])\n\u001b[1;32m     74\u001b[0m     \u001b[39mreturn\u001b[39;00m atom_feat\n\u001b[0;32m---> 77\u001b[0m \u001b[39mdef\u001b[39;00m\u001b[39m \u001b[39m\u001b[39m_construct_bond_feature\u001b[39m(bond: RDKitBond) \u001b[39m-\u001b[39m\u001b[39m>\u001b[39m np\u001b[39m.\u001b[39mndarray:\n\u001b[1;32m     78\u001b[0m \u001b[39m    \u001b[39m\u001b[39m\"\"\"Construct a bond feature from a RDKit bond object.\u001b[39;00m\n\u001b[1;32m     79\u001b[0m \n\u001b[1;32m     80\u001b[0m \u001b[39m    Parameters\u001b[39;00m\n\u001b[0;32m   (...)\u001b[0m\n\u001b[1;32m     89\u001b[0m \n\u001b[1;32m     90\u001b[0m \u001b[39m    \"\"\"\u001b[39;00m\n\u001b[1;32m     91\u001b[0m     bond_type \u001b[39m=\u001b[39m get_bond_type_one_hot(bond)\n",
      "\u001b[0;31mKeyboardInterrupt\u001b[0m: "
     ]
    }
   ],
   "source": [
    "try:\n",
    "    config = ConfigurationManager()\n",
    "    data_transformation_config = config.get_data_transformation_config()\n",
    "    data_transformation = DataTransformation(config=data_transformation_config)\n",
    "    results_rdkit, results_deepchem = data_transformation.transformation_compose()\n",
    "\n",
    "except Exception as e:\n",
    "    raise e"
   ]
  },
  {
   "cell_type": "code",
   "execution_count": null,
   "metadata": {},
   "outputs": [],
   "source": []
  }
 ],
 "metadata": {
  "kernelspec": {
   "display_name": "env",
   "language": "python",
   "name": "python3"
  },
  "language_info": {
   "codemirror_mode": {
    "name": "ipython",
    "version": 3
   },
   "file_extension": ".py",
   "mimetype": "text/x-python",
   "name": "python",
   "nbconvert_exporter": "python",
   "pygments_lexer": "ipython3",
   "version": "3.10.12"
  }
 },
 "nbformat": 4,
 "nbformat_minor": 2
}

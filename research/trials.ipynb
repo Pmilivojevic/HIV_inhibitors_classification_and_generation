{
 "cells": [
  {
   "cell_type": "code",
   "execution_count": 1,
   "metadata": {},
   "outputs": [
    {
     "data": {
      "text/plain": [
       "'/mnt/cb03386d-9344-47b1-82f9-868fbb64b4ae/python_projects/HIV_inhibitors_classification_and_generation/research'"
      ]
     },
     "execution_count": 1,
     "metadata": {},
     "output_type": "execute_result"
    }
   ],
   "source": [
    "import os\n",
    "%pwd"
   ]
  },
  {
   "cell_type": "code",
   "execution_count": 2,
   "metadata": {},
   "outputs": [
    {
     "data": {
      "text/plain": [
       "'/mnt/cb03386d-9344-47b1-82f9-868fbb64b4ae/python_projects/HIV_inhibitors_classification_and_generation'"
      ]
     },
     "execution_count": 2,
     "metadata": {},
     "output_type": "execute_result"
    }
   ],
   "source": [
    "os.chdir(\"../\")\n",
    "%pwd"
   ]
  },
  {
   "cell_type": "code",
   "execution_count": null,
   "metadata": {},
   "outputs": [],
   "source": [
    "import pandas as pd\n",
    "from sklearn.model_selection import train_test_split\n",
    "import random\n",
    "import numpy as np\n",
    "from rdkit import Chem\n",
    "import deepchem as dc"
   ]
  },
  {
   "cell_type": "code",
   "execution_count": 4,
   "metadata": {},
   "outputs": [],
   "source": [
    "hiv = pd.read_csv('artifacts/data_ingestion/HIV.csv')"
   ]
  },
  {
   "cell_type": "code",
   "execution_count": 5,
   "metadata": {},
   "outputs": [
    {
     "data": {
      "text/plain": [
       "HIV_active\n",
       "0    39684\n",
       "1     1443\n",
       "Name: count, dtype: int64"
      ]
     },
     "execution_count": 5,
     "metadata": {},
     "output_type": "execute_result"
    }
   ],
   "source": [
    "hiv['HIV_active'].value_counts()"
   ]
  },
  {
   "cell_type": "code",
   "execution_count": null,
   "metadata": {},
   "outputs": [],
   "source": [
    "def t_t_split_balance(df, split_size):\n",
    "    # Separate positive and negative cases\n",
    "    p_val = df[df.HIV_active == 1].to_numpy()\n",
    "    n_val = df[df.HIV_active == 0].to_numpy()\n",
    "\n",
    "    # Ensure class balance by selecting the smaller group as the target\n",
    "    if len(p_val) >= len(n_val):\n",
    "        big, small = p_val, n_val\n",
    "    else:\n",
    "        big, small = n_val, p_val\n",
    "\n",
    "    # Stratified test split\n",
    "    small_train, small_test = train_test_split(small, test_size=split_size, random_state=42)\n",
    "    big_train, big_test = train_test_split(big, test_size=(split_size * len(small) / len(big)), random_state=42)\n",
    "\n",
    "    test = np.concatenate([small_test, big_test])\n",
    "    \n",
    "    # Ensure the train set remains balanced by oversampling the smaller class\n",
    "    train = np.concatenate([big_train, random.choices(small_train, k=len(big_train) - len(small_train))])\n",
    "\n",
    "    # Convert back to DataFrame\n",
    "    train_df = pd.DataFrame(train, columns=df.columns)\n",
    "    test_df = pd.DataFrame(test, columns=df.columns)\n",
    "\n",
    "    return train_df.sample(frac=1, random_state=42), test_df.sample(frac=1, random_state=42)"
   ]
  },
  {
   "cell_type": "code",
   "execution_count": null,
   "metadata": {},
   "outputs": [],
   "source": [
    "train_df, test_df = t_t_split_balance(hiv, 0.2)"
   ]
  },
  {
   "cell_type": "code",
   "execution_count": null,
   "metadata": {},
   "outputs": [],
   "source": [
    "train_df.head()"
   ]
  },
  {
   "cell_type": "code",
   "execution_count": null,
   "metadata": {},
   "outputs": [],
   "source": [
    "p_list = p_df.values.tolist()"
   ]
  },
  {
   "cell_type": "code",
   "execution_count": null,
   "metadata": {},
   "outputs": [],
   "source": [
    "test = random.choices(p_list, k=int(0.2*len(p_list)))\n",
    "test"
   ]
  },
  {
   "cell_type": "code",
   "execution_count": null,
   "metadata": {},
   "outputs": [],
   "source": [
    "test = pd.DataFrame(test)"
   ]
  },
  {
   "cell_type": "code",
   "execution_count": null,
   "metadata": {},
   "outputs": [],
   "source": [
    "for row in hiv.head().iterrows():\n",
    "    if hiv.eq(row[1]).all(axis=1).any():\n",
    "        print(True)"
   ]
  },
  {
   "cell_type": "code",
   "execution_count": null,
   "metadata": {},
   "outputs": [],
   "source": [
    "if list(test_df.columns) == ['smils', 'activity', 'HIV_active']:\n",
    "    print(True)"
   ]
  },
  {
   "cell_type": "code",
   "execution_count": null,
   "metadata": {},
   "outputs": [],
   "source": [
    "test_df['HIV_active'][0] = None"
   ]
  },
  {
   "cell_type": "code",
   "execution_count": null,
   "metadata": {},
   "outputs": [],
   "source": [
    "bool(test_df['HIV_active'].isnull().sum())"
   ]
  },
  {
   "cell_type": "code",
   "execution_count": 12,
   "metadata": {},
   "outputs": [
    {
     "data": {
      "text/html": [
       "<div>\n",
       "<style scoped>\n",
       "    .dataframe tbody tr th:only-of-type {\n",
       "        vertical-align: middle;\n",
       "    }\n",
       "\n",
       "    .dataframe tbody tr th {\n",
       "        vertical-align: top;\n",
       "    }\n",
       "\n",
       "    .dataframe thead th {\n",
       "        text-align: right;\n",
       "    }\n",
       "</style>\n",
       "<table border=\"1\" class=\"dataframe\">\n",
       "  <thead>\n",
       "    <tr style=\"text-align: right;\">\n",
       "      <th></th>\n",
       "      <th>name</th>\n",
       "      <th>smiles</th>\n",
       "      <th>activity</th>\n",
       "      <th>HIV_active</th>\n",
       "    </tr>\n",
       "  </thead>\n",
       "  <tbody>\n",
       "    <tr>\n",
       "      <th>77631</th>\n",
       "      <td>train_77631</td>\n",
       "      <td>Cn1c2ccccc2c2ccc3c(c21)C(=O)C=CC3=O</td>\n",
       "      <td>CI</td>\n",
       "      <td>0</td>\n",
       "    </tr>\n",
       "    <tr>\n",
       "      <th>77632</th>\n",
       "      <td>train_77632</td>\n",
       "      <td>Cn1cc(NC(=O)Nc2cc(C(=O)Nc3cc(C(=O)Nc4cc(C(=O)N...</td>\n",
       "      <td>CA</td>\n",
       "      <td>1</td>\n",
       "    </tr>\n",
       "    <tr>\n",
       "      <th>77633</th>\n",
       "      <td>train_77633</td>\n",
       "      <td>O=C(Nc1ccc(CCC2=NCCCN2)cc1)c1ccc(C(=O)Nc2ccc(C...</td>\n",
       "      <td>CM</td>\n",
       "      <td>1</td>\n",
       "    </tr>\n",
       "    <tr>\n",
       "      <th>77634</th>\n",
       "      <td>train_77634</td>\n",
       "      <td>CN1C(=O)C(=NN(c2ccccc2)c2ccccc2)c2ccccc21</td>\n",
       "      <td>CI</td>\n",
       "      <td>0</td>\n",
       "    </tr>\n",
       "    <tr>\n",
       "      <th>77635</th>\n",
       "      <td>train_77635</td>\n",
       "      <td>CCOC(=O)C(Cc1c(C=O)[nH]c2ccccc12)(NC(=O)c1cccc...</td>\n",
       "      <td>CI</td>\n",
       "      <td>0</td>\n",
       "    </tr>\n",
       "  </tbody>\n",
       "</table>\n",
       "</div>"
      ],
      "text/plain": [
       "              name                                             smiles  \\\n",
       "77631  train_77631                Cn1c2ccccc2c2ccc3c(c21)C(=O)C=CC3=O   \n",
       "77632  train_77632  Cn1cc(NC(=O)Nc2cc(C(=O)Nc3cc(C(=O)Nc4cc(C(=O)N...   \n",
       "77633  train_77633  O=C(Nc1ccc(CCC2=NCCCN2)cc1)c1ccc(C(=O)Nc2ccc(C...   \n",
       "77634  train_77634          CN1C(=O)C(=NN(c2ccccc2)c2ccccc2)c2ccccc21   \n",
       "77635  train_77635  CCOC(=O)C(Cc1c(C=O)[nH]c2ccccc12)(NC(=O)c1cccc...   \n",
       "\n",
       "      activity  HIV_active  \n",
       "77631       CI           0  \n",
       "77632       CA           1  \n",
       "77633       CM           1  \n",
       "77634       CI           0  \n",
       "77635       CI           0  "
      ]
     },
     "execution_count": 12,
     "metadata": {},
     "output_type": "execute_result"
    }
   ],
   "source": [
    "train_pth = 'artifacts/data_transformation/train.csv'\n",
    "train = pd.read_csv(train_pth)\n",
    "# list(train.index)\n",
    "train.HIV_active.value_counts()\n",
    "len(train)\n",
    "train.tail()"
   ]
  },
  {
   "cell_type": "code",
   "execution_count": 17,
   "metadata": {},
   "outputs": [],
   "source": [
    "from sklearn.model_selection import train_test_split\n",
    "\n",
    "train_df, val_df = train_test_split(train, test_size=0.2, random_state=42, stratify=train.HIV_active)"
   ]
  },
  {
   "cell_type": "code",
   "execution_count": 22,
   "metadata": {},
   "outputs": [
    {
     "data": {
      "text/plain": [
       "HIV_active\n",
       "0    7879\n",
       "1    7649\n",
       "Name: count, dtype: int64"
      ]
     },
     "execution_count": 22,
     "metadata": {},
     "output_type": "execute_result"
    }
   ],
   "source": [
    "val_df.HIV_active.value_counts()"
   ]
  },
  {
   "cell_type": "code",
   "execution_count": 28,
   "metadata": {},
   "outputs": [
    {
     "data": {
      "text/plain": [
       "int"
      ]
     },
     "execution_count": 28,
     "metadata": {},
     "output_type": "execute_result"
    }
   ],
   "source": [
    "type(val_df.index.tolist()[0])"
   ]
  },
  {
   "cell_type": "code",
   "execution_count": null,
   "metadata": {},
   "outputs": [],
   "source": [
    "name = [f'test_{i+1}' for i in train.index]\n",
    "train.insert(0, 'name', name)\n",
    "train.head()"
   ]
  },
  {
   "cell_type": "code",
   "execution_count": null,
   "metadata": {},
   "outputs": [],
   "source": [
    "mol_obj = Chem.MolFromSmiles(train.smiles[1])"
   ]
  },
  {
   "cell_type": "code",
   "execution_count": null,
   "metadata": {},
   "outputs": [],
   "source": [
    "for atom in mol_obj.GetAtoms():\n",
    "    print(atom.GetSymbol(), atom.GetChiralTag())"
   ]
  },
  {
   "cell_type": "code",
   "execution_count": null,
   "metadata": {},
   "outputs": [],
   "source": [
    "bonds = mol_obj.GetBonds()\n",
    "\n",
    "for bond in bonds:\n",
    "    print(bond.GetBeginAtom().GetAtomicNum())\n",
    "    print(bond.GetIsConjugated())\n",
    "    print(bond.GetEndAtom().GetAtomicNum())\n",
    "    print('___')"
   ]
  },
  {
   "cell_type": "code",
   "execution_count": null,
   "metadata": {},
   "outputs": [],
   "source": [
    "featurizer = dc.feat.MolGraphConvFeaturizer(use_edges=True)\n",
    "f = featurizer._featurize(mol_obj)\n",
    "# data = f.to_pyg_graph()\n",
    "f.node_features"
   ]
  },
  {
   "cell_type": "code",
   "execution_count": null,
   "metadata": {},
   "outputs": [],
   "source": [
    "datasets = {name: pd.read_csv(csv) for name, csv in \n",
    "                zip([\"train\", \"test\"], ['artifacts/data_transformation/train.csv', 'artifacts/data_transformation/test.csv'])}"
   ]
  },
  {
   "cell_type": "code",
   "execution_count": null,
   "metadata": {},
   "outputs": [],
   "source": [
    "datasets"
   ]
  },
  {
   "cell_type": "code",
   "execution_count": 4,
   "metadata": {},
   "outputs": [],
   "source": [
    "from hivclass.utils.molecule_dataset import MoleculeDataset"
   ]
  },
  {
   "cell_type": "code",
   "execution_count": 5,
   "metadata": {},
   "outputs": [],
   "source": [
    "train_dataset = MoleculeDataset(\n",
    "    'artifacts/data_ingestion',\n",
    "    'artifacts/data_transformation',\n",
    "    'HIV.csv',\n",
    "    ['test', 'train', 'test.csv', 'train.csv']\n",
    ")"
   ]
  },
  {
   "cell_type": "code",
   "execution_count": 6,
   "metadata": {},
   "outputs": [],
   "source": [
    "sample = train_dataset.get(0)"
   ]
  },
  {
   "cell_type": "code",
   "execution_count": 10,
   "metadata": {},
   "outputs": [
    {
     "data": {
      "text/plain": [
       "578"
      ]
     },
     "execution_count": 10,
     "metadata": {},
     "output_type": "execute_result"
    }
   ],
   "source": [
    "train_dataset.len()"
   ]
  },
  {
   "cell_type": "code",
   "execution_count": null,
   "metadata": {},
   "outputs": [],
   "source": [
    "mol = 'train_0.pt'\n",
    "\n",
    "idx = int"
   ]
  }
 ],
 "metadata": {
  "kernelspec": {
   "display_name": "env",
   "language": "python",
   "name": "python3"
  },
  "language_info": {
   "codemirror_mode": {
    "name": "ipython",
    "version": 3
   },
   "file_extension": ".py",
   "mimetype": "text/x-python",
   "name": "python",
   "nbconvert_exporter": "python",
   "pygments_lexer": "ipython3",
   "version": "3.10.12"
  }
 },
 "nbformat": 4,
 "nbformat_minor": 2
}

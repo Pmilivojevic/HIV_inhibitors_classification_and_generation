{
 "cells": [
  {
   "cell_type": "code",
   "execution_count": 1,
   "metadata": {},
   "outputs": [
    {
     "data": {
      "text/plain": [
       "'/mnt/cb03386d-9344-47b1-82f9-868fbb64b4ae/python_projects/HIV_inhibitors_classification_and_generation/research'"
      ]
     },
     "execution_count": 1,
     "metadata": {},
     "output_type": "execute_result"
    }
   ],
   "source": [
    "import os\n",
    "%pwd"
   ]
  },
  {
   "cell_type": "code",
   "execution_count": 2,
   "metadata": {},
   "outputs": [
    {
     "data": {
      "text/plain": [
       "'/mnt/cb03386d-9344-47b1-82f9-868fbb64b4ae/python_projects/HIV_inhibitors_classification_and_generation'"
      ]
     },
     "execution_count": 2,
     "metadata": {},
     "output_type": "execute_result"
    }
   ],
   "source": [
    "os.chdir(\"../\")\n",
    "%pwd"
   ]
  },
  {
   "cell_type": "code",
   "execution_count": 3,
   "metadata": {},
   "outputs": [],
   "source": [
    "import pandas as pd\n",
    "from sklearn.model_selection import train_test_split\n",
    "from sklearn.metrics import confusion_matrix\n",
    "from hivclass.utils.main_utils import plot_confusion_matrix\n",
    "import random\n",
    "import numpy as np\n",
    "from pathlib import Path\n",
    "from hivclass.utils.main_utils import *\n",
    "# from rdkit import Chem\n",
    "# import deepchem as dc"
   ]
  },
  {
   "cell_type": "code",
   "execution_count": 22,
   "metadata": {},
   "outputs": [],
   "source": [
    "cnf = read_yaml(Path('params.yaml'))\n",
    "cnf = cnf.BEST_PARAMETERS\n",
    "cnf1 = read_yaml(Path('params.yaml'))\n",
    "cnf1 = cnf1.BEST_PARAMETERS"
   ]
  },
  {
   "cell_type": "code",
   "execution_count": 17,
   "metadata": {},
   "outputs": [],
   "source": [
    "cnf.HYPERPARAMETERS.early_stopping = 12"
   ]
  },
  {
   "cell_type": "code",
   "execution_count": null,
   "metadata": {},
   "outputs": [],
   "source": [
    "for folder in os.listdir('artifacts/data_transformation/test'):\n",
    "    print(folder)"
   ]
  },
  {
   "cell_type": "code",
   "execution_count": 24,
   "metadata": {},
   "outputs": [
    {
     "name": "stdout",
     "output_type": "stream",
     "text": [
      "True\n"
     ]
    }
   ],
   "source": [
    "if cnf == cnf1:\n",
    "    print(True)\n",
    "else:\n",
    "    print(False)"
   ]
  },
  {
   "cell_type": "code",
   "execution_count": 4,
   "metadata": {},
   "outputs": [
    {
     "name": "stdout",
     "output_type": "stream",
     "text": [
      "[[5 4]\n",
      " [3 7]]\n"
     ]
    }
   ],
   "source": [
    "preds =  [0, 0, 0, 0, 0, 1, 1, 1, 1, 1, 1, 1, 0, 0, 0, 1, 1, 1, 1]\n",
    "labels = [0, 0, 0, 0, 0, 1, 1, 1, 1, 1, 1, 1, 1, 1, 1, 0, 0, 0, 0]\n",
    "\n",
    "cm = confusion_matrix(labels, preds)\n",
    "print(cm)\n",
    "\n",
    "plot_confusion_matrix(cm, 'research', 0)"
   ]
  },
  {
   "cell_type": "code",
   "execution_count": 4,
   "metadata": {},
   "outputs": [],
   "source": [
    "hiv = pd.read_csv('artifacts/data_ingestion/HIV.csv')"
   ]
  },
  {
   "cell_type": "code",
   "execution_count": 6,
   "metadata": {},
   "outputs": [
    {
     "data": {
      "text/plain": [
       "HIV_active\n",
       "0    39684\n",
       "1     1443\n",
       "Name: count, dtype: int64"
      ]
     },
     "execution_count": 6,
     "metadata": {},
     "output_type": "execute_result"
    }
   ],
   "source": [
    "hiv['HIV_active'].value_counts()"
   ]
  },
  {
   "cell_type": "code",
   "execution_count": 14,
   "metadata": {},
   "outputs": [],
   "source": [
    "train_df, test_df = train_test_split(hiv, stratify=hiv['HIV_active'], test_size=0.2, random_state=42)"
   ]
  },
  {
   "cell_type": "code",
   "execution_count": 10,
   "metadata": {},
   "outputs": [
    {
     "data": {
      "text/plain": [
       "HIV_active\n",
       "0    7937\n",
       "1     289\n",
       "Name: count, dtype: int64"
      ]
     },
     "execution_count": 10,
     "metadata": {},
     "output_type": "execute_result"
    }
   ],
   "source": [
    "test_df['HIV_active'].value_counts()"
   ]
  },
  {
   "cell_type": "code",
   "execution_count": null,
   "metadata": {},
   "outputs": [],
   "source": [
    "def t_t_split_balance(df, split_size):\n",
    "    # Separate positive and negative cases\n",
    "    p_val = df[df.HIV_active == 1].to_numpy()\n",
    "    n_val = df[df.HIV_active == 0].to_numpy()\n",
    "\n",
    "    # Ensure class balance by selecting the smaller group as the target\n",
    "    if len(p_val) >= len(n_val):\n",
    "        big, small = p_val, n_val\n",
    "    else:\n",
    "        big, small = n_val, p_val\n",
    "\n",
    "    # Stratified test split\n",
    "    small_train, small_test = train_test_split(small, test_size=split_size, random_state=42)\n",
    "    big_train, big_test = train_test_split(big, test_size=(split_size * len(small) / len(big)), random_state=42)\n",
    "\n",
    "    test = np.concatenate([small_test, big_test])\n",
    "    \n",
    "    # Ensure the train set remains balanced by oversampling the smaller class\n",
    "    train = np.concatenate([big_train, random.choices(small_train, k=len(big_train) - len(small_train))])\n",
    "\n",
    "    # Convert back to DataFrame\n",
    "    train_df = pd.DataFrame(train, columns=df.columns)\n",
    "    test_df = pd.DataFrame(test, columns=df.columns)\n",
    "\n",
    "    return train_df.sample(frac=1, random_state=42), test_df.sample(frac=1, random_state=42)"
   ]
  },
  {
   "cell_type": "code",
   "execution_count": null,
   "metadata": {},
   "outputs": [],
   "source": [
    "train_df, test_df = t_t_split_balance(hiv, 0.2)"
   ]
  },
  {
   "cell_type": "code",
   "execution_count": null,
   "metadata": {},
   "outputs": [],
   "source": [
    "train_df.head()"
   ]
  },
  {
   "cell_type": "code",
   "execution_count": null,
   "metadata": {},
   "outputs": [],
   "source": [
    "p_list = p_df.values.tolist()"
   ]
  },
  {
   "cell_type": "code",
   "execution_count": null,
   "metadata": {},
   "outputs": [],
   "source": [
    "test = random.choices(p_list, k=int(0.2*len(p_list)))\n",
    "test"
   ]
  },
  {
   "cell_type": "code",
   "execution_count": null,
   "metadata": {},
   "outputs": [],
   "source": [
    "test = pd.DataFrame(test)"
   ]
  },
  {
   "cell_type": "code",
   "execution_count": null,
   "metadata": {},
   "outputs": [],
   "source": [
    "for row in hiv.head().iterrows():\n",
    "    if hiv.eq(row[1]).all(axis=1).any():\n",
    "        print(True)"
   ]
  },
  {
   "cell_type": "code",
   "execution_count": null,
   "metadata": {},
   "outputs": [],
   "source": [
    "if list(test_df.columns) == ['smils', 'activity', 'HIV_active']:\n",
    "    print(True)"
   ]
  },
  {
   "cell_type": "code",
   "execution_count": null,
   "metadata": {},
   "outputs": [],
   "source": [
    "test_df['HIV_active'][0] = None"
   ]
  },
  {
   "cell_type": "code",
   "execution_count": null,
   "metadata": {},
   "outputs": [],
   "source": [
    "bool(test_df['HIV_active'].isnull().sum())"
   ]
  },
  {
   "cell_type": "code",
   "execution_count": 29,
   "metadata": {},
   "outputs": [
    {
     "data": {
      "text/html": [
       "<div>\n",
       "<style scoped>\n",
       "    .dataframe tbody tr th:only-of-type {\n",
       "        vertical-align: middle;\n",
       "    }\n",
       "\n",
       "    .dataframe tbody tr th {\n",
       "        vertical-align: top;\n",
       "    }\n",
       "\n",
       "    .dataframe thead th {\n",
       "        text-align: right;\n",
       "    }\n",
       "</style>\n",
       "<table border=\"1\" class=\"dataframe\">\n",
       "  <thead>\n",
       "    <tr style=\"text-align: right;\">\n",
       "      <th></th>\n",
       "      <th>Index</th>\n",
       "      <th>name</th>\n",
       "      <th>smiles</th>\n",
       "      <th>HIV_active</th>\n",
       "    </tr>\n",
       "  </thead>\n",
       "  <tbody>\n",
       "    <tr>\n",
       "      <th>0</th>\n",
       "      <td>0</td>\n",
       "      <td>train_0.pt</td>\n",
       "      <td>CC(CSC(=O)c1ccccc1)C(=O)N1c2ccccc2CC1C(=O)O</td>\n",
       "      <td>0</td>\n",
       "    </tr>\n",
       "    <tr>\n",
       "      <th>1</th>\n",
       "      <td>1</td>\n",
       "      <td>train_1.pt</td>\n",
       "      <td>ClP1Nc2cncnc2N1</td>\n",
       "      <td>0</td>\n",
       "    </tr>\n",
       "    <tr>\n",
       "      <th>2</th>\n",
       "      <td>2</td>\n",
       "      <td>train_2.pt</td>\n",
       "      <td>Cc1ccc(S(=O)(=O)ON=C(CCC(=NOS(=O)(=O)c2ccc(C)c...</td>\n",
       "      <td>0</td>\n",
       "    </tr>\n",
       "    <tr>\n",
       "      <th>3</th>\n",
       "      <td>3</td>\n",
       "      <td>train_3.pt</td>\n",
       "      <td>O=C1C2C3C=CC(CC3)C2C(=O)C2C3C=CC(C3)C12</td>\n",
       "      <td>0</td>\n",
       "    </tr>\n",
       "    <tr>\n",
       "      <th>4</th>\n",
       "      <td>4</td>\n",
       "      <td>train_4.pt</td>\n",
       "      <td>O=C1C=CC(=O)c2c1ccc1c3ccccc3n(CCCCCn3c4ccccc4c...</td>\n",
       "      <td>0</td>\n",
       "    </tr>\n",
       "  </tbody>\n",
       "</table>\n",
       "</div>"
      ],
      "text/plain": [
       "   Index        name                                             smiles  \\\n",
       "0      0  train_0.pt        CC(CSC(=O)c1ccccc1)C(=O)N1c2ccccc2CC1C(=O)O   \n",
       "1      1  train_1.pt                                    ClP1Nc2cncnc2N1   \n",
       "2      2  train_2.pt  Cc1ccc(S(=O)(=O)ON=C(CCC(=NOS(=O)(=O)c2ccc(C)c...   \n",
       "3      3  train_3.pt            O=C1C2C3C=CC(CC3)C2C(=O)C2C3C=CC(C3)C12   \n",
       "4      4  train_4.pt  O=C1C=CC(=O)c2c1ccc1c3ccccc3n(CCCCCn3c4ccccc4c...   \n",
       "\n",
       "   HIV_active  \n",
       "0           0  \n",
       "1           0  \n",
       "2           0  \n",
       "3           0  \n",
       "4           0  "
      ]
     },
     "execution_count": 29,
     "metadata": {},
     "output_type": "execute_result"
    }
   ],
   "source": [
    "train_pth = 'artifacts/data_transformation/train.csv'\n",
    "test_pth = 'artifacts/data_transformation/test.csv'\n",
    "train = pd.read_csv(train_pth)\n",
    "test = pd.read_csv(test_pth)\n",
    "train['Index'] = range(len(train))\n",
    "train.insert(0, 'Index', train.pop('Index'))\n",
    "train.head()"
   ]
  },
  {
   "cell_type": "code",
   "execution_count": 30,
   "metadata": {},
   "outputs": [],
   "source": [
    "p_val = train[train.HIV_active == 1].to_numpy()\n",
    "n_val = train[train.HIV_active == 0].to_numpy()"
   ]
  },
  {
   "cell_type": "code",
   "execution_count": 34,
   "metadata": {},
   "outputs": [],
   "source": [
    "if len(p_val) >= len(n_val):\n",
    "    big, small = p_val, n_val\n",
    "else:\n",
    "    big, small = n_val, p_val\n",
    "\n",
    "small_train, small_val = train_test_split(\n",
    "    small,\n",
    "    test_size=0.2,\n",
    "    random_state=42\n",
    ")\n",
    "\n",
    "big_train, big_val = train_test_split(\n",
    "    big,\n",
    "    test_size=len(small_val),\n",
    "    random_state=42\n",
    ")\n",
    "\n",
    "val = np.concatenate([small_val, big_val])\n",
    "np.random.shuffle(val)\n",
    "\n",
    "train = np.concatenate([\n",
    "    big_train,\n",
    "    small_train,\n",
    "    random.choices(small_train, k=len(big_train) - len(small_train))\n",
    "])\n",
    "np.random.shuffle(train)\n",
    "\n",
    "train_inds = [i[0] for i in train]\n",
    "val_inds = [i[0] for i in val]"
   ]
  },
  {
   "cell_type": "code",
   "execution_count": 42,
   "metadata": {},
   "outputs": [
    {
     "data": {
      "text/plain": [
       "[3711,\n",
       " 8168,\n",
       " 5900,\n",
       " 35183,\n",
       " 31651,\n",
       " 29076,\n",
       " 3593,\n",
       " 34565,\n",
       " 13475,\n",
       " 39299,\n",
       " 25573,\n",
       " 21366,\n",
       " 38921,\n",
       " 32517,\n",
       " 6913,\n",
       " 35858,\n",
       " 32527,\n",
       " 17939,\n",
       " 2056,\n",
       " 8170,\n",
       " 14428,\n",
       " 37228,\n",
       " 5375,\n",
       " 6203,\n",
       " 1690,\n",
       " 5977,\n",
       " 15268,\n",
       " 40462,\n",
       " 20993,\n",
       " 24116,\n",
       " 7241,\n",
       " 30504,\n",
       " 20652,\n",
       " 3506,\n",
       " 20315,\n",
       " 27223,\n",
       " 31288,\n",
       " 25954,\n",
       " 34918,\n",
       " 4867,\n",
       " 37648,\n",
       " 9841,\n",
       " 5704,\n",
       " 10536,\n",
       " 24156,\n",
       " 12486,\n",
       " 34742,\n",
       " 28672,\n",
       " 23841,\n",
       " 5365,\n",
       " 36603,\n",
       " 2023,\n",
       " 32637,\n",
       " 8013,\n",
       " 14937,\n",
       " 16237,\n",
       " 569,\n",
       " 15150,\n",
       " 34850,\n",
       " 31185,\n",
       " 13387,\n",
       " 1482,\n",
       " 5883,\n",
       " 27124,\n",
       " 18186,\n",
       " 3188,\n",
       " 30614,\n",
       " 15013,\n",
       " 22166,\n",
       " 17716,\n",
       " 29171,\n",
       " 8987,\n",
       " 26831,\n",
       " 22009,\n",
       " 161,\n",
       " 15531,\n",
       " 13152,\n",
       " 33026,\n",
       " 6786,\n",
       " 4312,\n",
       " 40185,\n",
       " 10859,\n",
       " 10930,\n",
       " 28398,\n",
       " 23622,\n",
       " 1605,\n",
       " 13926,\n",
       " 38665,\n",
       " 8227,\n",
       " 27597,\n",
       " 10337,\n",
       " 22096,\n",
       " 31387,\n",
       " 18072,\n",
       " 36490,\n",
       " 9061,\n",
       " 31033,\n",
       " 5200,\n",
       " 7136,\n",
       " 3464,\n",
       " 30561,\n",
       " 8157,\n",
       " 15439,\n",
       " 40259,\n",
       " 13479,\n",
       " 34859,\n",
       " 1361,\n",
       " 22808,\n",
       " 12274,\n",
       " 7733,\n",
       " 11622,\n",
       " 14361,\n",
       " 25202,\n",
       " 9875,\n",
       " 15872,\n",
       " 36258,\n",
       " 6006,\n",
       " 33246,\n",
       " 12646,\n",
       " 1444,\n",
       " 16564,\n",
       " 9660,\n",
       " 33704,\n",
       " 34112,\n",
       " 7826,\n",
       " 28448,\n",
       " 40296,\n",
       " 5157,\n",
       " 12255,\n",
       " 6526,\n",
       " 19115,\n",
       " 6661,\n",
       " 17899,\n",
       " 1064,\n",
       " 21848,\n",
       " 16368,\n",
       " 15879,\n",
       " 11475,\n",
       " 11506,\n",
       " 24204,\n",
       " 36522,\n",
       " 25958,\n",
       " 39095,\n",
       " 40230,\n",
       " 9865,\n",
       " 28769,\n",
       " 955,\n",
       " 26527,\n",
       " 1470,\n",
       " 21326,\n",
       " 6599,\n",
       " 4463,\n",
       " 30019,\n",
       " 5947,\n",
       " 8872,\n",
       " 6432,\n",
       " 23016,\n",
       " 16015,\n",
       " 17718,\n",
       " 40360,\n",
       " 15173,\n",
       " 30569,\n",
       " 29653,\n",
       " 18943,\n",
       " 3578,\n",
       " 14636,\n",
       " 2462,\n",
       " 31058,\n",
       " 11579,\n",
       " 21115,\n",
       " 20164,\n",
       " 7931,\n",
       " 4046,\n",
       " 28588,\n",
       " 4376,\n",
       " 40188,\n",
       " 982,\n",
       " 4326,\n",
       " 23769,\n",
       " 37345,\n",
       " 34833,\n",
       " 5541,\n",
       " 22571,\n",
       " 5637,\n",
       " 21632,\n",
       " 17283,\n",
       " 22468,\n",
       " 14154,\n",
       " 26484,\n",
       " 38068,\n",
       " 11188,\n",
       " 12681,\n",
       " 38782,\n",
       " 34599,\n",
       " 32528,\n",
       " 15669,\n",
       " 33434,\n",
       " 21309,\n",
       " 31337,\n",
       " 16069,\n",
       " 35432,\n",
       " 22236,\n",
       " 11642,\n",
       " 6115,\n",
       " 7271,\n",
       " 16797,\n",
       " 18424,\n",
       " 21310,\n",
       " 21289,\n",
       " 40394,\n",
       " 9225,\n",
       " 17505,\n",
       " 18643,\n",
       " 34929,\n",
       " 18604,\n",
       " 39323,\n",
       " 25482,\n",
       " 11628,\n",
       " 25843,\n",
       " 30397,\n",
       " 32514,\n",
       " 19679,\n",
       " 19234,\n",
       " 32044,\n",
       " 30051,\n",
       " 13054,\n",
       " 5994,\n",
       " 30957,\n",
       " 33579,\n",
       " 13641,\n",
       " 28477,\n",
       " 14368,\n",
       " 1374,\n",
       " 3083,\n",
       " 5127,\n",
       " 8769,\n",
       " 24906,\n",
       " 2600,\n",
       " 28008,\n",
       " 25111,\n",
       " 27704,\n",
       " 33789,\n",
       " 32467,\n",
       " 28951,\n",
       " 10111,\n",
       " 38232,\n",
       " 29066,\n",
       " 21877,\n",
       " 4926,\n",
       " 30872,\n",
       " 11452,\n",
       " 28625,\n",
       " 16298,\n",
       " 28700,\n",
       " 38279,\n",
       " 8258,\n",
       " 9447,\n",
       " 3904,\n",
       " 37698,\n",
       " 26906,\n",
       " 12053,\n",
       " 12247,\n",
       " 11967,\n",
       " 39236,\n",
       " 3508,\n",
       " 27765,\n",
       " 36395,\n",
       " 36391,\n",
       " 779,\n",
       " 25879,\n",
       " 33751,\n",
       " 31212,\n",
       " 15566,\n",
       " 32962,\n",
       " 4063,\n",
       " 38977,\n",
       " 2971,\n",
       " 24886,\n",
       " 23269,\n",
       " 37769,\n",
       " 9574,\n",
       " 21940,\n",
       " 25338,\n",
       " 12920,\n",
       " 2207,\n",
       " 15100,\n",
       " 40042,\n",
       " 32833,\n",
       " 21472,\n",
       " 5224,\n",
       " 34967,\n",
       " 22679,\n",
       " 15283,\n",
       " 7588,\n",
       " 33400,\n",
       " 6092,\n",
       " 36426,\n",
       " 20246,\n",
       " 32219,\n",
       " 8706,\n",
       " 5430,\n",
       " 31320,\n",
       " 15460,\n",
       " 296,\n",
       " 9111,\n",
       " 3320,\n",
       " 35728,\n",
       " 21748,\n",
       " 22970,\n",
       " 39441,\n",
       " 1814,\n",
       " 4472,\n",
       " 29577,\n",
       " 37666,\n",
       " 757,\n",
       " 18494,\n",
       " 19722,\n",
       " 5311,\n",
       " 12008,\n",
       " 23012,\n",
       " 10593,\n",
       " 27785,\n",
       " 21026,\n",
       " 37513,\n",
       " 25775,\n",
       " 23506,\n",
       " 24164,\n",
       " 10844,\n",
       " 14049,\n",
       " 30989,\n",
       " 3425,\n",
       " 31275,\n",
       " 10106,\n",
       " 2511,\n",
       " 19480,\n",
       " 38798,\n",
       " 15821,\n",
       " 14016,\n",
       " 13634,\n",
       " 6810,\n",
       " 34479,\n",
       " 36626,\n",
       " 34887,\n",
       " 35990,\n",
       " 21222,\n",
       " 19450,\n",
       " 32340,\n",
       " 30217,\n",
       " 29245,\n",
       " 20936,\n",
       " 24813,\n",
       " 15628,\n",
       " 3326,\n",
       " 31128,\n",
       " 13610,\n",
       " 29911,\n",
       " 21035,\n",
       " 10903,\n",
       " 7694,\n",
       " 6607,\n",
       " 24877,\n",
       " 27588,\n",
       " 29538,\n",
       " 22151,\n",
       " 8019,\n",
       " 24841,\n",
       " 25777,\n",
       " 3349,\n",
       " 5277,\n",
       " 4391,\n",
       " 15036,\n",
       " 15056,\n",
       " 28509,\n",
       " 10120,\n",
       " 11487,\n",
       " 1529,\n",
       " 30583,\n",
       " 37578,\n",
       " 25793,\n",
       " 24595,\n",
       " 25440,\n",
       " 8805,\n",
       " 21313,\n",
       " 23302,\n",
       " 15875,\n",
       " 5147,\n",
       " 2209,\n",
       " 39645,\n",
       " 26493,\n",
       " 23975,\n",
       " 35239,\n",
       " 40079,\n",
       " 34018,\n",
       " 112,\n",
       " 20017,\n",
       " 21776,\n",
       " 6665,\n",
       " 12564,\n",
       " 7620,\n",
       " 38435,\n",
       " 30770,\n",
       " 32738,\n",
       " 4327,\n",
       " 13279,\n",
       " 2073,\n",
       " 34560,\n",
       " 3813,\n",
       " 15523,\n",
       " 25315,\n",
       " 16587,\n",
       " 10203,\n",
       " 35882,\n",
       " 16731,\n",
       " 16903,\n",
       " 2327,\n",
       " 29967,\n",
       " 6640,\n",
       " 19592,\n",
       " 15005,\n",
       " 19274,\n",
       " 39256,\n",
       " 204,\n",
       " 23189,\n",
       " 7781,\n",
       " 19521,\n",
       " 2656,\n",
       " 18034,\n",
       " 15330,\n",
       " 20682,\n",
       " 37342,\n",
       " 13972,\n",
       " 29883,\n",
       " 20420,\n",
       " 30534,\n",
       " 32351,\n",
       " 13609,\n",
       " 16601,\n",
       " 16649,\n",
       " 31194,\n",
       " 11691,\n",
       " 6323,\n",
       " 13966,\n",
       " 9621,\n",
       " 22102,\n",
       " 10683,\n",
       " 19731,\n",
       " 16545,\n",
       " 31808,\n",
       " 10743,\n",
       " 2814,\n",
       " 2249,\n",
       " 34684,\n",
       " 33947,\n",
       " 14945,\n",
       " 33841,\n",
       " 5328,\n",
       " 3058,\n",
       " 1066,\n",
       " 12889,\n",
       " 7238,\n",
       " 23314,\n",
       " 29176]"
      ]
     },
     "execution_count": 42,
     "metadata": {},
     "output_type": "execute_result"
    }
   ],
   "source": [
    "val_inds"
   ]
  },
  {
   "cell_type": "code",
   "execution_count": 41,
   "metadata": {},
   "outputs": [
    {
     "data": {
      "text/plain": [
       "39"
      ]
     },
     "execution_count": 41,
     "metadata": {},
     "output_type": "execute_result"
    }
   ],
   "source": [
    "train_inds.count(6310)"
   ]
  },
  {
   "cell_type": "code",
   "execution_count": null,
   "metadata": {},
   "outputs": [],
   "source": [
    "mol.y.item()"
   ]
  },
  {
   "cell_type": "code",
   "execution_count": null,
   "metadata": {},
   "outputs": [],
   "source": [
    "from sklearn.model_selection import train_test_split\n",
    "\n",
    "train_df, val_df = train_test_split(train, test_size=0.2, random_state=42, stratify=train.HIV_active)"
   ]
  },
  {
   "cell_type": "code",
   "execution_count": null,
   "metadata": {},
   "outputs": [],
   "source": [
    "val_df.HIV_active.value_counts()"
   ]
  },
  {
   "cell_type": "code",
   "execution_count": null,
   "metadata": {},
   "outputs": [],
   "source": [
    "type(val_df.index.tolist()[0])"
   ]
  },
  {
   "cell_type": "code",
   "execution_count": null,
   "metadata": {},
   "outputs": [],
   "source": [
    "name = [f'test_{i+1}' for i in train.index]\n",
    "train.insert(0, 'name', name)\n",
    "train.head()"
   ]
  },
  {
   "cell_type": "code",
   "execution_count": null,
   "metadata": {},
   "outputs": [],
   "source": [
    "mol_obj = Chem.MolFromSmiles(train.smiles[1])"
   ]
  },
  {
   "cell_type": "code",
   "execution_count": null,
   "metadata": {},
   "outputs": [],
   "source": [
    "for atom in mol_obj.GetAtoms():\n",
    "    print(atom.GetSymbol(), atom.GetChiralTag())"
   ]
  },
  {
   "cell_type": "code",
   "execution_count": null,
   "metadata": {},
   "outputs": [],
   "source": [
    "bonds = mol_obj.GetBonds()\n",
    "\n",
    "for bond in bonds:\n",
    "    print(bond.GetBeginAtom().GetAtomicNum())\n",
    "    print(bond.GetIsConjugated())\n",
    "    print(bond.GetEndAtom().GetAtomicNum())\n",
    "    print('___')"
   ]
  },
  {
   "cell_type": "code",
   "execution_count": null,
   "metadata": {},
   "outputs": [],
   "source": [
    "featurizer = dc.feat.MolGraphConvFeaturizer(use_edges=True)\n",
    "f = featurizer._featurize(mol_obj)\n",
    "# data = f.to_pyg_graph()\n",
    "f.node_features"
   ]
  },
  {
   "cell_type": "code",
   "execution_count": null,
   "metadata": {},
   "outputs": [],
   "source": [
    "datasets = {name: pd.read_csv(csv) for name, csv in \n",
    "                zip([\"train\", \"test\"], ['artifacts/data_transformation/train.csv', 'artifacts/data_transformation/test.csv'])}"
   ]
  },
  {
   "cell_type": "code",
   "execution_count": null,
   "metadata": {},
   "outputs": [],
   "source": [
    "datasets"
   ]
  },
  {
   "cell_type": "code",
   "execution_count": null,
   "metadata": {},
   "outputs": [],
   "source": [
    "from hivclass.utils.molecule_dataset import MoleculeDataset\n",
    "import sys"
   ]
  },
  {
   "cell_type": "code",
   "execution_count": null,
   "metadata": {},
   "outputs": [],
   "source": [
    "train_dataset = MoleculeDataset(\n",
    "    'artifacts/data_ingestion',\n",
    "    'artifacts/data_transformation',\n",
    "    'HIV.csv',\n",
    "    ['test', 'train', 'test.csv', 'train.csv']\n",
    ")"
   ]
  },
  {
   "cell_type": "code",
   "execution_count": null,
   "metadata": {},
   "outputs": [],
   "source": [
    "sample = train_dataset.get(0)"
   ]
  },
  {
   "cell_type": "code",
   "execution_count": null,
   "metadata": {},
   "outputs": [],
   "source": [
    "train_dataset.len()"
   ]
  },
  {
   "cell_type": "code",
   "execution_count": null,
   "metadata": {},
   "outputs": [],
   "source": [
    "non = 0\n",
    "for i, sample in enumerate(train_dataset):\n",
    "    sys.stdout.write(f'Count: {i}')\n",
    "    sys.stdout.flush()\n",
    "    print()\n",
    "    \n",
    "    if sample.y.item() == None:\n",
    "        non += 1\n",
    "\n",
    "print(non)"
   ]
  },
  {
   "cell_type": "code",
   "execution_count": null,
   "metadata": {},
   "outputs": [],
   "source": [
    "train_dataset.get(15821)"
   ]
  },
  {
   "cell_type": "code",
   "execution_count": null,
   "metadata": {},
   "outputs": [],
   "source": [
    "model_folder_path = 'artifacts/model_trainer/models/2'\n",
    "model_name = os.listdir(model_folder_path)[0]\n",
    "model_path = os.path.join(model_folder_path, model_name)"
   ]
  },
  {
   "cell_type": "code",
   "execution_count": null,
   "metadata": {},
   "outputs": [],
   "source": [
    "model_path"
   ]
  },
  {
   "cell_type": "code",
   "execution_count": null,
   "metadata": {},
   "outputs": [],
   "source": []
  }
 ],
 "metadata": {
  "kernelspec": {
   "display_name": "env",
   "language": "python",
   "name": "python3"
  },
  "language_info": {
   "codemirror_mode": {
    "name": "ipython",
    "version": 3
   },
   "file_extension": ".py",
   "mimetype": "text/x-python",
   "name": "python",
   "nbconvert_exporter": "python",
   "pygments_lexer": "ipython3",
   "version": "3.10.12"
  }
 },
 "nbformat": 4,
 "nbformat_minor": 2
}

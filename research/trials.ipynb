{
 "cells": [
  {
   "cell_type": "code",
   "execution_count": 1,
   "metadata": {},
   "outputs": [
    {
     "data": {
      "text/plain": [
       "'/mnt/cb03386d-9344-47b1-82f9-868fbb64b4ae/python_projects/HIV_inhibitors_classification_and_generation/research'"
      ]
     },
     "execution_count": 1,
     "metadata": {},
     "output_type": "execute_result"
    }
   ],
   "source": [
    "import os\n",
    "%pwd"
   ]
  },
  {
   "cell_type": "code",
   "execution_count": 2,
   "metadata": {},
   "outputs": [
    {
     "data": {
      "text/plain": [
       "'/mnt/cb03386d-9344-47b1-82f9-868fbb64b4ae/python_projects/HIV_inhibitors_classification_and_generation'"
      ]
     },
     "execution_count": 2,
     "metadata": {},
     "output_type": "execute_result"
    }
   ],
   "source": [
    "os.chdir(\"../\")\n",
    "%pwd"
   ]
  },
  {
   "cell_type": "code",
   "execution_count": 5,
   "metadata": {},
   "outputs": [],
   "source": [
    "import pandas as pd\n",
    "from sklearn.model_selection import train_test_split\n",
    "from sklearn.metrics import confusion_matrix\n",
    "from hivclass.utils.main_utils import plot_confusion_matrix\n",
    "import random\n",
    "import numpy as np\n",
    "from pathlib import Path\n",
    "from hivclass.utils.main_utils import *\n",
    "# from rdkit import Chem\n",
    "# import deepchem as dc"
   ]
  },
  {
   "cell_type": "code",
   "execution_count": 22,
   "metadata": {},
   "outputs": [],
   "source": [
    "cnf = read_yaml(Path('params.yaml'))\n",
    "cnf = cnf.BEST_PARAMETERS\n",
    "cnf1 = read_yaml(Path('params.yaml'))\n",
    "cnf1 = cnf1.BEST_PARAMETERS"
   ]
  },
  {
   "cell_type": "code",
   "execution_count": 17,
   "metadata": {},
   "outputs": [],
   "source": [
    "cnf.HYPERPARAMETERS.early_stopping = 12"
   ]
  },
  {
   "cell_type": "code",
   "execution_count": 25,
   "metadata": {},
   "outputs": [
    {
     "name": "stdout",
     "output_type": "stream",
     "text": [
      "test_565.pt\n",
      "test_534.pt\n",
      "test_201.pt\n",
      "test_444.pt\n",
      "test_33.pt\n",
      "test_544.pt\n",
      "test_163.pt\n",
      "test_194.pt\n",
      "test_143.pt\n",
      "test_98.pt\n",
      "test_298.pt\n",
      "test_196.pt\n",
      "test_155.pt\n",
      "test_244.pt\n",
      "test_334.pt\n",
      "test_275.pt\n",
      "test_135.pt\n",
      "test_61.pt\n",
      "test_50.pt\n",
      "test_417.pt\n",
      "test_127.pt\n",
      "test_435.pt\n",
      "test_509.pt\n",
      "test_447.pt\n",
      "test_178.pt\n",
      "test_108.pt\n",
      "test_241.pt\n",
      "test_530.pt\n",
      "test_165.pt\n",
      "test_346.pt\n",
      "test_480.pt\n",
      "test_238.pt\n",
      "test_502.pt\n",
      "test_219.pt\n",
      "test_556.pt\n",
      "test_521.pt\n",
      "test_27.pt\n",
      "test_471.pt\n",
      "test_362.pt\n",
      "test_577.pt\n",
      "test_401.pt\n",
      "test_338.pt\n",
      "test_122.pt\n",
      "test_515.pt\n",
      "test_18.pt\n",
      "test_8.pt\n",
      "test_59.pt\n",
      "test_459.pt\n",
      "test_45.pt\n",
      "test_277.pt\n",
      "test_131.pt\n",
      "test_317.pt\n",
      "test_169.pt\n",
      "test_167.pt\n",
      "test_44.pt\n",
      "test_214.pt\n",
      "test_512.pt\n",
      "test_274.pt\n",
      "test_62.pt\n",
      "test_91.pt\n",
      "test_177.pt\n",
      "test_488.pt\n",
      "test_16.pt\n",
      "test_232.pt\n",
      "test_450.pt\n",
      "test_243.pt\n",
      "test_85.pt\n",
      "test_28.pt\n",
      "test_527.pt\n",
      "test_443.pt\n",
      "test_391.pt\n",
      "test_374.pt\n",
      "test_159.pt\n",
      "test_304.pt\n",
      "test_1.pt\n",
      "test_501.pt\n",
      "test_266.pt\n",
      "test_302.pt\n",
      "test_212.pt\n",
      "test_11.pt\n",
      "test_31.pt\n",
      "test_554.pt\n",
      "test_292.pt\n",
      "test_172.pt\n",
      "test_369.pt\n",
      "test_93.pt\n",
      "test_370.pt\n",
      "test_305.pt\n",
      "test_379.pt\n",
      "test_150.pt\n",
      "test_193.pt\n",
      "test_366.pt\n",
      "test_54.pt\n",
      "test_148.pt\n",
      "test_561.pt\n",
      "test_504.pt\n",
      "test_23.pt\n",
      "test_442.pt\n",
      "test_313.pt\n",
      "test_271.pt\n",
      "test_100.pt\n",
      "test_511.pt\n",
      "test_547.pt\n",
      "test_12.pt\n",
      "test_13.pt\n",
      "test_258.pt\n",
      "test_209.pt\n",
      "test_90.pt\n",
      "test_270.pt\n",
      "test_355.pt\n",
      "test_357.pt\n",
      "test_329.pt\n",
      "test_111.pt\n",
      "test_567.pt\n",
      "test_256.pt\n",
      "test_485.pt\n",
      "test_412.pt\n",
      "test_518.pt\n",
      "test_53.pt\n",
      "test_312.pt\n",
      "test_116.pt\n",
      "test_318.pt\n",
      "test_265.pt\n",
      "test_557.pt\n",
      "test_75.pt\n",
      "test_410.pt\n",
      "test_564.pt\n",
      "test_574.pt\n",
      "test_80.pt\n",
      "test_180.pt\n",
      "test_306.pt\n",
      "test_273.pt\n",
      "test_261.pt\n",
      "test_288.pt\n",
      "test_263.pt\n",
      "test_345.pt\n",
      "test_341.pt\n",
      "test_503.pt\n",
      "test_21.pt\n",
      "test_170.pt\n",
      "test_570.pt\n",
      "test_186.pt\n",
      "test_467.pt\n",
      "test_381.pt\n",
      "test_173.pt\n",
      "test_237.pt\n",
      "test_195.pt\n",
      "test_133.pt\n",
      "test_220.pt\n",
      "test_468.pt\n",
      "test_141.pt\n",
      "test_373.pt\n",
      "test_322.pt\n",
      "test_179.pt\n",
      "test_358.pt\n",
      "test_536.pt\n",
      "test_528.pt\n",
      "test_191.pt\n",
      "test_571.pt\n",
      "test_174.pt\n",
      "test_326.pt\n",
      "test_260.pt\n",
      "test_65.pt\n",
      "test_114.pt\n",
      "test_120.pt\n",
      "test_72.pt\n",
      "test_291.pt\n",
      "test_479.pt\n",
      "test_507.pt\n",
      "test_404.pt\n",
      "test_482.pt\n",
      "test_360.pt\n",
      "test_42.pt\n",
      "test_81.pt\n",
      "test_308.pt\n",
      "test_562.pt\n",
      "test_197.pt\n",
      "test_328.pt\n",
      "test_294.pt\n",
      "test_533.pt\n",
      "test_77.pt\n",
      "test_184.pt\n",
      "test_7.pt\n",
      "test_39.pt\n",
      "test_399.pt\n",
      "test_526.pt\n",
      "test_473.pt\n",
      "test_330.pt\n",
      "test_311.pt\n",
      "test_26.pt\n",
      "test_466.pt\n",
      "test_239.pt\n",
      "test_481.pt\n",
      "test_208.pt\n",
      "test_351.pt\n",
      "test_448.pt\n",
      "test_250.pt\n",
      "test_3.pt\n",
      "test_63.pt\n",
      "test_246.pt\n",
      "test_540.pt\n",
      "test_48.pt\n",
      "test_68.pt\n",
      "test_128.pt\n",
      "test_46.pt\n",
      "test_253.pt\n",
      "test_66.pt\n",
      "test_424.pt\n",
      "test_35.pt\n",
      "test_493.pt\n",
      "test_469.pt\n",
      "test_130.pt\n",
      "test_290.pt\n",
      "test_83.pt\n",
      "test_361.pt\n",
      "test_420.pt\n",
      "test_74.pt\n",
      "test_69.pt\n",
      "test_224.pt\n",
      "test_105.pt\n",
      "test_340.pt\n",
      "test_257.pt\n",
      "test_367.pt\n",
      "test_278.pt\n",
      "test_41.pt\n",
      "test_460.pt\n",
      "test_347.pt\n",
      "test_185.pt\n",
      "test_408.pt\n",
      "test_297.pt\n",
      "test_419.pt\n",
      "test_79.pt\n",
      "test_414.pt\n",
      "test_465.pt\n",
      "test_430.pt\n",
      "test_88.pt\n",
      "test_231.pt\n",
      "test_295.pt\n",
      "test_421.pt\n",
      "test_462.pt\n",
      "test_189.pt\n",
      "test_372.pt\n",
      "test_383.pt\n",
      "test_20.pt\n",
      "test_132.pt\n",
      "test_495.pt\n",
      "test_426.pt\n",
      "test_386.pt\n",
      "test_314.pt\n",
      "test_476.pt\n",
      "test_92.pt\n",
      "test_164.pt\n",
      "test_436.pt\n",
      "test_245.pt\n",
      "test_175.pt\n",
      "test_505.pt\n",
      "test_269.pt\n",
      "test_337.pt\n",
      "test_121.pt\n",
      "test_423.pt\n",
      "test_384.pt\n",
      "test_486.pt\n",
      "test_458.pt\n",
      "test_82.pt\n",
      "test_36.pt\n",
      "test_254.pt\n",
      "test_71.pt\n",
      "test_107.pt\n",
      "test_106.pt\n",
      "test_475.pt\n",
      "test_300.pt\n",
      "test_550.pt\n",
      "test_110.pt\n",
      "test_151.pt\n",
      "test_569.pt\n",
      "test_296.pt\n",
      "test_407.pt\n",
      "test_477.pt\n",
      "test_156.pt\n",
      "test_309.pt\n",
      "test_371.pt\n",
      "test_339.pt\n",
      "test_498.pt\n",
      "test_487.pt\n",
      "test_333.pt\n",
      "test_282.pt\n",
      "test_368.pt\n",
      "test_181.pt\n",
      "test_425.pt\n",
      "test_342.pt\n",
      "test_451.pt\n",
      "test_248.pt\n",
      "test_438.pt\n",
      "test_506.pt\n",
      "test_532.pt\n",
      "test_9.pt\n",
      "test_58.pt\n",
      "test_524.pt\n",
      "test_413.pt\n",
      "test_286.pt\n",
      "test_52.pt\n",
      "test_67.pt\n",
      "test_299.pt\n",
      "test_176.pt\n",
      "test_427.pt\n",
      "test_464.pt\n",
      "test_445.pt\n",
      "test_0.pt\n",
      "test_549.pt\n",
      "test_303.pt\n",
      "test_397.pt\n",
      "test_350.pt\n",
      "test_104.pt\n",
      "test_500.pt\n",
      "test_472.pt\n",
      "test_496.pt\n",
      "test_489.pt\n",
      "test_251.pt\n",
      "test_531.pt\n",
      "test_456.pt\n",
      "test_30.pt\n",
      "test_204.pt\n",
      "test_559.pt\n",
      "test_457.pt\n",
      "test_385.pt\n",
      "test_440.pt\n",
      "test_568.pt\n",
      "test_38.pt\n",
      "test_200.pt\n",
      "test_149.pt\n",
      "test_453.pt\n",
      "test_281.pt\n",
      "test_349.pt\n",
      "test_126.pt\n",
      "test_398.pt\n",
      "test_483.pt\n",
      "test_325.pt\n",
      "test_225.pt\n",
      "test_217.pt\n",
      "test_284.pt\n",
      "test_437.pt\n",
      "test_389.pt\n",
      "test_112.pt\n",
      "test_157.pt\n",
      "test_545.pt\n",
      "test_10.pt\n",
      "test_354.pt\n",
      "test_394.pt\n",
      "test_319.pt\n",
      "test_215.pt\n",
      "test_188.pt\n",
      "test_356.pt\n",
      "test_380.pt\n",
      "test_70.pt\n",
      "test_287.pt\n",
      "test_47.pt\n",
      "test_279.pt\n",
      "test_205.pt\n",
      "test_307.pt\n",
      "test_5.pt\n",
      "test_230.pt\n",
      "test_152.pt\n",
      "test_546.pt\n",
      "test_206.pt\n",
      "test_229.pt\n",
      "test_285.pt\n",
      "test_142.pt\n",
      "test_403.pt\n",
      "test_203.pt\n",
      "test_529.pt\n",
      "test_405.pt\n",
      "test_396.pt\n",
      "test_283.pt\n",
      "test_255.pt\n",
      "test_364.pt\n",
      "test_222.pt\n",
      "test_523.pt\n",
      "test_97.pt\n",
      "test_113.pt\n",
      "test_182.pt\n",
      "test_96.pt\n",
      "test_359.pt\n",
      "test_433.pt\n",
      "test_390.pt\n",
      "test_566.pt\n",
      "test_242.pt\n",
      "test_14.pt\n",
      "test_418.pt\n",
      "test_190.pt\n",
      "test_490.pt\n",
      "test_86.pt\n",
      "test_160.pt\n",
      "test_73.pt\n",
      "test_134.pt\n",
      "test_494.pt\n",
      "test_37.pt\n",
      "test_393.pt\n",
      "test_49.pt\n",
      "test_166.pt\n",
      "test_431.pt\n",
      "test_264.pt\n",
      "test_434.pt\n",
      "test_513.pt\n",
      "test_43.pt\n",
      "test_162.pt\n",
      "test_158.pt\n",
      "test_352.pt\n",
      "test_192.pt\n",
      "test_221.pt\n",
      "test_64.pt\n",
      "test_4.pt\n",
      "test_216.pt\n",
      "test_124.pt\n",
      "test_344.pt\n",
      "test_129.pt\n",
      "test_226.pt\n",
      "test_233.pt\n",
      "test_137.pt\n",
      "test_323.pt\n",
      "test_572.pt\n",
      "test_56.pt\n",
      "test_168.pt\n",
      "test_2.pt\n",
      "test_51.pt\n",
      "test_474.pt\n",
      "test_94.pt\n",
      "test_76.pt\n",
      "test_492.pt\n",
      "test_552.pt\n",
      "test_198.pt\n",
      "test_15.pt\n",
      "test_535.pt\n",
      "test_517.pt\n",
      "test_22.pt\n",
      "test_118.pt\n",
      "test_228.pt\n",
      "test_573.pt\n",
      "test_55.pt\n",
      "test_252.pt\n",
      "test_138.pt\n",
      "test_478.pt\n",
      "test_382.pt\n",
      "test_541.pt\n",
      "test_101.pt\n",
      "test_259.pt\n",
      "test_539.pt\n",
      "test_429.pt\n",
      "test_310.pt\n",
      "test_525.pt\n",
      "test_428.pt\n",
      "test_439.pt\n",
      "test_455.pt\n",
      "test_119.pt\n",
      "test_449.pt\n",
      "test_187.pt\n",
      "test_6.pt\n",
      "test_316.pt\n",
      "test_575.pt\n",
      "test_272.pt\n",
      "test_213.pt\n",
      "test_548.pt\n",
      "test_268.pt\n",
      "test_99.pt\n",
      "test_280.pt\n",
      "test_363.pt\n",
      "test_392.pt\n",
      "test_522.pt\n",
      "test_415.pt\n",
      "test_218.pt\n",
      "test_84.pt\n",
      "test_19.pt\n",
      "test_378.pt\n",
      "test_406.pt\n",
      "test_538.pt\n",
      "test_267.pt\n",
      "test_210.pt\n",
      "test_520.pt\n",
      "test_452.pt\n",
      "test_139.pt\n",
      "test_211.pt\n",
      "test_25.pt\n",
      "test_376.pt\n",
      "test_140.pt\n",
      "test_543.pt\n",
      "test_289.pt\n",
      "test_24.pt\n",
      "test_145.pt\n",
      "test_560.pt\n",
      "test_387.pt\n",
      "test_236.pt\n",
      "test_144.pt\n",
      "test_411.pt\n",
      "test_276.pt\n",
      "test_537.pt\n",
      "test_207.pt\n",
      "test_558.pt\n",
      "test_240.pt\n",
      "test_555.pt\n",
      "test_183.pt\n",
      "test_409.pt\n",
      "test_484.pt\n",
      "test_402.pt\n",
      "test_519.pt\n",
      "test_17.pt\n",
      "test_348.pt\n",
      "test_497.pt\n",
      "test_247.pt\n",
      "test_343.pt\n",
      "test_576.pt\n",
      "test_117.pt\n",
      "test_125.pt\n",
      "test_375.pt\n",
      "test_320.pt\n",
      "test_516.pt\n",
      "test_40.pt\n",
      "test_249.pt\n",
      "test_147.pt\n",
      "test_234.pt\n",
      "test_388.pt\n",
      "test_202.pt\n",
      "test_115.pt\n",
      "test_463.pt\n",
      "test_422.pt\n",
      "test_335.pt\n",
      "test_321.pt\n",
      "test_95.pt\n",
      "test_499.pt\n",
      "test_353.pt\n",
      "test_235.pt\n",
      "test_514.pt\n",
      "test_332.pt\n",
      "test_395.pt\n",
      "test_563.pt\n",
      "test_103.pt\n",
      "test_57.pt\n",
      "test_301.pt\n",
      "test_153.pt\n",
      "test_34.pt\n",
      "test_161.pt\n",
      "test_416.pt\n",
      "test_491.pt\n",
      "test_461.pt\n",
      "test_432.pt\n",
      "test_223.pt\n",
      "test_146.pt\n",
      "test_377.pt\n",
      "test_262.pt\n",
      "test_32.pt\n",
      "test_123.pt\n",
      "test_87.pt\n",
      "test_441.pt\n",
      "test_327.pt\n",
      "test_446.pt\n",
      "test_331.pt\n",
      "test_400.pt\n",
      "test_199.pt\n",
      "test_171.pt\n",
      "test_102.pt\n",
      "test_60.pt\n",
      "test_293.pt\n",
      "test_29.pt\n",
      "test_336.pt\n",
      "test_470.pt\n",
      "test_109.pt\n",
      "test_553.pt\n",
      "test_324.pt\n",
      "test_154.pt\n",
      "test_508.pt\n",
      "test_551.pt\n",
      "test_542.pt\n",
      "test_78.pt\n",
      "test_510.pt\n",
      "test_89.pt\n",
      "test_136.pt\n",
      "test_365.pt\n",
      "test_227.pt\n",
      "test_315.pt\n",
      "test_454.pt\n"
     ]
    }
   ],
   "source": [
    "for folder in os.listdir('artifacts/data_transformation/test'):\n",
    "    print(folder)"
   ]
  },
  {
   "cell_type": "code",
   "execution_count": 24,
   "metadata": {},
   "outputs": [
    {
     "name": "stdout",
     "output_type": "stream",
     "text": [
      "True\n"
     ]
    }
   ],
   "source": [
    "if cnf == cnf1:\n",
    "    print(True)\n",
    "else:\n",
    "    print(False)"
   ]
  },
  {
   "cell_type": "code",
   "execution_count": 4,
   "metadata": {},
   "outputs": [
    {
     "name": "stdout",
     "output_type": "stream",
     "text": [
      "[[5 4]\n",
      " [3 7]]\n"
     ]
    }
   ],
   "source": [
    "preds =  [0, 0, 0, 0, 0, 1, 1, 1, 1, 1, 1, 1, 0, 0, 0, 1, 1, 1, 1]\n",
    "labels = [0, 0, 0, 0, 0, 1, 1, 1, 1, 1, 1, 1, 1, 1, 1, 0, 0, 0, 0]\n",
    "\n",
    "cm = confusion_matrix(labels, preds)\n",
    "print(cm)\n",
    "\n",
    "plot_confusion_matrix(cm, 'research', 0)"
   ]
  },
  {
   "cell_type": "code",
   "execution_count": 4,
   "metadata": {},
   "outputs": [],
   "source": [
    "hiv = pd.read_csv('artifacts/data_ingestion/HIV.csv')"
   ]
  },
  {
   "cell_type": "code",
   "execution_count": 6,
   "metadata": {},
   "outputs": [
    {
     "data": {
      "text/plain": [
       "HIV_active\n",
       "0    39684\n",
       "1     1443\n",
       "Name: count, dtype: int64"
      ]
     },
     "execution_count": 6,
     "metadata": {},
     "output_type": "execute_result"
    }
   ],
   "source": [
    "hiv['HIV_active'].value_counts()"
   ]
  },
  {
   "cell_type": "code",
   "execution_count": 14,
   "metadata": {},
   "outputs": [],
   "source": [
    "train_df, test_df = train_test_split(hiv, stratify=hiv['HIV_active'], test_size=0.2, random_state=42)"
   ]
  },
  {
   "cell_type": "code",
   "execution_count": 10,
   "metadata": {},
   "outputs": [
    {
     "data": {
      "text/plain": [
       "HIV_active\n",
       "0    7937\n",
       "1     289\n",
       "Name: count, dtype: int64"
      ]
     },
     "execution_count": 10,
     "metadata": {},
     "output_type": "execute_result"
    }
   ],
   "source": [
    "test_df['HIV_active'].value_counts()"
   ]
  },
  {
   "cell_type": "code",
   "execution_count": null,
   "metadata": {},
   "outputs": [],
   "source": [
    "def t_t_split_balance(df, split_size):\n",
    "    # Separate positive and negative cases\n",
    "    p_val = df[df.HIV_active == 1].to_numpy()\n",
    "    n_val = df[df.HIV_active == 0].to_numpy()\n",
    "\n",
    "    # Ensure class balance by selecting the smaller group as the target\n",
    "    if len(p_val) >= len(n_val):\n",
    "        big, small = p_val, n_val\n",
    "    else:\n",
    "        big, small = n_val, p_val\n",
    "\n",
    "    # Stratified test split\n",
    "    small_train, small_test = train_test_split(small, test_size=split_size, random_state=42)\n",
    "    big_train, big_test = train_test_split(big, test_size=(split_size * len(small) / len(big)), random_state=42)\n",
    "\n",
    "    test = np.concatenate([small_test, big_test])\n",
    "    \n",
    "    # Ensure the train set remains balanced by oversampling the smaller class\n",
    "    train = np.concatenate([big_train, random.choices(small_train, k=len(big_train) - len(small_train))])\n",
    "\n",
    "    # Convert back to DataFrame\n",
    "    train_df = pd.DataFrame(train, columns=df.columns)\n",
    "    test_df = pd.DataFrame(test, columns=df.columns)\n",
    "\n",
    "    return train_df.sample(frac=1, random_state=42), test_df.sample(frac=1, random_state=42)"
   ]
  },
  {
   "cell_type": "code",
   "execution_count": null,
   "metadata": {},
   "outputs": [],
   "source": [
    "train_df, test_df = t_t_split_balance(hiv, 0.2)"
   ]
  },
  {
   "cell_type": "code",
   "execution_count": null,
   "metadata": {},
   "outputs": [],
   "source": [
    "train_df.head()"
   ]
  },
  {
   "cell_type": "code",
   "execution_count": null,
   "metadata": {},
   "outputs": [],
   "source": [
    "p_list = p_df.values.tolist()"
   ]
  },
  {
   "cell_type": "code",
   "execution_count": null,
   "metadata": {},
   "outputs": [],
   "source": [
    "test = random.choices(p_list, k=int(0.2*len(p_list)))\n",
    "test"
   ]
  },
  {
   "cell_type": "code",
   "execution_count": null,
   "metadata": {},
   "outputs": [],
   "source": [
    "test = pd.DataFrame(test)"
   ]
  },
  {
   "cell_type": "code",
   "execution_count": null,
   "metadata": {},
   "outputs": [],
   "source": [
    "for row in hiv.head().iterrows():\n",
    "    if hiv.eq(row[1]).all(axis=1).any():\n",
    "        print(True)"
   ]
  },
  {
   "cell_type": "code",
   "execution_count": null,
   "metadata": {},
   "outputs": [],
   "source": [
    "if list(test_df.columns) == ['smils', 'activity', 'HIV_active']:\n",
    "    print(True)"
   ]
  },
  {
   "cell_type": "code",
   "execution_count": null,
   "metadata": {},
   "outputs": [],
   "source": [
    "test_df['HIV_active'][0] = None"
   ]
  },
  {
   "cell_type": "code",
   "execution_count": null,
   "metadata": {},
   "outputs": [],
   "source": [
    "bool(test_df['HIV_active'].isnull().sum())"
   ]
  },
  {
   "cell_type": "code",
   "execution_count": 4,
   "metadata": {},
   "outputs": [],
   "source": [
    "train_pth = 'artifacts/data_transformation/train.csv'\n",
    "test_pth = 'artifacts/data_transformation/test.csv'\n",
    "train = pd.read_csv(train_pth)\n",
    "test = pd.read_csv(test_pth)\n",
    "# list(train.index)\n",
    "# train.HIV_active.isna().sum().sum()\n"
   ]
  },
  {
   "cell_type": "code",
   "execution_count": 5,
   "metadata": {},
   "outputs": [
    {
     "data": {
      "text/plain": [
       "HIV_active\n",
       "0    39388\n",
       "1     1154\n",
       "Name: count, dtype: int64"
      ]
     },
     "execution_count": 5,
     "metadata": {},
     "output_type": "execute_result"
    }
   ],
   "source": [
    "train.HIV_active.value_counts()"
   ]
  },
  {
   "cell_type": "code",
   "execution_count": null,
   "metadata": {},
   "outputs": [],
   "source": [
    "import torch\n",
    "\n",
    "mol = torch.load('artifacts/data_transformation/test/test_0.pt', weights_only=False)"
   ]
  },
  {
   "cell_type": "code",
   "execution_count": null,
   "metadata": {},
   "outputs": [],
   "source": [
    "mol.y.item()"
   ]
  },
  {
   "cell_type": "code",
   "execution_count": null,
   "metadata": {},
   "outputs": [],
   "source": [
    "from sklearn.model_selection import train_test_split\n",
    "\n",
    "train_df, val_df = train_test_split(train, test_size=0.2, random_state=42, stratify=train.HIV_active)"
   ]
  },
  {
   "cell_type": "code",
   "execution_count": null,
   "metadata": {},
   "outputs": [],
   "source": [
    "val_df.HIV_active.value_counts()"
   ]
  },
  {
   "cell_type": "code",
   "execution_count": null,
   "metadata": {},
   "outputs": [],
   "source": [
    "type(val_df.index.tolist()[0])"
   ]
  },
  {
   "cell_type": "code",
   "execution_count": null,
   "metadata": {},
   "outputs": [],
   "source": [
    "name = [f'test_{i+1}' for i in train.index]\n",
    "train.insert(0, 'name', name)\n",
    "train.head()"
   ]
  },
  {
   "cell_type": "code",
   "execution_count": null,
   "metadata": {},
   "outputs": [],
   "source": [
    "mol_obj = Chem.MolFromSmiles(train.smiles[1])"
   ]
  },
  {
   "cell_type": "code",
   "execution_count": null,
   "metadata": {},
   "outputs": [],
   "source": [
    "for atom in mol_obj.GetAtoms():\n",
    "    print(atom.GetSymbol(), atom.GetChiralTag())"
   ]
  },
  {
   "cell_type": "code",
   "execution_count": null,
   "metadata": {},
   "outputs": [],
   "source": [
    "bonds = mol_obj.GetBonds()\n",
    "\n",
    "for bond in bonds:\n",
    "    print(bond.GetBeginAtom().GetAtomicNum())\n",
    "    print(bond.GetIsConjugated())\n",
    "    print(bond.GetEndAtom().GetAtomicNum())\n",
    "    print('___')"
   ]
  },
  {
   "cell_type": "code",
   "execution_count": null,
   "metadata": {},
   "outputs": [],
   "source": [
    "featurizer = dc.feat.MolGraphConvFeaturizer(use_edges=True)\n",
    "f = featurizer._featurize(mol_obj)\n",
    "# data = f.to_pyg_graph()\n",
    "f.node_features"
   ]
  },
  {
   "cell_type": "code",
   "execution_count": null,
   "metadata": {},
   "outputs": [],
   "source": [
    "datasets = {name: pd.read_csv(csv) for name, csv in \n",
    "                zip([\"train\", \"test\"], ['artifacts/data_transformation/train.csv', 'artifacts/data_transformation/test.csv'])}"
   ]
  },
  {
   "cell_type": "code",
   "execution_count": null,
   "metadata": {},
   "outputs": [],
   "source": [
    "datasets"
   ]
  },
  {
   "cell_type": "code",
   "execution_count": null,
   "metadata": {},
   "outputs": [],
   "source": [
    "from hivclass.utils.molecule_dataset import MoleculeDataset\n",
    "import sys"
   ]
  },
  {
   "cell_type": "code",
   "execution_count": null,
   "metadata": {},
   "outputs": [],
   "source": [
    "train_dataset = MoleculeDataset(\n",
    "    'artifacts/data_ingestion',\n",
    "    'artifacts/data_transformation',\n",
    "    'HIV.csv',\n",
    "    ['test', 'train', 'test.csv', 'train.csv']\n",
    ")"
   ]
  },
  {
   "cell_type": "code",
   "execution_count": null,
   "metadata": {},
   "outputs": [],
   "source": [
    "sample = train_dataset.get(0)"
   ]
  },
  {
   "cell_type": "code",
   "execution_count": null,
   "metadata": {},
   "outputs": [],
   "source": [
    "train_dataset.len()"
   ]
  },
  {
   "cell_type": "code",
   "execution_count": null,
   "metadata": {},
   "outputs": [],
   "source": [
    "non = 0\n",
    "for i, sample in enumerate(train_dataset):\n",
    "    sys.stdout.write(f'Count: {i}')\n",
    "    sys.stdout.flush()\n",
    "    print()\n",
    "    \n",
    "    if sample.y.item() == None:\n",
    "        non += 1\n",
    "\n",
    "print(non)"
   ]
  },
  {
   "cell_type": "code",
   "execution_count": null,
   "metadata": {},
   "outputs": [],
   "source": [
    "train_dataset.get(15821)"
   ]
  },
  {
   "cell_type": "code",
   "execution_count": null,
   "metadata": {},
   "outputs": [],
   "source": [
    "model_folder_path = 'artifacts/model_trainer/models/2'\n",
    "model_name = os.listdir(model_folder_path)[0]\n",
    "model_path = os.path.join(model_folder_path, model_name)"
   ]
  },
  {
   "cell_type": "code",
   "execution_count": null,
   "metadata": {},
   "outputs": [],
   "source": [
    "model_path"
   ]
  },
  {
   "cell_type": "code",
   "execution_count": null,
   "metadata": {},
   "outputs": [],
   "source": []
  }
 ],
 "metadata": {
  "kernelspec": {
   "display_name": "env",
   "language": "python",
   "name": "python3"
  },
  "language_info": {
   "codemirror_mode": {
    "name": "ipython",
    "version": 3
   },
   "file_extension": ".py",
   "mimetype": "text/x-python",
   "name": "python",
   "nbconvert_exporter": "python",
   "pygments_lexer": "ipython3",
   "version": "3.10.12"
  }
 },
 "nbformat": 4,
 "nbformat_minor": 2
}
